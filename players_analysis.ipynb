{
 "cells": [
  {
   "attachments": {},
   "cell_type": "markdown",
   "metadata": {},
   "source": [
    "# EDA in Fifa 23 - Ultimate team Dataset\n",
    "*EDA - Exploratory Data Analysys*\n",
    "\n",
    "## Context\n",
    "In Fifa 23, the Ultimate Team game mode allows players to build teams using \"cards\" representing real-life players, with multiple versions available.\n",
    "\n",
    "Every month, new campaigns are launched by developers with updated player versions to enhance team performance. \n",
    "\n",
    "## Goal\n",
    "The goal of this notebook is to load, cleaning and analyze the dataset.\n",
    "\n",
    "## The data\n",
    "The data was obtained by scraping information from the website Futbin.com, purely for study purposes.\n",
    "\n",
    "### Explaning the data:\n",
    "\n",
    "- Name: Name of player\n",
    "- Team: Team of player\n",
    "- Country: Country of player\n",
    "- League: League of player\n",
    "- Rating: Overall rating of player, using the stats to calculate the overall\n",
    "- Rare: The lever of rarity of player, could be Rare or Non-rare\n",
    "- Version Color: Version of card's player\n",
    "- Position: Main position of player\n",
    "- Other position: Variaty of position that player can play\n",
    "- Version: The campaign version of this card\n",
    "- Run type: Type of running, differs in game\n",
    "- Price: Price of this card when the data was extracted\n",
    "- Skill: Skill moves, the ability of execute some dribles\n",
    "- Weak foot: The ability of using the weak foot.\n",
    "- Attack rate: The ability of going to attack\n",
    "- Defense rate: The ability of going to defense\n",
    "- Pace: Ability to run (0 - 100)\n",
    "- Shoot: Ability to shoot (0 - 100)\n",
    "- Pass: Ability to pass (0 - 100)\n",
    "- Drible: Ability to drible/ agility (0 - 100)\n",
    "- Defense: Ability to execute defensive moves (0 - 100)\n",
    "- Physical: Physical ability (0 - 100)\n",
    "- Body type: Type of body, some players have a unique body type\n",
    "- Height (cm): Player's Height in centimeters\n",
    "- Weight (kg): Player's weight in kilograms\n",
    "- Popularity: Upvotes/ feedbak of players in Futbin website\n",
    "- Base stats: Stats considering Pace, Shoot, Pass, Drible, Defense and Physical\n",
    "- In game stats: Stats considering all atributes and player's behaviour in game\n",
    "- Game version: Ultimate team version\n",
    "- Updated at: Date of extraction"
   ]
  },
  {
   "attachments": {},
   "cell_type": "markdown",
   "metadata": {},
   "source": [
    "# Step 1 - Import Libs, load data and a overview on Dataframe\n",
    "The first step is import the libs that we'll use in this project.\n",
    "\n",
    "We should load the data from a local file (csv) and store it in a dataframe.\n",
    "\n",
    "After that, we should take a look on the dataset, check their dataypes, the size and etc."
   ]
  },
  {
   "cell_type": "code",
   "execution_count": 46,
   "metadata": {},
   "outputs": [
    {
     "name": "stdout",
     "output_type": "stream",
     "text": [
      "The nb_black extension is already loaded. To reload it, use:\n",
      "  %reload_ext nb_black\n"
     ]
    },
    {
     "data": {
      "application/javascript": "\n            setTimeout(function() {\n                var nbb_cell_id = 46;\n                var nbb_unformatted_code = \"import pandas as pd\\nimport re\\nimport matplotlib.pylab as plt\\nimport seaborn as sns\\nimport numpy as np\\n\\n# define style for charts\\nplt.style.use('ggplot')\\n\\n# expand number of columns to better viz\\npd.set_option('display.max_columns', 50)\\n\\n%load_ext nb_black\\n\\ndf_players = pd.read_csv(\\\"data/players.csv\\\")\";\n                var nbb_formatted_code = \"import pandas as pd\\nimport re\\nimport matplotlib.pylab as plt\\nimport seaborn as sns\\nimport numpy as np\\n\\n# define style for charts\\nplt.style.use(\\\"ggplot\\\")\\n\\n# expand number of columns to better viz\\npd.set_option(\\\"display.max_columns\\\", 50)\\n\\n%load_ext nb_black\\n\\ndf_players = pd.read_csv(\\\"data/players.csv\\\")\";\n                var nbb_cells = Jupyter.notebook.get_cells();\n                for (var i = 0; i < nbb_cells.length; ++i) {\n                    if (nbb_cells[i].input_prompt_number == nbb_cell_id) {\n                        if (nbb_cells[i].get_text() == nbb_unformatted_code) {\n                             nbb_cells[i].set_text(nbb_formatted_code);\n                        }\n                        break;\n                    }\n                }\n            }, 500);\n            ",
      "text/plain": [
       "<IPython.core.display.Javascript object>"
      ]
     },
     "metadata": {},
     "output_type": "display_data"
    }
   ],
   "source": [
    "import pandas as pd\n",
    "import re\n",
    "import matplotlib.pylab as plt\n",
    "import seaborn as sns\n",
    "import numpy as np\n",
    "\n",
    "# define style for charts\n",
    "plt.style.use('ggplot')\n",
    "\n",
    "# expand number of columns to better viz\n",
    "pd.set_option('display.max_columns', 50)\n",
    "\n",
    "%load_ext nb_black\n",
    "\n",
    "df_players = pd.read_csv(\"data/players.csv\")"
   ]
  },
  {
   "cell_type": "code",
   "execution_count": 47,
   "metadata": {},
   "outputs": [
    {
     "data": {
      "text/plain": [
       "(4020, 30)"
      ]
     },
     "execution_count": 47,
     "metadata": {},
     "output_type": "execute_result"
    },
    {
     "data": {
      "application/javascript": "\n            setTimeout(function() {\n                var nbb_cell_id = 47;\n                var nbb_unformatted_code = \"# check the size of dataset (rows, columns)\\ndf_players.shape\";\n                var nbb_formatted_code = \"# check the size of dataset (rows, columns)\\ndf_players.shape\";\n                var nbb_cells = Jupyter.notebook.get_cells();\n                for (var i = 0; i < nbb_cells.length; ++i) {\n                    if (nbb_cells[i].input_prompt_number == nbb_cell_id) {\n                        if (nbb_cells[i].get_text() == nbb_unformatted_code) {\n                             nbb_cells[i].set_text(nbb_formatted_code);\n                        }\n                        break;\n                    }\n                }\n            }, 500);\n            ",
      "text/plain": [
       "<IPython.core.display.Javascript object>"
      ]
     },
     "metadata": {},
     "output_type": "display_data"
    }
   ],
   "source": [
    "# check the size of dataset (rows, columns)\n",
    "df_players.shape"
   ]
  },
  {
   "cell_type": "code",
   "execution_count": 48,
   "metadata": {},
   "outputs": [
    {
     "data": {
      "text/html": [
       "<div>\n",
       "<style scoped>\n",
       "    .dataframe tbody tr th:only-of-type {\n",
       "        vertical-align: middle;\n",
       "    }\n",
       "\n",
       "    .dataframe tbody tr th {\n",
       "        vertical-align: top;\n",
       "    }\n",
       "\n",
       "    .dataframe thead th {\n",
       "        text-align: right;\n",
       "    }\n",
       "</style>\n",
       "<table border=\"1\" class=\"dataframe\">\n",
       "  <thead>\n",
       "    <tr style=\"text-align: right;\">\n",
       "      <th></th>\n",
       "      <th>Name</th>\n",
       "      <th>Team</th>\n",
       "      <th>Country</th>\n",
       "      <th>League</th>\n",
       "      <th>Rating</th>\n",
       "      <th>Rare</th>\n",
       "      <th>Version_color</th>\n",
       "      <th>Position</th>\n",
       "      <th>Other_Positions</th>\n",
       "      <th>Version</th>\n",
       "      <th>Run_type</th>\n",
       "      <th>Price</th>\n",
       "      <th>Skill</th>\n",
       "      <th>Weak_foot</th>\n",
       "      <th>Attack_rate</th>\n",
       "      <th>Defense_rate</th>\n",
       "      <th>Pace</th>\n",
       "      <th>Shoot</th>\n",
       "      <th>Pass</th>\n",
       "      <th>Drible</th>\n",
       "      <th>Defense</th>\n",
       "      <th>Physical</th>\n",
       "      <th>Body_type</th>\n",
       "      <th>Height_cm</th>\n",
       "      <th>Weight (kg)</th>\n",
       "      <th>Popularity</th>\n",
       "      <th>Base_Stats</th>\n",
       "      <th>In_Game_Stats</th>\n",
       "      <th>Game_version</th>\n",
       "      <th>Updated_at</th>\n",
       "    </tr>\n",
       "  </thead>\n",
       "  <tbody>\n",
       "    <tr>\n",
       "      <th>3749</th>\n",
       "      <td>Darío Benedetto</td>\n",
       "      <td>Boca Juniors</td>\n",
       "      <td>Argentina</td>\n",
       "      <td>CONMEBOL Libertadores</td>\n",
       "      <td>77</td>\n",
       "      <td>rare</td>\n",
       "      <td>libertadores_b gold</td>\n",
       "      <td>ST</td>\n",
       "      <td>CF</td>\n",
       "      <td>NaN</td>\n",
       "      <td>Controlled</td>\n",
       "      <td>750</td>\n",
       "      <td>3</td>\n",
       "      <td>3</td>\n",
       "      <td>M</td>\n",
       "      <td>M</td>\n",
       "      <td>75</td>\n",
       "      <td>79</td>\n",
       "      <td>69</td>\n",
       "      <td>75</td>\n",
       "      <td>38</td>\n",
       "      <td>70</td>\n",
       "      <td>Average</td>\n",
       "      <td>177.0</td>\n",
       "      <td>75.0</td>\n",
       "      <td>9</td>\n",
       "      <td>406</td>\n",
       "      <td>1995</td>\n",
       "      <td>FIFA 23</td>\n",
       "      <td>2023-04-17</td>\n",
       "    </tr>\n",
       "    <tr>\n",
       "      <th>2222</th>\n",
       "      <td>Ulisses Garcia</td>\n",
       "      <td>BSC Young Boys</td>\n",
       "      <td>Switzerland</td>\n",
       "      <td>Raiffeisen Super L. (SUI 1)</td>\n",
       "      <td>82</td>\n",
       "      <td>rare</td>\n",
       "      <td>if gold</td>\n",
       "      <td>LB</td>\n",
       "      <td>LWB,LM</td>\n",
       "      <td>IF</td>\n",
       "      <td>Controlled</td>\n",
       "      <td>11K</td>\n",
       "      <td>3</td>\n",
       "      <td>3</td>\n",
       "      <td>H</td>\n",
       "      <td>M</td>\n",
       "      <td>90</td>\n",
       "      <td>54</td>\n",
       "      <td>74</td>\n",
       "      <td>80</td>\n",
       "      <td>78</td>\n",
       "      <td>86</td>\n",
       "      <td>Average</td>\n",
       "      <td>183.0</td>\n",
       "      <td>82.0</td>\n",
       "      <td>38</td>\n",
       "      <td>462</td>\n",
       "      <td>2085</td>\n",
       "      <td>FIFA 23</td>\n",
       "      <td>2023-04-17</td>\n",
       "    </tr>\n",
       "    <tr>\n",
       "      <th>3522</th>\n",
       "      <td>Aymen Barkok</td>\n",
       "      <td>Morocco</td>\n",
       "      <td>Morocco</td>\n",
       "      <td>World Cup</td>\n",
       "      <td>78</td>\n",
       "      <td>rare</td>\n",
       "      <td>wc_player gold</td>\n",
       "      <td>CAM</td>\n",
       "      <td>CM,CF</td>\n",
       "      <td>World Cup Player</td>\n",
       "      <td>Controlled</td>\n",
       "      <td>0</td>\n",
       "      <td>4</td>\n",
       "      <td>3</td>\n",
       "      <td>H</td>\n",
       "      <td>M</td>\n",
       "      <td>81</td>\n",
       "      <td>70</td>\n",
       "      <td>73</td>\n",
       "      <td>83</td>\n",
       "      <td>59</td>\n",
       "      <td>69</td>\n",
       "      <td>High &amp; Average+</td>\n",
       "      <td>189.0</td>\n",
       "      <td>82.0</td>\n",
       "      <td>1</td>\n",
       "      <td>435</td>\n",
       "      <td>2013</td>\n",
       "      <td>FIFA 23</td>\n",
       "      <td>2023-04-17</td>\n",
       "    </tr>\n",
       "    <tr>\n",
       "      <th>2040</th>\n",
       "      <td>Matias Vecino</td>\n",
       "      <td>SS Lazio</td>\n",
       "      <td>Uruguay</td>\n",
       "      <td>Serie A TIM</td>\n",
       "      <td>83</td>\n",
       "      <td>rare</td>\n",
       "      <td>if gold</td>\n",
       "      <td>CDM</td>\n",
       "      <td>CM</td>\n",
       "      <td>IF</td>\n",
       "      <td>Controlled</td>\n",
       "      <td>11.5K</td>\n",
       "      <td>3</td>\n",
       "      <td>3</td>\n",
       "      <td>H</td>\n",
       "      <td>M</td>\n",
       "      <td>70</td>\n",
       "      <td>77</td>\n",
       "      <td>80</td>\n",
       "      <td>82</td>\n",
       "      <td>82</td>\n",
       "      <td>83</td>\n",
       "      <td>High &amp; Average+</td>\n",
       "      <td>187.0</td>\n",
       "      <td>81.0</td>\n",
       "      <td>2</td>\n",
       "      <td>474</td>\n",
       "      <td>2259</td>\n",
       "      <td>FIFA 23</td>\n",
       "      <td>2023-04-17</td>\n",
       "    </tr>\n",
       "    <tr>\n",
       "      <th>3259</th>\n",
       "      <td>Jiří Pavlenka</td>\n",
       "      <td>Werder Bremen</td>\n",
       "      <td>Czech Republic</td>\n",
       "      <td>Bundesliga</td>\n",
       "      <td>78</td>\n",
       "      <td>non-rare</td>\n",
       "      <td>gold</td>\n",
       "      <td>GK</td>\n",
       "      <td>NaN</td>\n",
       "      <td>NaN</td>\n",
       "      <td>Controlled</td>\n",
       "      <td>700</td>\n",
       "      <td>1</td>\n",
       "      <td>3</td>\n",
       "      <td>M</td>\n",
       "      <td>M</td>\n",
       "      <td>81</td>\n",
       "      <td>74</td>\n",
       "      <td>60</td>\n",
       "      <td>84</td>\n",
       "      <td>36</td>\n",
       "      <td>69</td>\n",
       "      <td>High &amp; Average</td>\n",
       "      <td>196.0</td>\n",
       "      <td>81.0</td>\n",
       "      <td>15</td>\n",
       "      <td>404</td>\n",
       "      <td>730</td>\n",
       "      <td>FIFA 23</td>\n",
       "      <td>2023-04-17</td>\n",
       "    </tr>\n",
       "    <tr>\n",
       "      <th>1688</th>\n",
       "      <td>Pedro David Rosendo Marques</td>\n",
       "      <td>NEC Nijmegen</td>\n",
       "      <td>Portugal</td>\n",
       "      <td>Eredivisie</td>\n",
       "      <td>84</td>\n",
       "      <td>rare</td>\n",
       "      <td>objective_reward_3 gold</td>\n",
       "      <td>ST</td>\n",
       "      <td>CF</td>\n",
       "      <td>Squad Foundation</td>\n",
       "      <td>Controlled</td>\n",
       "      <td>0</td>\n",
       "      <td>4</td>\n",
       "      <td>4</td>\n",
       "      <td>H</td>\n",
       "      <td>M</td>\n",
       "      <td>88</td>\n",
       "      <td>84</td>\n",
       "      <td>70</td>\n",
       "      <td>83</td>\n",
       "      <td>40</td>\n",
       "      <td>82</td>\n",
       "      <td>Average</td>\n",
       "      <td>181.0</td>\n",
       "      <td>77.0</td>\n",
       "      <td>281</td>\n",
       "      <td>447</td>\n",
       "      <td>2160</td>\n",
       "      <td>FIFA 23</td>\n",
       "      <td>2023-04-17</td>\n",
       "    </tr>\n",
       "    <tr>\n",
       "      <th>2002</th>\n",
       "      <td>Pepe Reina</td>\n",
       "      <td>Villarreal CF</td>\n",
       "      <td>Spain</td>\n",
       "      <td>LaLiga Santander</td>\n",
       "      <td>83</td>\n",
       "      <td>rare</td>\n",
       "      <td>if gold</td>\n",
       "      <td>GK</td>\n",
       "      <td>NaN</td>\n",
       "      <td>IF</td>\n",
       "      <td>Controlled</td>\n",
       "      <td>11.25K</td>\n",
       "      <td>1</td>\n",
       "      <td>3</td>\n",
       "      <td>M</td>\n",
       "      <td>M</td>\n",
       "      <td>82</td>\n",
       "      <td>83</td>\n",
       "      <td>85</td>\n",
       "      <td>83</td>\n",
       "      <td>52</td>\n",
       "      <td>86</td>\n",
       "      <td>Unique</td>\n",
       "      <td>188.0</td>\n",
       "      <td>92.0</td>\n",
       "      <td>69</td>\n",
       "      <td>471</td>\n",
       "      <td>1003</td>\n",
       "      <td>FIFA 23</td>\n",
       "      <td>2023-04-17</td>\n",
       "    </tr>\n",
       "    <tr>\n",
       "      <th>2309</th>\n",
       "      <td>Neto</td>\n",
       "      <td>AFC Bournemouth</td>\n",
       "      <td>Brazil</td>\n",
       "      <td>Premier League</td>\n",
       "      <td>81</td>\n",
       "      <td>rare</td>\n",
       "      <td>gold</td>\n",
       "      <td>GK</td>\n",
       "      <td>NaN</td>\n",
       "      <td>NaN</td>\n",
       "      <td>Controlled</td>\n",
       "      <td>700</td>\n",
       "      <td>1</td>\n",
       "      <td>2</td>\n",
       "      <td>M</td>\n",
       "      <td>M</td>\n",
       "      <td>82</td>\n",
       "      <td>78</td>\n",
       "      <td>77</td>\n",
       "      <td>80</td>\n",
       "      <td>54</td>\n",
       "      <td>78</td>\n",
       "      <td>High &amp; Average+</td>\n",
       "      <td>190.0</td>\n",
       "      <td>84.0</td>\n",
       "      <td>56</td>\n",
       "      <td>449</td>\n",
       "      <td>992</td>\n",
       "      <td>FIFA 23</td>\n",
       "      <td>2023-04-17</td>\n",
       "    </tr>\n",
       "    <tr>\n",
       "      <th>1852</th>\n",
       "      <td>Samuel Chukwueze</td>\n",
       "      <td>Villarreal CF</td>\n",
       "      <td>Nigeria</td>\n",
       "      <td>LaLiga Santander</td>\n",
       "      <td>84</td>\n",
       "      <td>rare</td>\n",
       "      <td>if gold</td>\n",
       "      <td>RW</td>\n",
       "      <td>RM</td>\n",
       "      <td>IF</td>\n",
       "      <td>Explosive</td>\n",
       "      <td>12K</td>\n",
       "      <td>4</td>\n",
       "      <td>2</td>\n",
       "      <td>H</td>\n",
       "      <td>L</td>\n",
       "      <td>93</td>\n",
       "      <td>80</td>\n",
       "      <td>77</td>\n",
       "      <td>89</td>\n",
       "      <td>41</td>\n",
       "      <td>70</td>\n",
       "      <td>Average</td>\n",
       "      <td>172.0</td>\n",
       "      <td>70.0</td>\n",
       "      <td>47</td>\n",
       "      <td>450</td>\n",
       "      <td>2092</td>\n",
       "      <td>FIFA 23</td>\n",
       "      <td>2023-04-17</td>\n",
       "    </tr>\n",
       "    <tr>\n",
       "      <th>3323</th>\n",
       "      <td>Rezaei</td>\n",
       "      <td>Iran</td>\n",
       "      <td>Iran</td>\n",
       "      <td>World Cup</td>\n",
       "      <td>78</td>\n",
       "      <td>rare</td>\n",
       "      <td>wc_player gold</td>\n",
       "      <td>ST</td>\n",
       "      <td>CF</td>\n",
       "      <td>World Cup Player</td>\n",
       "      <td>Controlled</td>\n",
       "      <td>0</td>\n",
       "      <td>3</td>\n",
       "      <td>4</td>\n",
       "      <td>H</td>\n",
       "      <td>H</td>\n",
       "      <td>74</td>\n",
       "      <td>77</td>\n",
       "      <td>70</td>\n",
       "      <td>73</td>\n",
       "      <td>33</td>\n",
       "      <td>77</td>\n",
       "      <td>High &amp; Average</td>\n",
       "      <td>185.0</td>\n",
       "      <td>79.0</td>\n",
       "      <td>4</td>\n",
       "      <td>404</td>\n",
       "      <td>1951</td>\n",
       "      <td>FIFA 23</td>\n",
       "      <td>2023-04-17</td>\n",
       "    </tr>\n",
       "  </tbody>\n",
       "</table>\n",
       "</div>"
      ],
      "text/plain": [
       "                             Name             Team         Country  \\\n",
       "3749              Darío Benedetto     Boca Juniors       Argentina   \n",
       "2222               Ulisses Garcia   BSC Young Boys     Switzerland   \n",
       "3522                 Aymen Barkok          Morocco         Morocco   \n",
       "2040                Matias Vecino         SS Lazio         Uruguay   \n",
       "3259                Jiří Pavlenka    Werder Bremen  Czech Republic   \n",
       "1688  Pedro David Rosendo Marques     NEC Nijmegen        Portugal   \n",
       "2002                   Pepe Reina    Villarreal CF           Spain   \n",
       "2309                         Neto  AFC Bournemouth          Brazil   \n",
       "1852             Samuel Chukwueze    Villarreal CF         Nigeria   \n",
       "3323                       Rezaei             Iran            Iran   \n",
       "\n",
       "                           League  Rating      Rare  \\\n",
       "3749        CONMEBOL Libertadores      77      rare   \n",
       "2222  Raiffeisen Super L. (SUI 1)      82      rare   \n",
       "3522                    World Cup      78      rare   \n",
       "2040                  Serie A TIM      83      rare   \n",
       "3259                   Bundesliga      78  non-rare   \n",
       "1688                   Eredivisie      84      rare   \n",
       "2002             LaLiga Santander      83      rare   \n",
       "2309               Premier League      81      rare   \n",
       "1852             LaLiga Santander      84      rare   \n",
       "3323                    World Cup      78      rare   \n",
       "\n",
       "                  Version_color Position Other_Positions           Version  \\\n",
       "3749       libertadores_b gold        ST              CF               NaN   \n",
       "2222                   if gold        LB          LWB,LM                IF   \n",
       "3522            wc_player gold       CAM           CM,CF  World Cup Player   \n",
       "2040                   if gold       CDM              CM                IF   \n",
       "3259                      gold        GK             NaN               NaN   \n",
       "1688   objective_reward_3 gold        ST              CF  Squad Foundation   \n",
       "2002                   if gold        GK             NaN                IF   \n",
       "2309                      gold        GK             NaN               NaN   \n",
       "1852                   if gold        RW              RM                IF   \n",
       "3323            wc_player gold        ST              CF  World Cup Player   \n",
       "\n",
       "        Run_type    Price  Skill  Weak_foot Attack_rate Defense_rate  Pace  \\\n",
       "3749  Controlled     750       3          3           M            M    75   \n",
       "2222  Controlled     11K       3          3           H            M    90   \n",
       "3522  Controlled       0       4          3           H            M    81   \n",
       "2040  Controlled   11.5K       3          3           H            M    70   \n",
       "3259  Controlled     700       1          3           M            M    81   \n",
       "1688  Controlled       0       4          4           H            M    88   \n",
       "2002  Controlled  11.25K       1          3           M            M    82   \n",
       "2309  Controlled     700       1          2           M            M    82   \n",
       "1852   Explosive     12K       4          2           H            L    93   \n",
       "3323  Controlled       0       3          4           H            H    74   \n",
       "\n",
       "      Shoot  Pass  Drible  Defense  Physical         Body_type  Height_cm  \\\n",
       "3749     79    69      75       38        70           Average      177.0   \n",
       "2222     54    74      80       78        86           Average      183.0   \n",
       "3522     70    73      83       59        69   High & Average+      189.0   \n",
       "2040     77    80      82       82        83   High & Average+      187.0   \n",
       "3259     74    60      84       36        69    High & Average      196.0   \n",
       "1688     84    70      83       40        82           Average      181.0   \n",
       "2002     83    85      83       52        86            Unique      188.0   \n",
       "2309     78    77      80       54        78   High & Average+      190.0   \n",
       "1852     80    77      89       41        70           Average      172.0   \n",
       "3323     77    70      73       33        77    High & Average      185.0   \n",
       "\n",
       "      Weight (kg)  Popularity  Base_Stats  In_Game_Stats Game_version  \\\n",
       "3749         75.0           9         406           1995      FIFA 23   \n",
       "2222         82.0          38         462           2085      FIFA 23   \n",
       "3522         82.0           1         435           2013      FIFA 23   \n",
       "2040         81.0           2         474           2259      FIFA 23   \n",
       "3259         81.0          15         404            730      FIFA 23   \n",
       "1688         77.0         281         447           2160      FIFA 23   \n",
       "2002         92.0          69         471           1003      FIFA 23   \n",
       "2309         84.0          56         449            992      FIFA 23   \n",
       "1852         70.0          47         450           2092      FIFA 23   \n",
       "3323         79.0           4         404           1951      FIFA 23   \n",
       "\n",
       "      Updated_at  \n",
       "3749  2023-04-17  \n",
       "2222  2023-04-17  \n",
       "3522  2023-04-17  \n",
       "2040  2023-04-17  \n",
       "3259  2023-04-17  \n",
       "1688  2023-04-17  \n",
       "2002  2023-04-17  \n",
       "2309  2023-04-17  \n",
       "1852  2023-04-17  \n",
       "3323  2023-04-17  "
      ]
     },
     "execution_count": 48,
     "metadata": {},
     "output_type": "execute_result"
    },
    {
     "data": {
      "application/javascript": "\n            setTimeout(function() {\n                var nbb_cell_id = 48;\n                var nbb_unformatted_code = \"# check 10 random samples of dataset\\ndf_players.sample(10)\";\n                var nbb_formatted_code = \"# check 10 random samples of dataset\\ndf_players.sample(10)\";\n                var nbb_cells = Jupyter.notebook.get_cells();\n                for (var i = 0; i < nbb_cells.length; ++i) {\n                    if (nbb_cells[i].input_prompt_number == nbb_cell_id) {\n                        if (nbb_cells[i].get_text() == nbb_unformatted_code) {\n                             nbb_cells[i].set_text(nbb_formatted_code);\n                        }\n                        break;\n                    }\n                }\n            }, 500);\n            ",
      "text/plain": [
       "<IPython.core.display.Javascript object>"
      ]
     },
     "metadata": {},
     "output_type": "display_data"
    }
   ],
   "source": [
    "# check 10 random samples of dataset\n",
    "df_players.sample(10)"
   ]
  },
  {
   "cell_type": "code",
   "execution_count": 49,
   "metadata": {},
   "outputs": [
    {
     "name": "stdout",
     "output_type": "stream",
     "text": [
      "<class 'pandas.core.frame.DataFrame'>\n",
      "RangeIndex: 4020 entries, 0 to 4019\n",
      "Data columns (total 30 columns):\n",
      " #   Column           Non-Null Count  Dtype  \n",
      "---  ------           --------------  -----  \n",
      " 0   Name             4020 non-null   object \n",
      " 1   Team             4020 non-null   object \n",
      " 2   Country          4020 non-null   object \n",
      " 3   League           4020 non-null   object \n",
      " 4   Rating           4020 non-null   int64  \n",
      " 5   Rare             4020 non-null   object \n",
      " 6   Version_color    4020 non-null   object \n",
      " 7   Position         4020 non-null   object \n",
      " 8   Other_Positions  2986 non-null   object \n",
      " 9   Version          3346 non-null   object \n",
      " 10  Run_type         4020 non-null   object \n",
      " 11  Price            4020 non-null   object \n",
      " 12  Skill            4020 non-null   int64  \n",
      " 13  Weak_foot        4020 non-null   int64  \n",
      " 14  Attack_rate      4020 non-null   object \n",
      " 15  Defense_rate     4020 non-null   object \n",
      " 16  Pace             4020 non-null   int64  \n",
      " 17  Shoot            4020 non-null   int64  \n",
      " 18  Pass             4020 non-null   int64  \n",
      " 19  Drible           4020 non-null   int64  \n",
      " 20  Defense          4020 non-null   int64  \n",
      " 21  Physical         4020 non-null   int64  \n",
      " 22  Body_type        4003 non-null   object \n",
      " 23  Height_cm        4018 non-null   float64\n",
      " 24  Weight (kg)      4003 non-null   float64\n",
      " 25  Popularity       4020 non-null   int64  \n",
      " 26  Base_Stats       4020 non-null   int64  \n",
      " 27  In_Game_Stats    4020 non-null   int64  \n",
      " 28  Game_version     4020 non-null   object \n",
      " 29  Updated_at       4020 non-null   object \n",
      "dtypes: float64(2), int64(12), object(16)\n",
      "memory usage: 942.3+ KB\n"
     ]
    },
    {
     "data": {
      "application/javascript": "\n            setTimeout(function() {\n                var nbb_cell_id = 49;\n                var nbb_unformatted_code = \"# check the name and the type of each column, and if there is some missing values\\ndf_players.info()\";\n                var nbb_formatted_code = \"# check the name and the type of each column, and if there is some missing values\\ndf_players.info()\";\n                var nbb_cells = Jupyter.notebook.get_cells();\n                for (var i = 0; i < nbb_cells.length; ++i) {\n                    if (nbb_cells[i].input_prompt_number == nbb_cell_id) {\n                        if (nbb_cells[i].get_text() == nbb_unformatted_code) {\n                             nbb_cells[i].set_text(nbb_formatted_code);\n                        }\n                        break;\n                    }\n                }\n            }, 500);\n            ",
      "text/plain": [
       "<IPython.core.display.Javascript object>"
      ]
     },
     "metadata": {},
     "output_type": "display_data"
    }
   ],
   "source": [
    "# check the name and the type of each column, and if there is some missing values\n",
    "df_players.info()"
   ]
  },
  {
   "attachments": {},
   "cell_type": "markdown",
   "metadata": {},
   "source": [
    "# Step 2 - Data preparation\n",
    "In this step we prepare the data for further analysis, it's included:\n",
    "- 2.1 Normalize the column name\n",
    "- 2.2 Normalize the prices\n",
    "- 2.3 Adjust the data types\n",
    "- 2.4 Deal with whitespace\n",
    "- 2.5 Deal with missing values \n",
    "- 2.6 Deal with duplicated values\n",
    "- 2.7 Remove useless data"
   ]
  },
  {
   "attachments": {},
   "cell_type": "markdown",
   "metadata": {},
   "source": [
    "## 2.1 Normalize column name\n",
    "The data set has a pattern in the column names, but it's easier to manipulate if they are with no space and lowercase, so let's implement this simple fix."
   ]
  },
  {
   "cell_type": "code",
   "execution_count": 50,
   "metadata": {},
   "outputs": [
    {
     "name": "stderr",
     "output_type": "stream",
     "text": [
      "C:\\Users\\Felipe Mayer\\AppData\\Local\\Temp\\ipykernel_36912\\2323474123.py:2: FutureWarning: The default value of regex will change from True to False in a future version. In addition, single character regular expressions will *not* be treated as literal strings when regex=True.\n",
      "  .str.replace(\"(\", \"\")\\\n",
      "C:\\Users\\Felipe Mayer\\AppData\\Local\\Temp\\ipykernel_36912\\2323474123.py:3: FutureWarning: The default value of regex will change from True to False in a future version. In addition, single character regular expressions will *not* be treated as literal strings when regex=True.\n",
      "  .str.replace(\")\", \"\")\\\n"
     ]
    },
    {
     "data": {
      "application/javascript": "\n            setTimeout(function() {\n                var nbb_cell_id = 50;\n                var nbb_unformatted_code = \"columns = df_players.columns.str.replace(\\\" \\\", \\\"_\\\")\\\\\\n                            .str.replace(\\\"(\\\", \\\"\\\")\\\\\\n                            .str.replace(\\\")\\\", \\\"\\\")\\\\\\n                            .str.lower()\\n\\ndf_players.columns = list(columns)\";\n                var nbb_formatted_code = \"columns = (\\n    df_players.columns.str.replace(\\\" \\\", \\\"_\\\")\\n    .str.replace(\\\"(\\\", \\\"\\\")\\n    .str.replace(\\\")\\\", \\\"\\\")\\n    .str.lower()\\n)\\n\\ndf_players.columns = list(columns)\";\n                var nbb_cells = Jupyter.notebook.get_cells();\n                for (var i = 0; i < nbb_cells.length; ++i) {\n                    if (nbb_cells[i].input_prompt_number == nbb_cell_id) {\n                        if (nbb_cells[i].get_text() == nbb_unformatted_code) {\n                             nbb_cells[i].set_text(nbb_formatted_code);\n                        }\n                        break;\n                    }\n                }\n            }, 500);\n            ",
      "text/plain": [
       "<IPython.core.display.Javascript object>"
      ]
     },
     "metadata": {},
     "output_type": "display_data"
    }
   ],
   "source": [
    "columns = df_players.columns.str.replace(\" \", \"_\")\\\n",
    "                            .str.replace(\"(\", \"\")\\\n",
    "                            .str.replace(\")\", \"\")\\\n",
    "                            .str.lower()\n",
    "\n",
    "df_players.columns = list(columns)"
   ]
  },
  {
   "attachments": {},
   "cell_type": "markdown",
   "metadata": {},
   "source": [
    "## 2.2 Normalize the price\n",
    "The column price, as you may notice, is a Object, it means, a string. We'll use this column to some analysis so it's crucial to change them to a numeric value and normalize it.\n",
    "\n",
    "The numbers are expressed with K for thousand and M to million, for exemple 14.000 it's 14K. So we need to change the letter (K or M) to correspodent 0's (000 and 000000). After that, change the datatype to integer."
   ]
  },
  {
   "cell_type": "code",
   "execution_count": 51,
   "metadata": {},
   "outputs": [
    {
     "data": {
      "text/plain": [
       "0        3980000\n",
       "1        4820000\n",
       "2        2230000\n",
       "3       11400000\n",
       "4        2500000\n",
       "          ...   \n",
       "4015           0\n",
       "4016           0\n",
       "4017           0\n",
       "4018           0\n",
       "4019           0\n",
       "Name: price, Length: 4020, dtype: int64"
      ]
     },
     "execution_count": 51,
     "metadata": {},
     "output_type": "execute_result"
    },
    {
     "data": {
      "application/javascript": "\n            setTimeout(function() {\n                var nbb_cell_id = 51;\n                var nbb_unformatted_code = \"df_players['price'] = df_players['price'].replace({'M': 'e+06', 'K': 'e+03'}, regex=True).astype(float).astype(np.int64)\\n\\ndf_players['price']\";\n                var nbb_formatted_code = \"df_players[\\\"price\\\"] = (\\n    df_players[\\\"price\\\"]\\n    .replace({\\\"M\\\": \\\"e+06\\\", \\\"K\\\": \\\"e+03\\\"}, regex=True)\\n    .astype(float)\\n    .astype(np.int64)\\n)\\n\\ndf_players[\\\"price\\\"]\";\n                var nbb_cells = Jupyter.notebook.get_cells();\n                for (var i = 0; i < nbb_cells.length; ++i) {\n                    if (nbb_cells[i].input_prompt_number == nbb_cell_id) {\n                        if (nbb_cells[i].get_text() == nbb_unformatted_code) {\n                             nbb_cells[i].set_text(nbb_formatted_code);\n                        }\n                        break;\n                    }\n                }\n            }, 500);\n            ",
      "text/plain": [
       "<IPython.core.display.Javascript object>"
      ]
     },
     "metadata": {},
     "output_type": "display_data"
    }
   ],
   "source": [
    "df_players['price'] = df_players['price'].replace({'M': 'e+06', 'K': 'e+03'}, regex=True).astype(float).astype(np.int64)\n",
    "\n",
    "df_players['price']"
   ]
  },
  {
   "attachments": {},
   "cell_type": "markdown",
   "metadata": {},
   "source": [
    "## 2.3 Adjust the Data type\n",
    "\n",
    "As you may notice, the dataset loaded has a good data type definition, excepts for \"updated_at\" column, it's a Object but it's a date, so we need to change it's data type."
   ]
  },
  {
   "cell_type": "code",
   "execution_count": 52,
   "metadata": {},
   "outputs": [
    {
     "name": "stdout",
     "output_type": "stream",
     "text": [
      "<class 'pandas.core.series.Series'>\n",
      "RangeIndex: 4020 entries, 0 to 4019\n",
      "Series name: updated_at\n",
      "Non-Null Count  Dtype \n",
      "--------------  ----- \n",
      "4020 non-null   object\n",
      "dtypes: object(1)\n",
      "memory usage: 31.5+ KB\n"
     ]
    },
    {
     "data": {
      "application/javascript": "\n            setTimeout(function() {\n                var nbb_cell_id = 52;\n                var nbb_unformatted_code = \"df_players['updated_at'].info()\";\n                var nbb_formatted_code = \"df_players[\\\"updated_at\\\"].info()\";\n                var nbb_cells = Jupyter.notebook.get_cells();\n                for (var i = 0; i < nbb_cells.length; ++i) {\n                    if (nbb_cells[i].input_prompt_number == nbb_cell_id) {\n                        if (nbb_cells[i].get_text() == nbb_unformatted_code) {\n                             nbb_cells[i].set_text(nbb_formatted_code);\n                        }\n                        break;\n                    }\n                }\n            }, 500);\n            ",
      "text/plain": [
       "<IPython.core.display.Javascript object>"
      ]
     },
     "metadata": {},
     "output_type": "display_data"
    }
   ],
   "source": [
    "df_players['updated_at'].info()"
   ]
  },
  {
   "cell_type": "code",
   "execution_count": 53,
   "metadata": {},
   "outputs": [
    {
     "data": {
      "text/plain": [
       "2337   2023-04-17\n",
       "1753   2023-04-17\n",
       "965    2023-04-17\n",
       "970    2023-04-17\n",
       "3031   2023-04-17\n",
       "Name: updated_at, dtype: datetime64[ns]"
      ]
     },
     "execution_count": 53,
     "metadata": {},
     "output_type": "execute_result"
    },
    {
     "data": {
      "application/javascript": "\n            setTimeout(function() {\n                var nbb_cell_id = 53;\n                var nbb_unformatted_code = \"df_players['updated_at'] = df_players['updated_at'].astype('datetime64[ns]')\\n\\ndf_players['updated_at'].sample(5)\";\n                var nbb_formatted_code = \"df_players[\\\"updated_at\\\"] = df_players[\\\"updated_at\\\"].astype(\\\"datetime64[ns]\\\")\\n\\ndf_players[\\\"updated_at\\\"].sample(5)\";\n                var nbb_cells = Jupyter.notebook.get_cells();\n                for (var i = 0; i < nbb_cells.length; ++i) {\n                    if (nbb_cells[i].input_prompt_number == nbb_cell_id) {\n                        if (nbb_cells[i].get_text() == nbb_unformatted_code) {\n                             nbb_cells[i].set_text(nbb_formatted_code);\n                        }\n                        break;\n                    }\n                }\n            }, 500);\n            ",
      "text/plain": [
       "<IPython.core.display.Javascript object>"
      ]
     },
     "metadata": {},
     "output_type": "display_data"
    }
   ],
   "source": [
    "df_players['updated_at'] = df_players['updated_at'].astype('datetime64[ns]')\n",
    "\n",
    "df_players['updated_at'].sample(5)"
   ]
  },
  {
   "attachments": {},
   "cell_type": "markdown",
   "metadata": {},
   "source": [
    "## 2.4 Deal with whitespace\n",
    "\n",
    "Some data has whitespace, since the data was scrapped so we need to remove it. To make it easier we will remove the whitespace of every String column, even if it doens't needed"
   ]
  },
  {
   "cell_type": "code",
   "execution_count": 54,
   "metadata": {},
   "outputs": [
    {
     "data": {
      "application/javascript": "\n            setTimeout(function() {\n                var nbb_cell_id = 54;\n                var nbb_unformatted_code = \"for col in df_players.columns:\\n    if df_players[col].dtype == 'object':\\n        df_players[col] = df_players[col].str.strip()\";\n                var nbb_formatted_code = \"for col in df_players.columns:\\n    if df_players[col].dtype == \\\"object\\\":\\n        df_players[col] = df_players[col].str.strip()\";\n                var nbb_cells = Jupyter.notebook.get_cells();\n                for (var i = 0; i < nbb_cells.length; ++i) {\n                    if (nbb_cells[i].input_prompt_number == nbb_cell_id) {\n                        if (nbb_cells[i].get_text() == nbb_unformatted_code) {\n                             nbb_cells[i].set_text(nbb_formatted_code);\n                        }\n                        break;\n                    }\n                }\n            }, 500);\n            ",
      "text/plain": [
       "<IPython.core.display.Javascript object>"
      ]
     },
     "metadata": {},
     "output_type": "display_data"
    }
   ],
   "source": [
    "for col in df_players.columns:\n",
    "    if df_players[col].dtype == 'object':\n",
    "        df_players[col] = df_players[col].str.strip()"
   ]
  },
  {
   "attachments": {},
   "cell_type": "markdown",
   "metadata": {},
   "source": [
    "## 2.5 Deal with missing values \n",
    "There is some columns with missing values, let's deal with deal properly.\n",
    "\n",
    "- For \"version\" column, we need to understand which players without a version and why, so we can deal with that.\n",
    "- For \"height\" and \"weight\" columns, we need to understand below what's happen and choose the best way to deal it.\n",
    "- For \"body_type\" column, there is a patter to define the body type of player, we can user it to fill the null values."
   ]
  },
  {
   "cell_type": "code",
   "execution_count": 55,
   "metadata": {},
   "outputs": [
    {
     "data": {
      "text/plain": [
       "name                  0\n",
       "team                  0\n",
       "country               0\n",
       "league                0\n",
       "rating                0\n",
       "rare                  0\n",
       "version_color         0\n",
       "position              0\n",
       "other_positions    1034\n",
       "version             674\n",
       "run_type              0\n",
       "price                 0\n",
       "skill                 0\n",
       "weak_foot             0\n",
       "attack_rate           0\n",
       "defense_rate          0\n",
       "pace                  0\n",
       "shoot                 0\n",
       "pass                  0\n",
       "drible                0\n",
       "defense               0\n",
       "physical              0\n",
       "body_type            17\n",
       "height_cm             2\n",
       "weight_kg            17\n",
       "popularity            0\n",
       "base_stats            0\n",
       "in_game_stats         0\n",
       "game_version          0\n",
       "updated_at            0\n",
       "dtype: int64"
      ]
     },
     "execution_count": 55,
     "metadata": {},
     "output_type": "execute_result"
    },
    {
     "data": {
      "application/javascript": "\n            setTimeout(function() {\n                var nbb_cell_id = 55;\n                var nbb_unformatted_code = \"df_players.isna().sum()\";\n                var nbb_formatted_code = \"df_players.isna().sum()\";\n                var nbb_cells = Jupyter.notebook.get_cells();\n                for (var i = 0; i < nbb_cells.length; ++i) {\n                    if (nbb_cells[i].input_prompt_number == nbb_cell_id) {\n                        if (nbb_cells[i].get_text() == nbb_unformatted_code) {\n                             nbb_cells[i].set_text(nbb_formatted_code);\n                        }\n                        break;\n                    }\n                }\n            }, 500);\n            ",
      "text/plain": [
       "<IPython.core.display.Javascript object>"
      ]
     },
     "metadata": {},
     "output_type": "display_data"
    }
   ],
   "source": [
    "df_players.isna().sum()"
   ]
  },
  {
   "attachments": {},
   "cell_type": "markdown",
   "metadata": {},
   "source": [
    "### 2.5.1 Column: \"version\"\n",
    "Some players without 'version' filled, but they belong to sub-groups with same 'version_color'. We'll use the 'version-color' information to fill the 'version' missing value columns."
   ]
  },
  {
   "cell_type": "code",
   "execution_count": 56,
   "metadata": {},
   "outputs": [
    {
     "data": {
      "text/plain": [
       "version       version_color      \n",
       "NaN           gold                   640\n",
       "Normal        gold                   280\n",
       "Rare          gold                    87\n",
       "non-rare      gold                    27\n",
       "NaN           bd_icon gold            18\n",
       "              libertadores_b gold     15\n",
       "Non-Rare      gold                     7\n",
       "Libertadores  libertadores_b gold      1\n",
       "SBC           bd_icon gold             1\n",
       "NaN           sudamericana gold        1\n",
       "dtype: int64"
      ]
     },
     "execution_count": 56,
     "metadata": {},
     "output_type": "execute_result"
    },
    {
     "data": {
      "application/javascript": "\n            setTimeout(function() {\n                var nbb_cell_id = 56;\n                var nbb_unformatted_code = \"df_players[df_players['version_color'].isin(df_players[df_players['version'].isna()]\\\\\\n                                            ['version_color'].unique())]\\\\\\n                                            [['version', 'version_color' ]]\\\\\\n                                            .value_counts(dropna=False)\";\n                var nbb_formatted_code = \"df_players[\\n    df_players[\\\"version_color\\\"].isin(\\n        df_players[df_players[\\\"version\\\"].isna()][\\\"version_color\\\"].unique()\\n    )\\n][[\\\"version\\\", \\\"version_color\\\"]].value_counts(dropna=False)\";\n                var nbb_cells = Jupyter.notebook.get_cells();\n                for (var i = 0; i < nbb_cells.length; ++i) {\n                    if (nbb_cells[i].input_prompt_number == nbb_cell_id) {\n                        if (nbb_cells[i].get_text() == nbb_unformatted_code) {\n                             nbb_cells[i].set_text(nbb_formatted_code);\n                        }\n                        break;\n                    }\n                }\n            }, 500);\n            ",
      "text/plain": [
       "<IPython.core.display.Javascript object>"
      ]
     },
     "metadata": {},
     "output_type": "display_data"
    }
   ],
   "source": [
    "df_players[df_players['version_color'].isin(df_players[df_players['version'].isna()]\\\n",
    "                                            ['version_color'].unique())]\\\n",
    "                                            [['version', 'version_color' ]]\\\n",
    "                                            .value_counts(dropna=False)"
   ]
  },
  {
   "cell_type": "code",
   "execution_count": 57,
   "metadata": {},
   "outputs": [
    {
     "data": {
      "application/javascript": "\n            setTimeout(function() {\n                var nbb_cell_id = 57;\n                var nbb_unformatted_code = \"df_players['version'] = df_players['version'].fillna(df_players['version_color'])\";\n                var nbb_formatted_code = \"df_players[\\\"version\\\"] = df_players[\\\"version\\\"].fillna(df_players[\\\"version_color\\\"])\";\n                var nbb_cells = Jupyter.notebook.get_cells();\n                for (var i = 0; i < nbb_cells.length; ++i) {\n                    if (nbb_cells[i].input_prompt_number == nbb_cell_id) {\n                        if (nbb_cells[i].get_text() == nbb_unformatted_code) {\n                             nbb_cells[i].set_text(nbb_formatted_code);\n                        }\n                        break;\n                    }\n                }\n            }, 500);\n            ",
      "text/plain": [
       "<IPython.core.display.Javascript object>"
      ]
     },
     "metadata": {},
     "output_type": "display_data"
    }
   ],
   "source": [
    "df_players['version'] = df_players['version'].fillna(df_players['version_color'])"
   ]
  },
  {
   "cell_type": "code",
   "execution_count": 58,
   "metadata": {},
   "outputs": [
    {
     "data": {
      "text/plain": [
       "0"
      ]
     },
     "execution_count": 58,
     "metadata": {},
     "output_type": "execute_result"
    },
    {
     "data": {
      "application/javascript": "\n            setTimeout(function() {\n                var nbb_cell_id = 58;\n                var nbb_unformatted_code = \"df_players['version'].isna().sum()\";\n                var nbb_formatted_code = \"df_players[\\\"version\\\"].isna().sum()\";\n                var nbb_cells = Jupyter.notebook.get_cells();\n                for (var i = 0; i < nbb_cells.length; ++i) {\n                    if (nbb_cells[i].input_prompt_number == nbb_cell_id) {\n                        if (nbb_cells[i].get_text() == nbb_unformatted_code) {\n                             nbb_cells[i].set_text(nbb_formatted_code);\n                        }\n                        break;\n                    }\n                }\n            }, 500);\n            ",
      "text/plain": [
       "<IPython.core.display.Javascript object>"
      ]
     },
     "metadata": {},
     "output_type": "display_data"
    }
   ],
   "source": [
    "df_players['version'].isna().sum()"
   ]
  },
  {
   "attachments": {},
   "cell_type": "markdown",
   "metadata": {},
   "source": [
    "\n",
    "### 2.5.2 Deal with \"height\" and \"weight\" columns"
   ]
  },
  {
   "attachments": {},
   "cell_type": "markdown",
   "metadata": {},
   "source": [
    "Some players has 0 as weight, let's change it to NaN and deal with them."
   ]
  },
  {
   "cell_type": "code",
   "execution_count": 59,
   "metadata": {},
   "outputs": [
    {
     "data": {
      "application/javascript": "\n            setTimeout(function() {\n                var nbb_cell_id = 59;\n                var nbb_unformatted_code = \"df_players['weight_kg'].replace(0, np.nan, inplace=True)\";\n                var nbb_formatted_code = \"df_players[\\\"weight_kg\\\"].replace(0, np.nan, inplace=True)\";\n                var nbb_cells = Jupyter.notebook.get_cells();\n                for (var i = 0; i < nbb_cells.length; ++i) {\n                    if (nbb_cells[i].input_prompt_number == nbb_cell_id) {\n                        if (nbb_cells[i].get_text() == nbb_unformatted_code) {\n                             nbb_cells[i].set_text(nbb_formatted_code);\n                        }\n                        break;\n                    }\n                }\n            }, 500);\n            ",
      "text/plain": [
       "<IPython.core.display.Javascript object>"
      ]
     },
     "metadata": {},
     "output_type": "display_data"
    }
   ],
   "source": [
    "df_players['weight_kg'].replace(0, np.nan, inplace=True)"
   ]
  },
  {
   "attachments": {},
   "cell_type": "markdown",
   "metadata": {},
   "source": [
    "There is a correlation between height and weight, so we'll fill the missing values of 'weight' with the avarage value of other players with same \"height\""
   ]
  },
  {
   "cell_type": "code",
   "execution_count": 60,
   "metadata": {},
   "outputs": [
    {
     "data": {
      "text/plain": [
       "0.7697453215779397"
      ]
     },
     "execution_count": 60,
     "metadata": {},
     "output_type": "execute_result"
    },
    {
     "data": {
      "application/javascript": "\n            setTimeout(function() {\n                var nbb_cell_id = 60;\n                var nbb_unformatted_code = \"# check the correlation between height and weight\\ndf_players['height_cm'].corr(df_players['weight_kg'])\";\n                var nbb_formatted_code = \"# check the correlation between height and weight\\ndf_players[\\\"height_cm\\\"].corr(df_players[\\\"weight_kg\\\"])\";\n                var nbb_cells = Jupyter.notebook.get_cells();\n                for (var i = 0; i < nbb_cells.length; ++i) {\n                    if (nbb_cells[i].input_prompt_number == nbb_cell_id) {\n                        if (nbb_cells[i].get_text() == nbb_unformatted_code) {\n                             nbb_cells[i].set_text(nbb_formatted_code);\n                        }\n                        break;\n                    }\n                }\n            }, 500);\n            ",
      "text/plain": [
       "<IPython.core.display.Javascript object>"
      ]
     },
     "metadata": {},
     "output_type": "display_data"
    }
   ],
   "source": [
    "# check the correlation between height and weight\n",
    "df_players['height_cm'].corr(df_players['weight_kg'])"
   ]
  },
  {
   "cell_type": "code",
   "execution_count": 61,
   "metadata": {},
   "outputs": [
    {
     "data": {
      "text/plain": [
       "height_cm\n",
       "184.0    77.854545\n",
       "173.0    69.648855\n",
       "171.0    67.323077\n",
       "195.0    90.094340\n",
       "165.0    62.000000\n",
       "Name: weight_kg, dtype: float64"
      ]
     },
     "execution_count": 61,
     "metadata": {},
     "output_type": "execute_result"
    },
    {
     "data": {
      "application/javascript": "\n            setTimeout(function() {\n                var nbb_cell_id = 61;\n                var nbb_unformatted_code = \"# group by height and calculate the mean of weight\\ndf_player_groupedby_height = df_players[df_players['weight_kg'].notnull()].groupby('height_cm')['weight_kg'].mean()\\n\\ndf_player_groupedby_height.sample(n=5)\";\n                var nbb_formatted_code = \"# group by height and calculate the mean of weight\\ndf_player_groupedby_height = (\\n    df_players[df_players[\\\"weight_kg\\\"].notnull()]\\n    .groupby(\\\"height_cm\\\")[\\\"weight_kg\\\"]\\n    .mean()\\n)\\n\\ndf_player_groupedby_height.sample(n=5)\";\n                var nbb_cells = Jupyter.notebook.get_cells();\n                for (var i = 0; i < nbb_cells.length; ++i) {\n                    if (nbb_cells[i].input_prompt_number == nbb_cell_id) {\n                        if (nbb_cells[i].get_text() == nbb_unformatted_code) {\n                             nbb_cells[i].set_text(nbb_formatted_code);\n                        }\n                        break;\n                    }\n                }\n            }, 500);\n            ",
      "text/plain": [
       "<IPython.core.display.Javascript object>"
      ]
     },
     "metadata": {},
     "output_type": "display_data"
    }
   ],
   "source": [
    "# group by height and calculate the mean of weight\n",
    "df_player_groupedby_height = df_players[df_players['weight_kg'].notnull()].groupby('height_cm')['weight_kg'].mean()\n",
    "\n",
    "df_player_groupedby_height.sample(n=5)"
   ]
  },
  {
   "attachments": {},
   "cell_type": "markdown",
   "metadata": {},
   "source": [
    "Using the height grouped dataframe above to fill the missing values of weight"
   ]
  },
  {
   "cell_type": "code",
   "execution_count": 62,
   "metadata": {},
   "outputs": [
    {
     "data": {
      "text/html": [
       "<div>\n",
       "<style scoped>\n",
       "    .dataframe tbody tr th:only-of-type {\n",
       "        vertical-align: middle;\n",
       "    }\n",
       "\n",
       "    .dataframe tbody tr th {\n",
       "        vertical-align: top;\n",
       "    }\n",
       "\n",
       "    .dataframe thead th {\n",
       "        text-align: right;\n",
       "    }\n",
       "</style>\n",
       "<table border=\"1\" class=\"dataframe\">\n",
       "  <thead>\n",
       "    <tr style=\"text-align: right;\">\n",
       "      <th></th>\n",
       "      <th>name</th>\n",
       "      <th>team</th>\n",
       "      <th>country</th>\n",
       "      <th>league</th>\n",
       "      <th>rating</th>\n",
       "      <th>rare</th>\n",
       "      <th>version_color</th>\n",
       "      <th>position</th>\n",
       "      <th>other_positions</th>\n",
       "      <th>version</th>\n",
       "      <th>run_type</th>\n",
       "      <th>price</th>\n",
       "      <th>skill</th>\n",
       "      <th>weak_foot</th>\n",
       "      <th>attack_rate</th>\n",
       "      <th>defense_rate</th>\n",
       "      <th>pace</th>\n",
       "      <th>shoot</th>\n",
       "      <th>pass</th>\n",
       "      <th>drible</th>\n",
       "      <th>defense</th>\n",
       "      <th>physical</th>\n",
       "      <th>body_type</th>\n",
       "      <th>height_cm</th>\n",
       "      <th>weight_kg</th>\n",
       "      <th>popularity</th>\n",
       "      <th>base_stats</th>\n",
       "      <th>in_game_stats</th>\n",
       "      <th>game_version</th>\n",
       "      <th>updated_at</th>\n",
       "    </tr>\n",
       "  </thead>\n",
       "  <tbody>\n",
       "    <tr>\n",
       "      <th>89</th>\n",
       "      <td>Casillas Fernández</td>\n",
       "      <td>FUT ICONS</td>\n",
       "      <td>Spain</td>\n",
       "      <td>Icons</td>\n",
       "      <td>93</td>\n",
       "      <td>rare</td>\n",
       "      <td>trophy_titans_icon gold</td>\n",
       "      <td>GK</td>\n",
       "      <td>NaN</td>\n",
       "      <td>Trophy Titans - ICON</td>\n",
       "      <td>Controlled</td>\n",
       "      <td>99000</td>\n",
       "      <td>1</td>\n",
       "      <td>3</td>\n",
       "      <td>M</td>\n",
       "      <td>M</td>\n",
       "      <td>94</td>\n",
       "      <td>91</td>\n",
       "      <td>87</td>\n",
       "      <td>96</td>\n",
       "      <td>62</td>\n",
       "      <td>92</td>\n",
       "      <td>NaN</td>\n",
       "      <td>NaN</td>\n",
       "      <td>NaN</td>\n",
       "      <td>1189</td>\n",
       "      <td>522</td>\n",
       "      <td>1359</td>\n",
       "      <td>FIFA 23</td>\n",
       "      <td>2023-04-17</td>\n",
       "    </tr>\n",
       "    <tr>\n",
       "      <th>137</th>\n",
       "      <td>Casillas Fernández</td>\n",
       "      <td>FUT ICONS</td>\n",
       "      <td>Spain</td>\n",
       "      <td>Icons</td>\n",
       "      <td>92</td>\n",
       "      <td>rare</td>\n",
       "      <td>icon gold</td>\n",
       "      <td>GK</td>\n",
       "      <td>NaN</td>\n",
       "      <td>Icon</td>\n",
       "      <td>Controlled</td>\n",
       "      <td>145000</td>\n",
       "      <td>1</td>\n",
       "      <td>3</td>\n",
       "      <td>M</td>\n",
       "      <td>M</td>\n",
       "      <td>93</td>\n",
       "      <td>89</td>\n",
       "      <td>85</td>\n",
       "      <td>95</td>\n",
       "      <td>60</td>\n",
       "      <td>91</td>\n",
       "      <td>NaN</td>\n",
       "      <td>NaN</td>\n",
       "      <td>NaN</td>\n",
       "      <td>216</td>\n",
       "      <td>513</td>\n",
       "      <td>1355</td>\n",
       "      <td>FIFA 23</td>\n",
       "      <td>2023-04-17</td>\n",
       "    </tr>\n",
       "  </tbody>\n",
       "</table>\n",
       "</div>"
      ],
      "text/plain": [
       "                   name       team country league  rating  rare  \\\n",
       "89   Casillas Fernández  FUT ICONS   Spain  Icons      93  rare   \n",
       "137  Casillas Fernández  FUT ICONS   Spain  Icons      92  rare   \n",
       "\n",
       "               version_color position other_positions               version  \\\n",
       "89   trophy_titans_icon gold       GK             NaN  Trophy Titans - ICON   \n",
       "137                icon gold       GK             NaN                  Icon   \n",
       "\n",
       "       run_type   price  skill  weak_foot attack_rate defense_rate  pace  \\\n",
       "89   Controlled   99000      1          3           M            M    94   \n",
       "137  Controlled  145000      1          3           M            M    93   \n",
       "\n",
       "     shoot  pass  drible  defense  physical body_type  height_cm  weight_kg  \\\n",
       "89      91    87      96       62        92       NaN        NaN        NaN   \n",
       "137     89    85      95       60        91       NaN        NaN        NaN   \n",
       "\n",
       "     popularity  base_stats  in_game_stats game_version updated_at  \n",
       "89         1189         522           1359      FIFA 23 2023-04-17  \n",
       "137         216         513           1355      FIFA 23 2023-04-17  "
      ]
     },
     "execution_count": 62,
     "metadata": {},
     "output_type": "execute_result"
    },
    {
     "data": {
      "application/javascript": "\n            setTimeout(function() {\n                var nbb_cell_id = 62;\n                var nbb_unformatted_code = \"df_players['weight_kg'] = df_players['weight_kg'].fillna(df_players['height_cm'].map(df_player_groupedby_height))\\n\\ndf_players[df_players['weight_kg'].isna()]\";\n                var nbb_formatted_code = \"df_players[\\\"weight_kg\\\"] = df_players[\\\"weight_kg\\\"].fillna(\\n    df_players[\\\"height_cm\\\"].map(df_player_groupedby_height)\\n)\\n\\ndf_players[df_players[\\\"weight_kg\\\"].isna()]\";\n                var nbb_cells = Jupyter.notebook.get_cells();\n                for (var i = 0; i < nbb_cells.length; ++i) {\n                    if (nbb_cells[i].input_prompt_number == nbb_cell_id) {\n                        if (nbb_cells[i].get_text() == nbb_unformatted_code) {\n                             nbb_cells[i].set_text(nbb_formatted_code);\n                        }\n                        break;\n                    }\n                }\n            }, 500);\n            ",
      "text/plain": [
       "<IPython.core.display.Javascript object>"
      ]
     },
     "metadata": {},
     "output_type": "display_data"
    }
   ],
   "source": [
    "df_players['weight_kg'] = df_players['weight_kg'].fillna(df_players['height_cm'].map(df_player_groupedby_height))\n",
    "\n",
    "df_players[df_players['weight_kg'].isna()]"
   ]
  },
  {
   "attachments": {},
   "cell_type": "markdown",
   "metadata": {},
   "source": [
    "Two entries still empty in terms of height weight and body type. The player is Casillas, he had more versions and only this two don't have this information, so we sould add it manually."
   ]
  },
  {
   "cell_type": "code",
   "execution_count": 63,
   "metadata": {},
   "outputs": [
    {
     "data": {
      "application/javascript": "\n            setTimeout(function() {\n                var nbb_cell_id = 63;\n                var nbb_unformatted_code = \"# find all entries with name Casillas\\ndf_casillas = df_players[df_players['name'].str.contains('Casillas')]\\n\\n# get the height mean of all Casillas (not null)   \\nheight_mean = df_casillas[df_casillas['height_cm'].notnull()]['height_cm'].mean()\\n\\n# get the weight mean of all Casillas (not null)\\nweight_mean = df_casillas[df_casillas['weight_kg'].notnull()]['weight_kg'].mean()\\n\\n# get Casillas body_type information   \\nbody_type = df_casillas[df_casillas['body_type'].notnull()]['body_type'].unique()\";\n                var nbb_formatted_code = \"# find all entries with name Casillas\\ndf_casillas = df_players[df_players[\\\"name\\\"].str.contains(\\\"Casillas\\\")]\\n\\n# get the height mean of all Casillas (not null)\\nheight_mean = df_casillas[df_casillas[\\\"height_cm\\\"].notnull()][\\\"height_cm\\\"].mean()\\n\\n# get the weight mean of all Casillas (not null)\\nweight_mean = df_casillas[df_casillas[\\\"weight_kg\\\"].notnull()][\\\"weight_kg\\\"].mean()\\n\\n# get Casillas body_type information\\nbody_type = df_casillas[df_casillas[\\\"body_type\\\"].notnull()][\\\"body_type\\\"].unique()\";\n                var nbb_cells = Jupyter.notebook.get_cells();\n                for (var i = 0; i < nbb_cells.length; ++i) {\n                    if (nbb_cells[i].input_prompt_number == nbb_cell_id) {\n                        if (nbb_cells[i].get_text() == nbb_unformatted_code) {\n                             nbb_cells[i].set_text(nbb_formatted_code);\n                        }\n                        break;\n                    }\n                }\n            }, 500);\n            ",
      "text/plain": [
       "<IPython.core.display.Javascript object>"
      ]
     },
     "metadata": {},
     "output_type": "display_data"
    }
   ],
   "source": [
    "# find all entries with name Casillas\n",
    "df_casillas = df_players[df_players['name'].str.contains('Casillas')]\n",
    "\n",
    "# get the height mean of all Casillas (not null)   \n",
    "height_mean = df_casillas[df_casillas['height_cm'].notnull()]['height_cm'].mean()\n",
    "\n",
    "# get the weight mean of all Casillas (not null)\n",
    "weight_mean = df_casillas[df_casillas['weight_kg'].notnull()]['weight_kg'].mean()\n",
    "\n",
    "# get Casillas body_type information   \n",
    "body_type = df_casillas[df_casillas['body_type'].notnull()]['body_type'].unique()"
   ]
  },
  {
   "cell_type": "code",
   "execution_count": 64,
   "metadata": {},
   "outputs": [
    {
     "data": {
      "text/html": [
       "<div>\n",
       "<style scoped>\n",
       "    .dataframe tbody tr th:only-of-type {\n",
       "        vertical-align: middle;\n",
       "    }\n",
       "\n",
       "    .dataframe tbody tr th {\n",
       "        vertical-align: top;\n",
       "    }\n",
       "\n",
       "    .dataframe thead th {\n",
       "        text-align: right;\n",
       "    }\n",
       "</style>\n",
       "<table border=\"1\" class=\"dataframe\">\n",
       "  <thead>\n",
       "    <tr style=\"text-align: right;\">\n",
       "      <th></th>\n",
       "      <th>name</th>\n",
       "      <th>body_type</th>\n",
       "      <th>height_cm</th>\n",
       "      <th>weight_kg</th>\n",
       "    </tr>\n",
       "  </thead>\n",
       "  <tbody>\n",
       "    <tr>\n",
       "      <th>89</th>\n",
       "      <td>Casillas Fernández</td>\n",
       "      <td>Average</td>\n",
       "      <td>185.0</td>\n",
       "      <td>77.4</td>\n",
       "    </tr>\n",
       "    <tr>\n",
       "      <th>137</th>\n",
       "      <td>Casillas Fernández</td>\n",
       "      <td>Average</td>\n",
       "      <td>185.0</td>\n",
       "      <td>77.4</td>\n",
       "    </tr>\n",
       "    <tr>\n",
       "      <th>234</th>\n",
       "      <td>Iker Casillas</td>\n",
       "      <td>Average</td>\n",
       "      <td>185.0</td>\n",
       "      <td>78.2</td>\n",
       "    </tr>\n",
       "    <tr>\n",
       "      <th>474</th>\n",
       "      <td>Iker Casillas</td>\n",
       "      <td>Average</td>\n",
       "      <td>185.0</td>\n",
       "      <td>84.0</td>\n",
       "    </tr>\n",
       "    <tr>\n",
       "      <th>906</th>\n",
       "      <td>Iker Casillas</td>\n",
       "      <td>Average</td>\n",
       "      <td>185.0</td>\n",
       "      <td>70.0</td>\n",
       "    </tr>\n",
       "  </tbody>\n",
       "</table>\n",
       "</div>"
      ],
      "text/plain": [
       "                   name body_type  height_cm  weight_kg\n",
       "89   Casillas Fernández   Average      185.0       77.4\n",
       "137  Casillas Fernández   Average      185.0       77.4\n",
       "234       Iker Casillas   Average      185.0       78.2\n",
       "474       Iker Casillas   Average      185.0       84.0\n",
       "906       Iker Casillas   Average      185.0       70.0"
      ]
     },
     "execution_count": 64,
     "metadata": {},
     "output_type": "execute_result"
    },
    {
     "data": {
      "application/javascript": "\n            setTimeout(function() {\n                var nbb_cell_id = 64;\n                var nbb_unformatted_code = \"# replace miss values of Casillas with the mean of height and weight\\ndf_players.loc[df_players['name'].str.contains('Casillas'), 'height_cm'] = df_players.loc[df_players['name'].str.contains('Casillas'), 'height_cm'].fillna(height_mean).round(1)\\ndf_players.loc[df_players['name'].str.contains('Casillas'), 'weight_kg'] = df_players.loc[df_players['name'].str.contains('Casillas'), 'weight_kg'].fillna(weight_mean).round(1)\\n\\n# fill na value of Casillas body_type with the most common value\\ndf_players.loc[df_players['name'].str.contains('Casillas'), 'body_type'] = df_players.loc[df_players['name'].str.contains('Casillas'), 'body_type'].fillna(body_type[0])\\n\\n# find all entries with name Casillas\\ndf_players[df_players['name'].str.contains('Casillas')][['name', 'body_type', 'height_cm', 'weight_kg']]\";\n                var nbb_formatted_code = \"# replace miss values of Casillas with the mean of height and weight\\ndf_players.loc[df_players[\\\"name\\\"].str.contains(\\\"Casillas\\\"), \\\"height_cm\\\"] = (\\n    df_players.loc[df_players[\\\"name\\\"].str.contains(\\\"Casillas\\\"), \\\"height_cm\\\"]\\n    .fillna(height_mean)\\n    .round(1)\\n)\\ndf_players.loc[df_players[\\\"name\\\"].str.contains(\\\"Casillas\\\"), \\\"weight_kg\\\"] = (\\n    df_players.loc[df_players[\\\"name\\\"].str.contains(\\\"Casillas\\\"), \\\"weight_kg\\\"]\\n    .fillna(weight_mean)\\n    .round(1)\\n)\\n\\n# fill na value of Casillas body_type with the most common value\\ndf_players.loc[\\n    df_players[\\\"name\\\"].str.contains(\\\"Casillas\\\"), \\\"body_type\\\"\\n] = df_players.loc[df_players[\\\"name\\\"].str.contains(\\\"Casillas\\\"), \\\"body_type\\\"].fillna(\\n    body_type[0]\\n)\\n\\n# find all entries with name Casillas\\ndf_players[df_players[\\\"name\\\"].str.contains(\\\"Casillas\\\")][\\n    [\\\"name\\\", \\\"body_type\\\", \\\"height_cm\\\", \\\"weight_kg\\\"]\\n]\";\n                var nbb_cells = Jupyter.notebook.get_cells();\n                for (var i = 0; i < nbb_cells.length; ++i) {\n                    if (nbb_cells[i].input_prompt_number == nbb_cell_id) {\n                        if (nbb_cells[i].get_text() == nbb_unformatted_code) {\n                             nbb_cells[i].set_text(nbb_formatted_code);\n                        }\n                        break;\n                    }\n                }\n            }, 500);\n            ",
      "text/plain": [
       "<IPython.core.display.Javascript object>"
      ]
     },
     "metadata": {},
     "output_type": "display_data"
    }
   ],
   "source": [
    "# replace miss values of Casillas with the mean of height and weight\n",
    "df_players.loc[df_players['name'].str.contains('Casillas'), 'height_cm'] = df_players.loc[df_players['name'].str.contains('Casillas'), 'height_cm'].fillna(height_mean).round(1)\n",
    "df_players.loc[df_players['name'].str.contains('Casillas'), 'weight_kg'] = df_players.loc[df_players['name'].str.contains('Casillas'), 'weight_kg'].fillna(weight_mean).round(1)\n",
    "\n",
    "# fill na value of Casillas body_type with the most common value\n",
    "df_players.loc[df_players['name'].str.contains('Casillas'), 'body_type'] = df_players.loc[df_players['name'].str.contains('Casillas'), 'body_type'].fillna(body_type[0])\n",
    "\n",
    "# find all entries with name Casillas\n",
    "df_players[df_players['name'].str.contains('Casillas')][['name', 'body_type', 'height_cm', 'weight_kg']]"
   ]
  },
  {
   "cell_type": "code",
   "execution_count": 65,
   "metadata": {},
   "outputs": [
    {
     "data": {
      "text/plain": [
       "name                  0\n",
       "team                  0\n",
       "country               0\n",
       "league                0\n",
       "rating                0\n",
       "rare                  0\n",
       "version_color         0\n",
       "position              0\n",
       "other_positions    1034\n",
       "version               0\n",
       "run_type              0\n",
       "price                 0\n",
       "skill                 0\n",
       "weak_foot             0\n",
       "attack_rate           0\n",
       "defense_rate          0\n",
       "pace                  0\n",
       "shoot                 0\n",
       "pass                  0\n",
       "drible                0\n",
       "defense               0\n",
       "physical              0\n",
       "body_type            15\n",
       "height_cm             0\n",
       "weight_kg             0\n",
       "popularity            0\n",
       "base_stats            0\n",
       "in_game_stats         0\n",
       "game_version          0\n",
       "updated_at            0\n",
       "dtype: int64"
      ]
     },
     "execution_count": 65,
     "metadata": {},
     "output_type": "execute_result"
    },
    {
     "data": {
      "application/javascript": "\n            setTimeout(function() {\n                var nbb_cell_id = 65;\n                var nbb_unformatted_code = \"# show players with null values in any column\\ndf_players.isna().sum()\";\n                var nbb_formatted_code = \"# show players with null values in any column\\ndf_players.isna().sum()\";\n                var nbb_cells = Jupyter.notebook.get_cells();\n                for (var i = 0; i < nbb_cells.length; ++i) {\n                    if (nbb_cells[i].input_prompt_number == nbb_cell_id) {\n                        if (nbb_cells[i].get_text() == nbb_unformatted_code) {\n                             nbb_cells[i].set_text(nbb_formatted_code);\n                        }\n                        break;\n                    }\n                }\n            }, 500);\n            ",
      "text/plain": [
       "<IPython.core.display.Javascript object>"
      ]
     },
     "metadata": {},
     "output_type": "display_data"
    }
   ],
   "source": [
    "# show players with null values in any column\n",
    "df_players.isna().sum()"
   ]
  },
  {
   "attachments": {},
   "cell_type": "markdown",
   "metadata": {},
   "source": [
    "### 2.5.3 Deal with 'body_type' column\n",
    "\n",
    "The idea is to use the Height and Weight to define the body type that are missing. We used BMI (body mass index) to define the boundaries.\n",
    "\n",
    "For this column it's ok if we aren't 100% sure about the value."
   ]
  },
  {
   "cell_type": "code",
   "execution_count": 66,
   "metadata": {},
   "outputs": [
    {
     "data": {
      "text/html": [
       "<div>\n",
       "<style scoped>\n",
       "    .dataframe tbody tr th:only-of-type {\n",
       "        vertical-align: middle;\n",
       "    }\n",
       "\n",
       "    .dataframe tbody tr th {\n",
       "        vertical-align: top;\n",
       "    }\n",
       "\n",
       "    .dataframe thead th {\n",
       "        text-align: right;\n",
       "    }\n",
       "</style>\n",
       "<table border=\"1\" class=\"dataframe\">\n",
       "  <thead>\n",
       "    <tr style=\"text-align: right;\">\n",
       "      <th></th>\n",
       "      <th>weight_kg</th>\n",
       "      <th>height_cm</th>\n",
       "      <th>bmi</th>\n",
       "    </tr>\n",
       "  </thead>\n",
       "  <tbody>\n",
       "    <tr>\n",
       "      <th>2277</th>\n",
       "      <td>82.0</td>\n",
       "      <td>188.0</td>\n",
       "      <td>23.0</td>\n",
       "    </tr>\n",
       "    <tr>\n",
       "      <th>1736</th>\n",
       "      <td>76.0</td>\n",
       "      <td>180.0</td>\n",
       "      <td>23.0</td>\n",
       "    </tr>\n",
       "    <tr>\n",
       "      <th>3040</th>\n",
       "      <td>81.0</td>\n",
       "      <td>193.0</td>\n",
       "      <td>22.0</td>\n",
       "    </tr>\n",
       "    <tr>\n",
       "      <th>2103</th>\n",
       "      <td>67.0</td>\n",
       "      <td>172.0</td>\n",
       "      <td>23.0</td>\n",
       "    </tr>\n",
       "    <tr>\n",
       "      <th>11</th>\n",
       "      <td>92.0</td>\n",
       "      <td>193.0</td>\n",
       "      <td>25.0</td>\n",
       "    </tr>\n",
       "  </tbody>\n",
       "</table>\n",
       "</div>"
      ],
      "text/plain": [
       "      weight_kg  height_cm   bmi\n",
       "2277       82.0      188.0  23.0\n",
       "1736       76.0      180.0  23.0\n",
       "3040       81.0      193.0  22.0\n",
       "2103       67.0      172.0  23.0\n",
       "11         92.0      193.0  25.0"
      ]
     },
     "execution_count": 66,
     "metadata": {},
     "output_type": "execute_result"
    },
    {
     "data": {
      "application/javascript": "\n            setTimeout(function() {\n                var nbb_cell_id = 66;\n                var nbb_unformatted_code = \"#create a new column BMI (body mass index) bmi = weight / (height ** 2)\\ndf_players['bmi'] = (df_players['weight_kg'] / (df_players['height_cm']/100) ** 2).round(0)\\n\\ndf_players[['weight_kg', 'height_cm', 'bmi']].sample(5)\";\n                var nbb_formatted_code = \"# create a new column BMI (body mass index) bmi = weight / (height ** 2)\\ndf_players[\\\"bmi\\\"] = (\\n    df_players[\\\"weight_kg\\\"] / (df_players[\\\"height_cm\\\"] / 100) ** 2\\n).round(0)\\n\\ndf_players[[\\\"weight_kg\\\", \\\"height_cm\\\", \\\"bmi\\\"]].sample(5)\";\n                var nbb_cells = Jupyter.notebook.get_cells();\n                for (var i = 0; i < nbb_cells.length; ++i) {\n                    if (nbb_cells[i].input_prompt_number == nbb_cell_id) {\n                        if (nbb_cells[i].get_text() == nbb_unformatted_code) {\n                             nbb_cells[i].set_text(nbb_formatted_code);\n                        }\n                        break;\n                    }\n                }\n            }, 500);\n            ",
      "text/plain": [
       "<IPython.core.display.Javascript object>"
      ]
     },
     "metadata": {},
     "output_type": "display_data"
    }
   ],
   "source": [
    "#create a new column BMI (body mass index) bmi = weight / (height ** 2)\n",
    "df_players['bmi'] = (df_players['weight_kg'] / (df_players['height_cm']/100) ** 2).round(0)\n",
    "\n",
    "df_players[['weight_kg', 'height_cm', 'bmi']].sample(5)"
   ]
  },
  {
   "cell_type": "code",
   "execution_count": 67,
   "metadata": {},
   "outputs": [
    {
     "data": {
      "text/plain": [
       "{23.0: 'Unique',\n",
       " 22.0: 'Short & Lean',\n",
       " 24.0: 'Ronaldinho',\n",
       " 21.0: 'High & Lean',\n",
       " 25.0: 'Stocky'}"
      ]
     },
     "execution_count": 67,
     "metadata": {},
     "output_type": "execute_result"
    },
    {
     "data": {
      "application/javascript": "\n            setTimeout(function() {\n                var nbb_cell_id = 67;\n                var nbb_unformatted_code = \"# group by body_type and calculate the mean of bmi\\ndf_player_groupedby_body_type = df_players.groupby('body_type')['bmi'].mean().round(0)\\n\\n# create a dict based on groups\\ndict_bmi_bodytype = {v: k for k, v in df_player_groupedby_body_type.items()}\\n\\ndict_bmi_bodytype\";\n                var nbb_formatted_code = \"# group by body_type and calculate the mean of bmi\\ndf_player_groupedby_body_type = df_players.groupby(\\\"body_type\\\")[\\\"bmi\\\"].mean().round(0)\\n\\n# create a dict based on groups\\ndict_bmi_bodytype = {v: k for k, v in df_player_groupedby_body_type.items()}\\n\\ndict_bmi_bodytype\";\n                var nbb_cells = Jupyter.notebook.get_cells();\n                for (var i = 0; i < nbb_cells.length; ++i) {\n                    if (nbb_cells[i].input_prompt_number == nbb_cell_id) {\n                        if (nbb_cells[i].get_text() == nbb_unformatted_code) {\n                             nbb_cells[i].set_text(nbb_formatted_code);\n                        }\n                        break;\n                    }\n                }\n            }, 500);\n            ",
      "text/plain": [
       "<IPython.core.display.Javascript object>"
      ]
     },
     "metadata": {},
     "output_type": "display_data"
    }
   ],
   "source": [
    "# group by body_type and calculate the mean of bmi\n",
    "df_player_groupedby_body_type = df_players.groupby('body_type')['bmi'].mean().round(0)\n",
    "\n",
    "# create a dict based on groups\n",
    "dict_bmi_bodytype = {v: k for k, v in df_player_groupedby_body_type.items()}\n",
    "\n",
    "dict_bmi_bodytype"
   ]
  },
  {
   "cell_type": "code",
   "execution_count": 68,
   "metadata": {},
   "outputs": [
    {
     "data": {
      "application/javascript": "\n            setTimeout(function() {\n                var nbb_cell_id = 68;\n                var nbb_unformatted_code = \"# fill na values of body_type with dictionary\\ndf_players['body_type'] = df_players['body_type'].fillna(df_players['bmi'].map(dict_bmi_bodytype))\";\n                var nbb_formatted_code = \"# fill na values of body_type with dictionary\\ndf_players[\\\"body_type\\\"] = df_players[\\\"body_type\\\"].fillna(\\n    df_players[\\\"bmi\\\"].map(dict_bmi_bodytype)\\n)\";\n                var nbb_cells = Jupyter.notebook.get_cells();\n                for (var i = 0; i < nbb_cells.length; ++i) {\n                    if (nbb_cells[i].input_prompt_number == nbb_cell_id) {\n                        if (nbb_cells[i].get_text() == nbb_unformatted_code) {\n                             nbb_cells[i].set_text(nbb_formatted_code);\n                        }\n                        break;\n                    }\n                }\n            }, 500);\n            ",
      "text/plain": [
       "<IPython.core.display.Javascript object>"
      ]
     },
     "metadata": {},
     "output_type": "display_data"
    }
   ],
   "source": [
    "# fill na values of body_type with dictionary\n",
    "df_players['body_type'] = df_players['body_type'].fillna(df_players['bmi'].map(dict_bmi_bodytype))"
   ]
  },
  {
   "cell_type": "code",
   "execution_count": 69,
   "metadata": {},
   "outputs": [
    {
     "data": {
      "text/plain": [
       "name                  0\n",
       "team                  0\n",
       "country               0\n",
       "league                0\n",
       "rating                0\n",
       "rare                  0\n",
       "version_color         0\n",
       "position              0\n",
       "other_positions    1034\n",
       "version               0\n",
       "run_type              0\n",
       "price                 0\n",
       "skill                 0\n",
       "weak_foot             0\n",
       "attack_rate           0\n",
       "defense_rate          0\n",
       "pace                  0\n",
       "shoot                 0\n",
       "pass                  0\n",
       "drible                0\n",
       "defense               0\n",
       "physical              0\n",
       "body_type             0\n",
       "height_cm             0\n",
       "weight_kg             0\n",
       "popularity            0\n",
       "base_stats            0\n",
       "in_game_stats         0\n",
       "game_version          0\n",
       "updated_at            0\n",
       "bmi                   0\n",
       "dtype: int64"
      ]
     },
     "execution_count": 69,
     "metadata": {},
     "output_type": "execute_result"
    },
    {
     "data": {
      "application/javascript": "\n            setTimeout(function() {\n                var nbb_cell_id = 69;\n                var nbb_unformatted_code = \"df_players.isna().sum()\";\n                var nbb_formatted_code = \"df_players.isna().sum()\";\n                var nbb_cells = Jupyter.notebook.get_cells();\n                for (var i = 0; i < nbb_cells.length; ++i) {\n                    if (nbb_cells[i].input_prompt_number == nbb_cell_id) {\n                        if (nbb_cells[i].get_text() == nbb_unformatted_code) {\n                             nbb_cells[i].set_text(nbb_formatted_code);\n                        }\n                        break;\n                    }\n                }\n            }, 500);\n            ",
      "text/plain": [
       "<IPython.core.display.Javascript object>"
      ]
     },
     "metadata": {},
     "output_type": "display_data"
    }
   ],
   "source": [
    "df_players.isna().sum()"
   ]
  },
  {
   "attachments": {},
   "cell_type": "markdown",
   "metadata": {},
   "source": [
    "There is some missing values on \"other_positions\" column, but it's not a problem since not every players will have more than one position to play. "
   ]
  },
  {
   "attachments": {},
   "cell_type": "markdown",
   "metadata": {},
   "source": [
    "## 2.6 Duplicated values\n",
    "Some players has more than one version, and it's fine, but we should understand if some players has the same Name, Team, Rating, Version and Position. "
   ]
  },
  {
   "cell_type": "code",
   "execution_count": 73,
   "metadata": {},
   "outputs": [
    {
     "data": {
      "text/html": [
       "<div>\n",
       "<style scoped>\n",
       "    .dataframe tbody tr th:only-of-type {\n",
       "        vertical-align: middle;\n",
       "    }\n",
       "\n",
       "    .dataframe tbody tr th {\n",
       "        vertical-align: top;\n",
       "    }\n",
       "\n",
       "    .dataframe thead th {\n",
       "        text-align: right;\n",
       "    }\n",
       "</style>\n",
       "<table border=\"1\" class=\"dataframe\">\n",
       "  <thead>\n",
       "    <tr style=\"text-align: right;\">\n",
       "      <th></th>\n",
       "      <th>name</th>\n",
       "      <th>team</th>\n",
       "      <th>country</th>\n",
       "      <th>league</th>\n",
       "      <th>rating</th>\n",
       "      <th>rare</th>\n",
       "      <th>version_color</th>\n",
       "      <th>position</th>\n",
       "      <th>other_positions</th>\n",
       "      <th>version</th>\n",
       "      <th>run_type</th>\n",
       "      <th>price</th>\n",
       "      <th>skill</th>\n",
       "      <th>weak_foot</th>\n",
       "      <th>attack_rate</th>\n",
       "      <th>defense_rate</th>\n",
       "      <th>pace</th>\n",
       "      <th>shoot</th>\n",
       "      <th>pass</th>\n",
       "      <th>drible</th>\n",
       "      <th>defense</th>\n",
       "      <th>physical</th>\n",
       "      <th>body_type</th>\n",
       "      <th>height_cm</th>\n",
       "      <th>weight_kg</th>\n",
       "      <th>popularity</th>\n",
       "      <th>base_stats</th>\n",
       "      <th>in_game_stats</th>\n",
       "      <th>game_version</th>\n",
       "      <th>updated_at</th>\n",
       "      <th>bmi</th>\n",
       "    </tr>\n",
       "  </thead>\n",
       "  <tbody>\n",
       "    <tr>\n",
       "      <th>402</th>\n",
       "      <td>Oleksandr Zinchenko</td>\n",
       "      <td>Arsenal</td>\n",
       "      <td>Ukraine</td>\n",
       "      <td>Premier League</td>\n",
       "      <td>90</td>\n",
       "      <td>rare</td>\n",
       "      <td>fut-bd gold</td>\n",
       "      <td>LB</td>\n",
       "      <td>LWB</td>\n",
       "      <td>FUT Birthday</td>\n",
       "      <td>Controlled</td>\n",
       "      <td>258000</td>\n",
       "      <td>5</td>\n",
       "      <td>4</td>\n",
       "      <td>H</td>\n",
       "      <td>M</td>\n",
       "      <td>90</td>\n",
       "      <td>78</td>\n",
       "      <td>89</td>\n",
       "      <td>90</td>\n",
       "      <td>87</td>\n",
       "      <td>81</td>\n",
       "      <td>Lean</td>\n",
       "      <td>175.0</td>\n",
       "      <td>64.0</td>\n",
       "      <td>903</td>\n",
       "      <td>515</td>\n",
       "      <td>2486</td>\n",
       "      <td>FIFA 23</td>\n",
       "      <td>2023-04-17</td>\n",
       "      <td>21.0</td>\n",
       "    </tr>\n",
       "    <tr>\n",
       "      <th>403</th>\n",
       "      <td>Oleksandr Zinchenko</td>\n",
       "      <td>Arsenal</td>\n",
       "      <td>Ukraine</td>\n",
       "      <td>Premier League</td>\n",
       "      <td>90</td>\n",
       "      <td>rare</td>\n",
       "      <td>fut-bd gold</td>\n",
       "      <td>LB</td>\n",
       "      <td>LWB</td>\n",
       "      <td>FUT Birthday</td>\n",
       "      <td>Controlled</td>\n",
       "      <td>255000</td>\n",
       "      <td>4</td>\n",
       "      <td>5</td>\n",
       "      <td>H</td>\n",
       "      <td>M</td>\n",
       "      <td>90</td>\n",
       "      <td>78</td>\n",
       "      <td>89</td>\n",
       "      <td>90</td>\n",
       "      <td>87</td>\n",
       "      <td>81</td>\n",
       "      <td>Lean</td>\n",
       "      <td>175.0</td>\n",
       "      <td>64.0</td>\n",
       "      <td>621</td>\n",
       "      <td>515</td>\n",
       "      <td>2486</td>\n",
       "      <td>FIFA 23</td>\n",
       "      <td>2023-04-17</td>\n",
       "      <td>21.0</td>\n",
       "    </tr>\n",
       "    <tr>\n",
       "      <th>570</th>\n",
       "      <td>Darwin Núñez</td>\n",
       "      <td>Liverpool</td>\n",
       "      <td>Uruguay</td>\n",
       "      <td>Premier League</td>\n",
       "      <td>89</td>\n",
       "      <td>rare</td>\n",
       "      <td>fut-bd gold</td>\n",
       "      <td>LW</td>\n",
       "      <td>CF,ST</td>\n",
       "      <td>FUT Birthday</td>\n",
       "      <td>Controlled</td>\n",
       "      <td>400000</td>\n",
       "      <td>4</td>\n",
       "      <td>5</td>\n",
       "      <td>H</td>\n",
       "      <td>H</td>\n",
       "      <td>95</td>\n",
       "      <td>88</td>\n",
       "      <td>77</td>\n",
       "      <td>86</td>\n",
       "      <td>48</td>\n",
       "      <td>92</td>\n",
       "      <td>High &amp; Average+</td>\n",
       "      <td>186.0</td>\n",
       "      <td>80.0</td>\n",
       "      <td>1099</td>\n",
       "      <td>486</td>\n",
       "      <td>2305</td>\n",
       "      <td>FIFA 23</td>\n",
       "      <td>2023-04-17</td>\n",
       "      <td>23.0</td>\n",
       "    </tr>\n",
       "    <tr>\n",
       "      <th>571</th>\n",
       "      <td>Darwin Núñez</td>\n",
       "      <td>Liverpool</td>\n",
       "      <td>Uruguay</td>\n",
       "      <td>Premier League</td>\n",
       "      <td>89</td>\n",
       "      <td>rare</td>\n",
       "      <td>fut-bd gold</td>\n",
       "      <td>LW</td>\n",
       "      <td>CF,ST</td>\n",
       "      <td>FUT Birthday</td>\n",
       "      <td>Controlled</td>\n",
       "      <td>415000</td>\n",
       "      <td>5</td>\n",
       "      <td>4</td>\n",
       "      <td>H</td>\n",
       "      <td>H</td>\n",
       "      <td>95</td>\n",
       "      <td>88</td>\n",
       "      <td>77</td>\n",
       "      <td>86</td>\n",
       "      <td>48</td>\n",
       "      <td>92</td>\n",
       "      <td>High &amp; Average+</td>\n",
       "      <td>186.0</td>\n",
       "      <td>80.0</td>\n",
       "      <td>821</td>\n",
       "      <td>486</td>\n",
       "      <td>2305</td>\n",
       "      <td>FIFA 23</td>\n",
       "      <td>2023-04-17</td>\n",
       "      <td>23.0</td>\n",
       "    </tr>\n",
       "    <tr>\n",
       "      <th>665</th>\n",
       "      <td>David Alaba</td>\n",
       "      <td>Real Madrid</td>\n",
       "      <td>Austria</td>\n",
       "      <td>LaLiga Santander</td>\n",
       "      <td>88</td>\n",
       "      <td>rare</td>\n",
       "      <td>halloween gold</td>\n",
       "      <td>CB</td>\n",
       "      <td>NaN</td>\n",
       "      <td>Rulebreakers</td>\n",
       "      <td>Controlled</td>\n",
       "      <td>0</td>\n",
       "      <td>3</td>\n",
       "      <td>4</td>\n",
       "      <td>M</td>\n",
       "      <td>M</td>\n",
       "      <td>81</td>\n",
       "      <td>66</td>\n",
       "      <td>85</td>\n",
       "      <td>83</td>\n",
       "      <td>91</td>\n",
       "      <td>81</td>\n",
       "      <td>Average</td>\n",
       "      <td>180.0</td>\n",
       "      <td>78.0</td>\n",
       "      <td>-773</td>\n",
       "      <td>487</td>\n",
       "      <td>2360</td>\n",
       "      <td>FIFA 23</td>\n",
       "      <td>2023-04-17</td>\n",
       "      <td>24.0</td>\n",
       "    </tr>\n",
       "    <tr>\n",
       "      <th>666</th>\n",
       "      <td>David Alaba</td>\n",
       "      <td>Real Madrid</td>\n",
       "      <td>Austria</td>\n",
       "      <td>LaLiga Santander</td>\n",
       "      <td>88</td>\n",
       "      <td>rare</td>\n",
       "      <td>halloween gold</td>\n",
       "      <td>CB</td>\n",
       "      <td>NaN</td>\n",
       "      <td>Rulebreakers</td>\n",
       "      <td>Controlled</td>\n",
       "      <td>0</td>\n",
       "      <td>3</td>\n",
       "      <td>4</td>\n",
       "      <td>M</td>\n",
       "      <td>M</td>\n",
       "      <td>81</td>\n",
       "      <td>66</td>\n",
       "      <td>85</td>\n",
       "      <td>83</td>\n",
       "      <td>87</td>\n",
       "      <td>87</td>\n",
       "      <td>Average</td>\n",
       "      <td>180.0</td>\n",
       "      <td>78.0</td>\n",
       "      <td>2872</td>\n",
       "      <td>489</td>\n",
       "      <td>2367</td>\n",
       "      <td>FIFA 23</td>\n",
       "      <td>2023-04-17</td>\n",
       "      <td>24.0</td>\n",
       "    </tr>\n",
       "    <tr>\n",
       "      <th>817</th>\n",
       "      <td>Jorge Resurrección</td>\n",
       "      <td>Atlético de Madrid</td>\n",
       "      <td>Spain</td>\n",
       "      <td>LaLiga Santander</td>\n",
       "      <td>88</td>\n",
       "      <td>rare</td>\n",
       "      <td>fut-bd gold</td>\n",
       "      <td>CM</td>\n",
       "      <td>CDM</td>\n",
       "      <td>FUT Birthday</td>\n",
       "      <td>Controlled</td>\n",
       "      <td>35000</td>\n",
       "      <td>4</td>\n",
       "      <td>5</td>\n",
       "      <td>M</td>\n",
       "      <td>M</td>\n",
       "      <td>80</td>\n",
       "      <td>81</td>\n",
       "      <td>90</td>\n",
       "      <td>85</td>\n",
       "      <td>83</td>\n",
       "      <td>84</td>\n",
       "      <td>Average</td>\n",
       "      <td>176.0</td>\n",
       "      <td>77.0</td>\n",
       "      <td>-77</td>\n",
       "      <td>503</td>\n",
       "      <td>2410</td>\n",
       "      <td>FIFA 23</td>\n",
       "      <td>2023-04-17</td>\n",
       "      <td>25.0</td>\n",
       "    </tr>\n",
       "    <tr>\n",
       "      <th>818</th>\n",
       "      <td>Jorge Resurrección</td>\n",
       "      <td>Atlético de Madrid</td>\n",
       "      <td>Spain</td>\n",
       "      <td>LaLiga Santander</td>\n",
       "      <td>88</td>\n",
       "      <td>rare</td>\n",
       "      <td>fut-bd gold</td>\n",
       "      <td>CM</td>\n",
       "      <td>CDM</td>\n",
       "      <td>FUT Birthday</td>\n",
       "      <td>Controlled</td>\n",
       "      <td>34750</td>\n",
       "      <td>5</td>\n",
       "      <td>4</td>\n",
       "      <td>M</td>\n",
       "      <td>M</td>\n",
       "      <td>80</td>\n",
       "      <td>81</td>\n",
       "      <td>90</td>\n",
       "      <td>85</td>\n",
       "      <td>83</td>\n",
       "      <td>84</td>\n",
       "      <td>Average</td>\n",
       "      <td>176.0</td>\n",
       "      <td>77.0</td>\n",
       "      <td>200</td>\n",
       "      <td>503</td>\n",
       "      <td>2410</td>\n",
       "      <td>FIFA 23</td>\n",
       "      <td>2023-04-17</td>\n",
       "      <td>25.0</td>\n",
       "    </tr>\n",
       "    <tr>\n",
       "      <th>828</th>\n",
       "      <td>Mattéo Guendouzi</td>\n",
       "      <td>OM</td>\n",
       "      <td>France</td>\n",
       "      <td>Ligue 1</td>\n",
       "      <td>88</td>\n",
       "      <td>rare</td>\n",
       "      <td>fut-bd gold</td>\n",
       "      <td>CM</td>\n",
       "      <td>CDM</td>\n",
       "      <td>FUT Birthday</td>\n",
       "      <td>Controlled</td>\n",
       "      <td>378000</td>\n",
       "      <td>5</td>\n",
       "      <td>4</td>\n",
       "      <td>M</td>\n",
       "      <td>H</td>\n",
       "      <td>83</td>\n",
       "      <td>82</td>\n",
       "      <td>87</td>\n",
       "      <td>84</td>\n",
       "      <td>86</td>\n",
       "      <td>89</td>\n",
       "      <td>High &amp; Average+</td>\n",
       "      <td>185.0</td>\n",
       "      <td>68.0</td>\n",
       "      <td>752</td>\n",
       "      <td>511</td>\n",
       "      <td>2445</td>\n",
       "      <td>FIFA 23</td>\n",
       "      <td>2023-04-17</td>\n",
       "      <td>20.0</td>\n",
       "    </tr>\n",
       "    <tr>\n",
       "      <th>829</th>\n",
       "      <td>Mattéo Guendouzi</td>\n",
       "      <td>OM</td>\n",
       "      <td>France</td>\n",
       "      <td>Ligue 1</td>\n",
       "      <td>88</td>\n",
       "      <td>rare</td>\n",
       "      <td>fut-bd gold</td>\n",
       "      <td>CM</td>\n",
       "      <td>CDM</td>\n",
       "      <td>FUT Birthday</td>\n",
       "      <td>Controlled</td>\n",
       "      <td>357000</td>\n",
       "      <td>4</td>\n",
       "      <td>5</td>\n",
       "      <td>M</td>\n",
       "      <td>H</td>\n",
       "      <td>83</td>\n",
       "      <td>82</td>\n",
       "      <td>87</td>\n",
       "      <td>84</td>\n",
       "      <td>86</td>\n",
       "      <td>89</td>\n",
       "      <td>High &amp; Average+</td>\n",
       "      <td>185.0</td>\n",
       "      <td>68.0</td>\n",
       "      <td>540</td>\n",
       "      <td>511</td>\n",
       "      <td>2445</td>\n",
       "      <td>FIFA 23</td>\n",
       "      <td>2023-04-17</td>\n",
       "      <td>20.0</td>\n",
       "    </tr>\n",
       "    <tr>\n",
       "      <th>1113</th>\n",
       "      <td>Matteo Pessina</td>\n",
       "      <td>AC Monza</td>\n",
       "      <td>Italy</td>\n",
       "      <td>Serie A TIM</td>\n",
       "      <td>87</td>\n",
       "      <td>rare</td>\n",
       "      <td>fut-bd gold</td>\n",
       "      <td>CAM</td>\n",
       "      <td>CM,CF</td>\n",
       "      <td>FUT Birthday</td>\n",
       "      <td>Controlled</td>\n",
       "      <td>20750</td>\n",
       "      <td>4</td>\n",
       "      <td>5</td>\n",
       "      <td>M</td>\n",
       "      <td>M</td>\n",
       "      <td>86</td>\n",
       "      <td>84</td>\n",
       "      <td>86</td>\n",
       "      <td>88</td>\n",
       "      <td>81</td>\n",
       "      <td>81</td>\n",
       "      <td>Lean</td>\n",
       "      <td>183.0</td>\n",
       "      <td>75.0</td>\n",
       "      <td>151</td>\n",
       "      <td>506</td>\n",
       "      <td>2367</td>\n",
       "      <td>FIFA 23</td>\n",
       "      <td>2023-04-17</td>\n",
       "      <td>22.0</td>\n",
       "    </tr>\n",
       "    <tr>\n",
       "      <th>1115</th>\n",
       "      <td>Matteo Pessina</td>\n",
       "      <td>AC Monza</td>\n",
       "      <td>Italy</td>\n",
       "      <td>Serie A TIM</td>\n",
       "      <td>87</td>\n",
       "      <td>rare</td>\n",
       "      <td>fut-bd gold</td>\n",
       "      <td>CAM</td>\n",
       "      <td>CM,CF</td>\n",
       "      <td>FUT Birthday</td>\n",
       "      <td>Controlled</td>\n",
       "      <td>20500</td>\n",
       "      <td>5</td>\n",
       "      <td>4</td>\n",
       "      <td>M</td>\n",
       "      <td>M</td>\n",
       "      <td>86</td>\n",
       "      <td>84</td>\n",
       "      <td>86</td>\n",
       "      <td>88</td>\n",
       "      <td>81</td>\n",
       "      <td>81</td>\n",
       "      <td>Lean</td>\n",
       "      <td>183.0</td>\n",
       "      <td>75.0</td>\n",
       "      <td>183</td>\n",
       "      <td>506</td>\n",
       "      <td>2367</td>\n",
       "      <td>FIFA 23</td>\n",
       "      <td>2023-04-17</td>\n",
       "      <td>22.0</td>\n",
       "    </tr>\n",
       "    <tr>\n",
       "      <th>1217</th>\n",
       "      <td>Sheraldo Becker</td>\n",
       "      <td>Union Berlin</td>\n",
       "      <td>Suriname</td>\n",
       "      <td>Bundesliga</td>\n",
       "      <td>86</td>\n",
       "      <td>rare</td>\n",
       "      <td>halloween gold</td>\n",
       "      <td>ST</td>\n",
       "      <td>RM,CF</td>\n",
       "      <td>Rulebreakers SBC</td>\n",
       "      <td>Lengthy</td>\n",
       "      <td>0</td>\n",
       "      <td>3</td>\n",
       "      <td>4</td>\n",
       "      <td>M</td>\n",
       "      <td>L</td>\n",
       "      <td>96</td>\n",
       "      <td>85</td>\n",
       "      <td>82</td>\n",
       "      <td>75</td>\n",
       "      <td>50</td>\n",
       "      <td>85</td>\n",
       "      <td>Average</td>\n",
       "      <td>180.0</td>\n",
       "      <td>77.0</td>\n",
       "      <td>-550</td>\n",
       "      <td>473</td>\n",
       "      <td>2217</td>\n",
       "      <td>FIFA 23</td>\n",
       "      <td>2023-04-17</td>\n",
       "      <td>24.0</td>\n",
       "    </tr>\n",
       "    <tr>\n",
       "      <th>1218</th>\n",
       "      <td>Sheraldo Becker</td>\n",
       "      <td>Union Berlin</td>\n",
       "      <td>Suriname</td>\n",
       "      <td>Bundesliga</td>\n",
       "      <td>86</td>\n",
       "      <td>rare</td>\n",
       "      <td>halloween gold</td>\n",
       "      <td>ST</td>\n",
       "      <td>RM,CF</td>\n",
       "      <td>Rulebreakers SBC</td>\n",
       "      <td>Controlled</td>\n",
       "      <td>0</td>\n",
       "      <td>4</td>\n",
       "      <td>3</td>\n",
       "      <td>M</td>\n",
       "      <td>L</td>\n",
       "      <td>92</td>\n",
       "      <td>85</td>\n",
       "      <td>78</td>\n",
       "      <td>87</td>\n",
       "      <td>45</td>\n",
       "      <td>88</td>\n",
       "      <td>Average</td>\n",
       "      <td>180.0</td>\n",
       "      <td>77.0</td>\n",
       "      <td>2193</td>\n",
       "      <td>475</td>\n",
       "      <td>2235</td>\n",
       "      <td>FIFA 23</td>\n",
       "      <td>2023-04-17</td>\n",
       "      <td>24.0</td>\n",
       "    </tr>\n",
       "    <tr>\n",
       "      <th>1376</th>\n",
       "      <td>Joakim Mæhle</td>\n",
       "      <td>Atalanta BC</td>\n",
       "      <td>Denmark</td>\n",
       "      <td>Serie A TIM</td>\n",
       "      <td>86</td>\n",
       "      <td>rare</td>\n",
       "      <td>fut-bd gold</td>\n",
       "      <td>RWB</td>\n",
       "      <td>RB,RM,LM</td>\n",
       "      <td>FUT Birthday</td>\n",
       "      <td>Controlled</td>\n",
       "      <td>17500</td>\n",
       "      <td>5</td>\n",
       "      <td>4</td>\n",
       "      <td>M</td>\n",
       "      <td>M</td>\n",
       "      <td>94</td>\n",
       "      <td>70</td>\n",
       "      <td>82</td>\n",
       "      <td>85</td>\n",
       "      <td>82</td>\n",
       "      <td>86</td>\n",
       "      <td>High &amp; Average</td>\n",
       "      <td>185.0</td>\n",
       "      <td>79.0</td>\n",
       "      <td>202</td>\n",
       "      <td>499</td>\n",
       "      <td>2342</td>\n",
       "      <td>FIFA 23</td>\n",
       "      <td>2023-04-17</td>\n",
       "      <td>23.0</td>\n",
       "    </tr>\n",
       "    <tr>\n",
       "      <th>1377</th>\n",
       "      <td>Joakim Mæhle</td>\n",
       "      <td>Atalanta BC</td>\n",
       "      <td>Denmark</td>\n",
       "      <td>Serie A TIM</td>\n",
       "      <td>86</td>\n",
       "      <td>rare</td>\n",
       "      <td>fut-bd gold</td>\n",
       "      <td>RWB</td>\n",
       "      <td>RB,RM,LM</td>\n",
       "      <td>FUT Birthday</td>\n",
       "      <td>Controlled</td>\n",
       "      <td>17500</td>\n",
       "      <td>4</td>\n",
       "      <td>5</td>\n",
       "      <td>M</td>\n",
       "      <td>M</td>\n",
       "      <td>94</td>\n",
       "      <td>70</td>\n",
       "      <td>82</td>\n",
       "      <td>85</td>\n",
       "      <td>82</td>\n",
       "      <td>86</td>\n",
       "      <td>High &amp; Average</td>\n",
       "      <td>185.0</td>\n",
       "      <td>79.0</td>\n",
       "      <td>138</td>\n",
       "      <td>499</td>\n",
       "      <td>2342</td>\n",
       "      <td>FIFA 23</td>\n",
       "      <td>2023-04-17</td>\n",
       "      <td>23.0</td>\n",
       "    </tr>\n",
       "    <tr>\n",
       "      <th>3307</th>\n",
       "      <td>Corozo</td>\n",
       "      <td>Ecuador</td>\n",
       "      <td>Ecuador</td>\n",
       "      <td>World Cup</td>\n",
       "      <td>78</td>\n",
       "      <td>rare</td>\n",
       "      <td>wc_player gold</td>\n",
       "      <td>LM</td>\n",
       "      <td>LW</td>\n",
       "      <td>World Cup Player</td>\n",
       "      <td>Controlled</td>\n",
       "      <td>0</td>\n",
       "      <td>3</td>\n",
       "      <td>3</td>\n",
       "      <td>H</td>\n",
       "      <td>M</td>\n",
       "      <td>92</td>\n",
       "      <td>73</td>\n",
       "      <td>67</td>\n",
       "      <td>80</td>\n",
       "      <td>37</td>\n",
       "      <td>82</td>\n",
       "      <td>Lean</td>\n",
       "      <td>180.0</td>\n",
       "      <td>66.0</td>\n",
       "      <td>2</td>\n",
       "      <td>431</td>\n",
       "      <td>1954</td>\n",
       "      <td>FIFA 23</td>\n",
       "      <td>2023-04-17</td>\n",
       "      <td>20.0</td>\n",
       "    </tr>\n",
       "    <tr>\n",
       "      <th>3322</th>\n",
       "      <td>Corozo</td>\n",
       "      <td>Ecuador</td>\n",
       "      <td>Ecuador</td>\n",
       "      <td>World Cup</td>\n",
       "      <td>78</td>\n",
       "      <td>rare</td>\n",
       "      <td>wc_player gold</td>\n",
       "      <td>LM</td>\n",
       "      <td>RM,LW</td>\n",
       "      <td>World Cup Player</td>\n",
       "      <td>Explosive</td>\n",
       "      <td>0</td>\n",
       "      <td>4</td>\n",
       "      <td>4</td>\n",
       "      <td>H</td>\n",
       "      <td>M</td>\n",
       "      <td>87</td>\n",
       "      <td>70</td>\n",
       "      <td>70</td>\n",
       "      <td>78</td>\n",
       "      <td>51</td>\n",
       "      <td>68</td>\n",
       "      <td>Lean</td>\n",
       "      <td>176.0</td>\n",
       "      <td>63.0</td>\n",
       "      <td>0</td>\n",
       "      <td>424</td>\n",
       "      <td>1989</td>\n",
       "      <td>FIFA 23</td>\n",
       "      <td>2023-04-17</td>\n",
       "      <td>20.0</td>\n",
       "    </tr>\n",
       "  </tbody>\n",
       "</table>\n",
       "</div>"
      ],
      "text/plain": [
       "                     name                team   country            league  \\\n",
       "402   Oleksandr Zinchenko             Arsenal   Ukraine    Premier League   \n",
       "403   Oleksandr Zinchenko             Arsenal   Ukraine    Premier League   \n",
       "570          Darwin Núñez           Liverpool   Uruguay    Premier League   \n",
       "571          Darwin Núñez           Liverpool   Uruguay    Premier League   \n",
       "665           David Alaba         Real Madrid   Austria  LaLiga Santander   \n",
       "666           David Alaba         Real Madrid   Austria  LaLiga Santander   \n",
       "817    Jorge Resurrección  Atlético de Madrid     Spain  LaLiga Santander   \n",
       "818    Jorge Resurrección  Atlético de Madrid     Spain  LaLiga Santander   \n",
       "828      Mattéo Guendouzi                  OM    France           Ligue 1   \n",
       "829      Mattéo Guendouzi                  OM    France           Ligue 1   \n",
       "1113       Matteo Pessina            AC Monza     Italy       Serie A TIM   \n",
       "1115       Matteo Pessina            AC Monza     Italy       Serie A TIM   \n",
       "1217      Sheraldo Becker        Union Berlin  Suriname        Bundesliga   \n",
       "1218      Sheraldo Becker        Union Berlin  Suriname        Bundesliga   \n",
       "1376         Joakim Mæhle         Atalanta BC   Denmark       Serie A TIM   \n",
       "1377         Joakim Mæhle         Atalanta BC   Denmark       Serie A TIM   \n",
       "3307               Corozo             Ecuador   Ecuador         World Cup   \n",
       "3322               Corozo             Ecuador   Ecuador         World Cup   \n",
       "\n",
       "      rating  rare   version_color position other_positions           version  \\\n",
       "402       90  rare     fut-bd gold       LB             LWB      FUT Birthday   \n",
       "403       90  rare     fut-bd gold       LB             LWB      FUT Birthday   \n",
       "570       89  rare     fut-bd gold       LW           CF,ST      FUT Birthday   \n",
       "571       89  rare     fut-bd gold       LW           CF,ST      FUT Birthday   \n",
       "665       88  rare  halloween gold       CB             NaN      Rulebreakers   \n",
       "666       88  rare  halloween gold       CB             NaN      Rulebreakers   \n",
       "817       88  rare     fut-bd gold       CM             CDM      FUT Birthday   \n",
       "818       88  rare     fut-bd gold       CM             CDM      FUT Birthday   \n",
       "828       88  rare     fut-bd gold       CM             CDM      FUT Birthday   \n",
       "829       88  rare     fut-bd gold       CM             CDM      FUT Birthday   \n",
       "1113      87  rare     fut-bd gold      CAM           CM,CF      FUT Birthday   \n",
       "1115      87  rare     fut-bd gold      CAM           CM,CF      FUT Birthday   \n",
       "1217      86  rare  halloween gold       ST           RM,CF  Rulebreakers SBC   \n",
       "1218      86  rare  halloween gold       ST           RM,CF  Rulebreakers SBC   \n",
       "1376      86  rare     fut-bd gold      RWB        RB,RM,LM      FUT Birthday   \n",
       "1377      86  rare     fut-bd gold      RWB        RB,RM,LM      FUT Birthday   \n",
       "3307      78  rare  wc_player gold       LM              LW  World Cup Player   \n",
       "3322      78  rare  wc_player gold       LM           RM,LW  World Cup Player   \n",
       "\n",
       "        run_type   price  skill  weak_foot attack_rate defense_rate  pace  \\\n",
       "402   Controlled  258000      5          4           H            M    90   \n",
       "403   Controlled  255000      4          5           H            M    90   \n",
       "570   Controlled  400000      4          5           H            H    95   \n",
       "571   Controlled  415000      5          4           H            H    95   \n",
       "665   Controlled       0      3          4           M            M    81   \n",
       "666   Controlled       0      3          4           M            M    81   \n",
       "817   Controlled   35000      4          5           M            M    80   \n",
       "818   Controlled   34750      5          4           M            M    80   \n",
       "828   Controlled  378000      5          4           M            H    83   \n",
       "829   Controlled  357000      4          5           M            H    83   \n",
       "1113  Controlled   20750      4          5           M            M    86   \n",
       "1115  Controlled   20500      5          4           M            M    86   \n",
       "1217     Lengthy       0      3          4           M            L    96   \n",
       "1218  Controlled       0      4          3           M            L    92   \n",
       "1376  Controlled   17500      5          4           M            M    94   \n",
       "1377  Controlled   17500      4          5           M            M    94   \n",
       "3307  Controlled       0      3          3           H            M    92   \n",
       "3322   Explosive       0      4          4           H            M    87   \n",
       "\n",
       "      shoot  pass  drible  defense  physical        body_type  height_cm  \\\n",
       "402      78    89      90       87        81             Lean      175.0   \n",
       "403      78    89      90       87        81             Lean      175.0   \n",
       "570      88    77      86       48        92  High & Average+      186.0   \n",
       "571      88    77      86       48        92  High & Average+      186.0   \n",
       "665      66    85      83       91        81          Average      180.0   \n",
       "666      66    85      83       87        87          Average      180.0   \n",
       "817      81    90      85       83        84          Average      176.0   \n",
       "818      81    90      85       83        84          Average      176.0   \n",
       "828      82    87      84       86        89  High & Average+      185.0   \n",
       "829      82    87      84       86        89  High & Average+      185.0   \n",
       "1113     84    86      88       81        81             Lean      183.0   \n",
       "1115     84    86      88       81        81             Lean      183.0   \n",
       "1217     85    82      75       50        85          Average      180.0   \n",
       "1218     85    78      87       45        88          Average      180.0   \n",
       "1376     70    82      85       82        86   High & Average      185.0   \n",
       "1377     70    82      85       82        86   High & Average      185.0   \n",
       "3307     73    67      80       37        82             Lean      180.0   \n",
       "3322     70    70      78       51        68             Lean      176.0   \n",
       "\n",
       "      weight_kg  popularity  base_stats  in_game_stats game_version  \\\n",
       "402        64.0         903         515           2486      FIFA 23   \n",
       "403        64.0         621         515           2486      FIFA 23   \n",
       "570        80.0        1099         486           2305      FIFA 23   \n",
       "571        80.0         821         486           2305      FIFA 23   \n",
       "665        78.0        -773         487           2360      FIFA 23   \n",
       "666        78.0        2872         489           2367      FIFA 23   \n",
       "817        77.0         -77         503           2410      FIFA 23   \n",
       "818        77.0         200         503           2410      FIFA 23   \n",
       "828        68.0         752         511           2445      FIFA 23   \n",
       "829        68.0         540         511           2445      FIFA 23   \n",
       "1113       75.0         151         506           2367      FIFA 23   \n",
       "1115       75.0         183         506           2367      FIFA 23   \n",
       "1217       77.0        -550         473           2217      FIFA 23   \n",
       "1218       77.0        2193         475           2235      FIFA 23   \n",
       "1376       79.0         202         499           2342      FIFA 23   \n",
       "1377       79.0         138         499           2342      FIFA 23   \n",
       "3307       66.0           2         431           1954      FIFA 23   \n",
       "3322       63.0           0         424           1989      FIFA 23   \n",
       "\n",
       "     updated_at   bmi  \n",
       "402  2023-04-17  21.0  \n",
       "403  2023-04-17  21.0  \n",
       "570  2023-04-17  23.0  \n",
       "571  2023-04-17  23.0  \n",
       "665  2023-04-17  24.0  \n",
       "666  2023-04-17  24.0  \n",
       "817  2023-04-17  25.0  \n",
       "818  2023-04-17  25.0  \n",
       "828  2023-04-17  20.0  \n",
       "829  2023-04-17  20.0  \n",
       "1113 2023-04-17  22.0  \n",
       "1115 2023-04-17  22.0  \n",
       "1217 2023-04-17  24.0  \n",
       "1218 2023-04-17  24.0  \n",
       "1376 2023-04-17  23.0  \n",
       "1377 2023-04-17  23.0  \n",
       "3307 2023-04-17  20.0  \n",
       "3322 2023-04-17  20.0  "
      ]
     },
     "execution_count": 73,
     "metadata": {},
     "output_type": "execute_result"
    },
    {
     "data": {
      "application/javascript": "\n            setTimeout(function() {\n                var nbb_cell_id = 73;\n                var nbb_unformatted_code = \"df_players.loc[df_players.duplicated(subset=['name',\\n                                             'team', \\n                                            'rating',\\n                                            'league',\\n                                            'version',\\n                                            'position'], keep=False)]\";\n                var nbb_formatted_code = \"df_players.loc[\\n    df_players.duplicated(\\n        subset=[\\\"name\\\", \\\"team\\\", \\\"rating\\\", \\\"league\\\", \\\"version\\\", \\\"position\\\"], keep=False\\n    )\\n]\";\n                var nbb_cells = Jupyter.notebook.get_cells();\n                for (var i = 0; i < nbb_cells.length; ++i) {\n                    if (nbb_cells[i].input_prompt_number == nbb_cell_id) {\n                        if (nbb_cells[i].get_text() == nbb_unformatted_code) {\n                             nbb_cells[i].set_text(nbb_formatted_code);\n                        }\n                        break;\n                    }\n                }\n            }, 500);\n            ",
      "text/plain": [
       "<IPython.core.display.Javascript object>"
      ]
     },
     "metadata": {},
     "output_type": "display_data"
    }
   ],
   "source": [
    "df_players.loc[df_players.duplicated(subset=['name',\n",
    "                                             'team', \n",
    "                                            'rating',\n",
    "                                            'league',\n",
    "                                            'version',\n",
    "                                            'position'], keep=False)]"
   ]
  },
  {
   "cell_type": "code",
   "execution_count": 76,
   "metadata": {},
   "outputs": [
    {
     "data": {
      "text/plain": [
       "(4011, 31)"
      ]
     },
     "execution_count": 76,
     "metadata": {},
     "output_type": "execute_result"
    },
    {
     "data": {
      "application/javascript": "\n            setTimeout(function() {\n                var nbb_cell_id = 76;\n                var nbb_unformatted_code = \"# drop duplicated values\\ndf_players.drop_duplicates(subset=['name',\\n                                            'team', \\n                                            'rating',\\n                                            'league',\\n                                            'version',\\n                                            'position'], \\n                                            keep='first', inplace=True)\\n\\ndf_players.shape\";\n                var nbb_formatted_code = \"# drop duplicated values\\ndf_players.drop_duplicates(\\n    subset=[\\\"name\\\", \\\"team\\\", \\\"rating\\\", \\\"league\\\", \\\"version\\\", \\\"position\\\"],\\n    keep=\\\"first\\\",\\n    inplace=True,\\n)\\n\\ndf_players.shape\";\n                var nbb_cells = Jupyter.notebook.get_cells();\n                for (var i = 0; i < nbb_cells.length; ++i) {\n                    if (nbb_cells[i].input_prompt_number == nbb_cell_id) {\n                        if (nbb_cells[i].get_text() == nbb_unformatted_code) {\n                             nbb_cells[i].set_text(nbb_formatted_code);\n                        }\n                        break;\n                    }\n                }\n            }, 500);\n            ",
      "text/plain": [
       "<IPython.core.display.Javascript object>"
      ]
     },
     "metadata": {},
     "output_type": "display_data"
    }
   ],
   "source": [
    "# drop duplicated values\n",
    "df_players.drop_duplicates(subset=['name',\n",
    "                                            'team', \n",
    "                                            'rating',\n",
    "                                            'league',\n",
    "                                            'version',\n",
    "                                            'position'], \n",
    "                                            keep='first', inplace=True)\n",
    "\n",
    "df_players.shape"
   ]
  },
  {
   "attachments": {},
   "cell_type": "markdown",
   "metadata": {},
   "source": [
    "## 2.7 Remove useless data\n",
    "\n",
    "Some entries are useless to the analysis so we sould remove it."
   ]
  },
  {
   "attachments": {},
   "cell_type": "markdown",
   "metadata": {},
   "source": [
    "### 2.7.1 World Cup players\n",
    "For the purposes of this analysis, we will exclude two special versions of player cards: \"World Cup Player\","
   ]
  },
  {
   "cell_type": "code",
   "execution_count": 83,
   "metadata": {},
   "outputs": [
    {
     "data": {
      "text/plain": [
       "(2899, 31)"
      ]
     },
     "execution_count": 83,
     "metadata": {},
     "output_type": "execute_result"
    },
    {
     "data": {
      "application/javascript": "\n            setTimeout(function() {\n                var nbb_cell_id = 83;\n                var nbb_unformatted_code = \"df_players = df_players.query('version != \\\"World Cup Player\\\"')\\ndf_players.shape\";\n                var nbb_formatted_code = \"df_players = df_players.query('version != \\\"World Cup Player\\\"')\\ndf_players.shape\";\n                var nbb_cells = Jupyter.notebook.get_cells();\n                for (var i = 0; i < nbb_cells.length; ++i) {\n                    if (nbb_cells[i].input_prompt_number == nbb_cell_id) {\n                        if (nbb_cells[i].get_text() == nbb_unformatted_code) {\n                             nbb_cells[i].set_text(nbb_formatted_code);\n                        }\n                        break;\n                    }\n                }\n            }, 500);\n            ",
      "text/plain": [
       "<IPython.core.display.Javascript object>"
      ]
     },
     "metadata": {},
     "output_type": "display_data"
    }
   ],
   "source": [
    "df_players = df_players.query('version != \"World Cup Player\"')\n",
    "df_players.shape"
   ]
  },
  {
   "attachments": {},
   "cell_type": "markdown",
   "metadata": {},
   "source": []
  },
  {
   "attachments": {},
   "cell_type": "markdown",
   "metadata": {},
   "source": [
    "### 2.7.2 Keep players with high rating\n",
    "Choosing players who have a rating of 83 or higher. For those below 83 the price is almost the same"
   ]
  },
  {
   "cell_type": "code",
   "execution_count": 85,
   "metadata": {},
   "outputs": [
    {
     "data": {
      "text/plain": [
       "(1722, 31)"
      ]
     },
     "execution_count": 85,
     "metadata": {},
     "output_type": "execute_result"
    },
    {
     "data": {
      "application/javascript": "\n            setTimeout(function() {\n                var nbb_cell_id = 85;\n                var nbb_unformatted_code = \"df_players = df_players.loc[df_players['rating'] >= 84]\\\\\\n                                .reset_index(drop=True)\\\\\\n                                .copy()\\n\\ndf_players.shape\";\n                var nbb_formatted_code = \"df_players = df_players.loc[df_players[\\\"rating\\\"] >= 84].reset_index(drop=True).copy()\\n\\ndf_players.shape\";\n                var nbb_cells = Jupyter.notebook.get_cells();\n                for (var i = 0; i < nbb_cells.length; ++i) {\n                    if (nbb_cells[i].input_prompt_number == nbb_cell_id) {\n                        if (nbb_cells[i].get_text() == nbb_unformatted_code) {\n                             nbb_cells[i].set_text(nbb_formatted_code);\n                        }\n                        break;\n                    }\n                }\n            }, 500);\n            ",
      "text/plain": [
       "<IPython.core.display.Javascript object>"
      ]
     },
     "metadata": {},
     "output_type": "display_data"
    }
   ],
   "source": [
    "df_players = df_players.loc[df_players['rating'] >= 84]\\\n",
    "                                .reset_index(drop=True)\\\n",
    "                                .copy()\n",
    "\n",
    "df_players.shape"
   ]
  },
  {
   "attachments": {},
   "cell_type": "markdown",
   "metadata": {},
   "source": [
    "### 2.7.3 Players with 0 price\n",
    "Some players doen't have a price, so we need to remove then to don't misleading the analysis."
   ]
  },
  {
   "cell_type": "code",
   "execution_count": 93,
   "metadata": {},
   "outputs": [
    {
     "data": {
      "text/plain": [
       "(1579, 31)"
      ]
     },
     "execution_count": 93,
     "metadata": {},
     "output_type": "execute_result"
    },
    {
     "data": {
      "application/javascript": "\n            setTimeout(function() {\n                var nbb_cell_id = 93;\n                var nbb_unformatted_code = \"# remove players with price == 0\\ndf_players = df_players[df_players['price'] != 0].reset_index(drop=True).copy()\\n\\ndf_players.shape\";\n                var nbb_formatted_code = \"# remove players with price == 0\\ndf_players = df_players[df_players[\\\"price\\\"] != 0].reset_index(drop=True).copy()\\n\\ndf_players.shape\";\n                var nbb_cells = Jupyter.notebook.get_cells();\n                for (var i = 0; i < nbb_cells.length; ++i) {\n                    if (nbb_cells[i].input_prompt_number == nbb_cell_id) {\n                        if (nbb_cells[i].get_text() == nbb_unformatted_code) {\n                             nbb_cells[i].set_text(nbb_formatted_code);\n                        }\n                        break;\n                    }\n                }\n            }, 500);\n            ",
      "text/plain": [
       "<IPython.core.display.Javascript object>"
      ]
     },
     "metadata": {},
     "output_type": "display_data"
    }
   ],
   "source": [
    "# remove players with price == 0\n",
    "df_players = df_players[df_players['price'] != 0].reset_index(drop=True).copy()\n",
    "\n",
    "df_players.shape"
   ]
  },
  {
   "attachments": {},
   "cell_type": "markdown",
   "metadata": {},
   "source": [
    "# WIP"
   ]
  },
  {
   "attachments": {},
   "cell_type": "markdown",
   "metadata": {},
   "source": [
    "## Step 3 - Feature Understanding"
   ]
  },
  {
   "cell_type": "code",
   "execution_count": 86,
   "metadata": {},
   "outputs": [
    {
     "data": {
      "text/plain": [
       "Icons                          0.232288\n",
       "Premier League                 0.204994\n",
       "LaLiga Santander               0.132404\n",
       "Serie A TIM                    0.126597\n",
       "Bundesliga                     0.112079\n",
       "Ligue 1                        0.086527\n",
       "Major League Soccer            0.027294\n",
       "Eredivisie                     0.020906\n",
       "Liga NOS (POR 1)               0.014518\n",
       "MBS Pro League (SAU 1)         0.010453\n",
       "Süper Lig (TUR 1)              0.009292\n",
       "World Cup                      0.004065\n",
       "Scottish Premiership (SPFL)    0.003484\n",
       "CONMEBOL Libertadores          0.002904\n",
       "1A Pro League (BEL 1)          0.002904\n",
       "EFL Championship (ENG 2)       0.002904\n",
       "Raiffeisen Super L. (SUI 1)    0.001161\n",
       "Bundesliga 2 (GER 2)           0.001161\n",
       "Polski Ekstraklasa (POL 1)     0.000581\n",
       "Liga Hrvatska (CRO 1)          0.000581\n",
       "Chinese FA Super L. (CHN 1)    0.000581\n",
       "A-League (AUS 1)               0.000581\n",
       "EFL League One (ENG 3)         0.000581\n",
       "LaLiga SmartBank (ESP 2)       0.000581\n",
       "Ukrayina Liha (UKR 1)          0.000581\n",
       "Name: league, dtype: float64"
      ]
     },
     "execution_count": 86,
     "metadata": {},
     "output_type": "execute_result"
    },
    {
     "data": {
      "application/javascript": "\n            setTimeout(function() {\n                var nbb_cell_id = 86;\n                var nbb_unformatted_code = \"df_players['league'].value_counts(normalize=True)\";\n                var nbb_formatted_code = \"df_players[\\\"league\\\"].value_counts(normalize=True)\";\n                var nbb_cells = Jupyter.notebook.get_cells();\n                for (var i = 0; i < nbb_cells.length; ++i) {\n                    if (nbb_cells[i].input_prompt_number == nbb_cell_id) {\n                        if (nbb_cells[i].get_text() == nbb_unformatted_code) {\n                             nbb_cells[i].set_text(nbb_formatted_code);\n                        }\n                        break;\n                    }\n                }\n            }, 500);\n            ",
      "text/plain": [
       "<IPython.core.display.Javascript object>"
      ]
     },
     "metadata": {},
     "output_type": "display_data"
    }
   ],
   "source": [
    "df_players['league'].value_counts(normalize=True)"
   ]
  },
  {
   "cell_type": "code",
   "execution_count": 54,
   "metadata": {},
   "outputs": [
    {
     "data": {
      "application/javascript": "\n            setTimeout(function() {\n                var nbb_cell_id = 54;\n                var nbb_unformatted_code = \"top_10_leagues = df_players['league'].value_counts().head(10)\\n\\ndf_top_league_players = df_players.loc[df_players['league'].isin(top_10_leagues.index)]\";\n                var nbb_formatted_code = \"top_10_leagues = df_players[\\\"league\\\"].value_counts().head(10)\\n\\ndf_top_league_players = df_players.loc[df_players[\\\"league\\\"].isin(top_10_leagues.index)]\";\n                var nbb_cells = Jupyter.notebook.get_cells();\n                for (var i = 0; i < nbb_cells.length; ++i) {\n                    if (nbb_cells[i].input_prompt_number == nbb_cell_id) {\n                        if (nbb_cells[i].get_text() == nbb_unformatted_code) {\n                             nbb_cells[i].set_text(nbb_formatted_code);\n                        }\n                        break;\n                    }\n                }\n            }, 500);\n            ",
      "text/plain": [
       "<IPython.core.display.Javascript object>"
      ]
     },
     "metadata": {},
     "output_type": "display_data"
    }
   ],
   "source": [
    "top_10_leagues = df_players['league'].value_counts().head(10)\n",
    "\n",
    "df_top_league_players = df_players.loc[df_players['league'].isin(top_10_leagues.index)]"
   ]
  },
  {
   "cell_type": "code",
   "execution_count": 55,
   "metadata": {},
   "outputs": [
    {
     "data": {
      "text/plain": [
       "Premier League            353\n",
       "LaLiga Santander          228\n",
       "Serie A TIM               218\n",
       "Bundesliga                192\n",
       "Ligue 1                   149\n",
       "Major League Soccer        47\n",
       "Eredivisie                 36\n",
       "Liga NOS (POR 1)           25\n",
       "MBS Pro League (SAU 1)     18\n",
       "Süper Lig (TUR 1)          16\n",
       "Name: league, dtype: int64"
      ]
     },
     "execution_count": 55,
     "metadata": {},
     "output_type": "execute_result"
    },
    {
     "data": {
      "application/javascript": "\n            setTimeout(function() {\n                var nbb_cell_id = 55;\n                var nbb_unformatted_code = \"top_10_leagues\";\n                var nbb_formatted_code = \"top_10_leagues\";\n                var nbb_cells = Jupyter.notebook.get_cells();\n                for (var i = 0; i < nbb_cells.length; ++i) {\n                    if (nbb_cells[i].input_prompt_number == nbb_cell_id) {\n                        if (nbb_cells[i].get_text() == nbb_unformatted_code) {\n                             nbb_cells[i].set_text(nbb_formatted_code);\n                        }\n                        break;\n                    }\n                }\n            }, 500);\n            ",
      "text/plain": [
       "<IPython.core.display.Javascript object>"
      ]
     },
     "metadata": {},
     "output_type": "display_data"
    }
   ],
   "source": [
    "top_10_leagues"
   ]
  },
  {
   "cell_type": "code",
   "execution_count": 56,
   "metadata": {},
   "outputs": [
    {
     "data": {
      "image/png": "[encoded data removed]",
      "text/plain": [
       "<Figure size 500x500 with 1 Axes>"
      ]
     },
     "metadata": {},
     "output_type": "display_data"
    },
    {
     "data": {
      "application/javascript": "\n            setTimeout(function() {\n                var nbb_cell_id = 56;\n                var nbb_unformatted_code = \"g = sns.catplot(\\n    data=df_top_league_players, y=\\\"league\\\", kind=\\\"count\\\", edgecolor=\\\".6\\\",\\n)\\n\\nax = g.facet_axis(0, 0)\\n\\nplt.grid(False)\\n\\nax.set(facecolor = \\\"white\\\")\\n\\nfor c in ax.containers:\\n    labels = [(round(v.get_width())) for v in c]\\n    ax.bar_label(c, labels=labels, label_type='edge', padding=10, color='black')\";\n                var nbb_formatted_code = \"g = sns.catplot(\\n    data=df_top_league_players,\\n    y=\\\"league\\\",\\n    kind=\\\"count\\\",\\n    edgecolor=\\\".6\\\",\\n)\\n\\nax = g.facet_axis(0, 0)\\n\\nplt.grid(False)\\n\\nax.set(facecolor=\\\"white\\\")\\n\\nfor c in ax.containers:\\n    labels = [(round(v.get_width())) for v in c]\\n    ax.bar_label(c, labels=labels, label_type=\\\"edge\\\", padding=10, color=\\\"black\\\")\";\n                var nbb_cells = Jupyter.notebook.get_cells();\n                for (var i = 0; i < nbb_cells.length; ++i) {\n                    if (nbb_cells[i].input_prompt_number == nbb_cell_id) {\n                        if (nbb_cells[i].get_text() == nbb_unformatted_code) {\n                             nbb_cells[i].set_text(nbb_formatted_code);\n                        }\n                        break;\n                    }\n                }\n            }, 500);\n            ",
      "text/plain": [
       "<IPython.core.display.Javascript object>"
      ]
     },
     "metadata": {},
     "output_type": "display_data"
    }
   ],
   "source": [
    "g = sns.catplot(\n",
    "    data=df_top_league_players, y=\"league\", kind=\"count\", edgecolor=\".6\",\n",
    ")\n",
    "\n",
    "ax = g.facet_axis(0, 0)\n",
    "\n",
    "plt.grid(False)\n",
    "\n",
    "ax.set(facecolor = \"white\")\n",
    "\n",
    "for c in ax.containers:\n",
    "    labels = [(round(v.get_width())) for v in c]\n",
    "    ax.bar_label(c, labels=labels, label_type='edge', padding=10, color='black')"
   ]
  },
  {
   "cell_type": "code",
   "execution_count": 57,
   "metadata": {},
   "outputs": [
    {
     "data": {
      "text/plain": [
       "France        0.102964\n",
       "England       0.096724\n",
       "Spain         0.080343\n",
       "Germany       0.074103\n",
       "Brazil        0.072543\n",
       "                ...   \n",
       "Suriname      0.000780\n",
       "Armenia       0.000780\n",
       "Mozambique    0.000780\n",
       "Uzbekistan    0.000780\n",
       "Greece        0.000780\n",
       "Name: country, Length: 67, dtype: float64"
      ]
     },
     "execution_count": 57,
     "metadata": {},
     "output_type": "execute_result"
    },
    {
     "data": {
      "application/javascript": "\n            setTimeout(function() {\n                var nbb_cell_id = 57;\n                var nbb_unformatted_code = \"df_top_league_players['country'].value_counts(normalize=True)\";\n                var nbb_formatted_code = \"df_top_league_players[\\\"country\\\"].value_counts(normalize=True)\";\n                var nbb_cells = Jupyter.notebook.get_cells();\n                for (var i = 0; i < nbb_cells.length; ++i) {\n                    if (nbb_cells[i].input_prompt_number == nbb_cell_id) {\n                        if (nbb_cells[i].get_text() == nbb_unformatted_code) {\n                             nbb_cells[i].set_text(nbb_formatted_code);\n                        }\n                        break;\n                    }\n                }\n            }, 500);\n            ",
      "text/plain": [
       "<IPython.core.display.Javascript object>"
      ]
     },
     "metadata": {},
     "output_type": "display_data"
    }
   ],
   "source": [
    "df_top_league_players['country'].value_counts(normalize=True)"
   ]
  },
  {
   "cell_type": "code",
   "execution_count": 58,
   "metadata": {},
   "outputs": [
    {
     "data": {
      "image/png": "[encoded data removed]",
      "text/plain": [
       "<Figure size 640x480 with 1 Axes>"
      ]
     },
     "metadata": {},
     "output_type": "display_data"
    },
    {
     "data": {
      "application/javascript": "\n            setTimeout(function() {\n                var nbb_cell_id = 58;\n                var nbb_unformatted_code = \"ax = sns.kdeplot(data=df_top_league_players, x=\\\"rating\\\", hue='league', \\n                                                warn_singular=False,\\n                                                fill=True\\n                                                )\\nplt.setp(ax.get_legend().get_texts(), color='black')\\nplt.setp(ax.get_legend().get_title(), color='black')\\n\\nplt.show()\";\n                var nbb_formatted_code = \"ax = sns.kdeplot(\\n    data=df_top_league_players, x=\\\"rating\\\", hue=\\\"league\\\", warn_singular=False, fill=True\\n)\\nplt.setp(ax.get_legend().get_texts(), color=\\\"black\\\")\\nplt.setp(ax.get_legend().get_title(), color=\\\"black\\\")\\n\\nplt.show()\";\n                var nbb_cells = Jupyter.notebook.get_cells();\n                for (var i = 0; i < nbb_cells.length; ++i) {\n                    if (nbb_cells[i].input_prompt_number == nbb_cell_id) {\n                        if (nbb_cells[i].get_text() == nbb_unformatted_code) {\n                             nbb_cells[i].set_text(nbb_formatted_code);\n                        }\n                        break;\n                    }\n                }\n            }, 500);\n            ",
      "text/plain": [
       "<IPython.core.display.Javascript object>"
      ]
     },
     "metadata": {},
     "output_type": "display_data"
    }
   ],
   "source": [
    "ax = sns.kdeplot(data=df_top_league_players, x=\"rating\", hue='league', \n",
    "                                                warn_singular=False,\n",
    "                                                fill=True\n",
    "                                                )\n",
    "plt.setp(ax.get_legend().get_texts(), color='black')\n",
    "plt.setp(ax.get_legend().get_title(), color='black')\n",
    "\n",
    "plt.show()"
   ]
  },
  {
   "cell_type": "code",
   "execution_count": 91,
   "metadata": {},
   "outputs": [
    {
     "data": {
      "image/png": "[encoded data removed]",
      "text/plain": [
       "<Figure size 800x800 with 1 Axes>"
      ]
     },
     "metadata": {},
     "output_type": "display_data"
    },
    {
     "data": {
      "application/javascript": "\n            setTimeout(function() {\n                var nbb_cell_id = 91;\n                var nbb_unformatted_code = \"f, ax = plt.subplots(figsize=(8, 8))\\nax.set_yscale(\\\"log\\\")\\nf = sns.boxplot(x='rating',y='price', data=df_players)\";\n                var nbb_formatted_code = \"f, ax = plt.subplots(figsize=(8, 8))\\nax.set_yscale(\\\"log\\\")\\nf = sns.boxplot(x=\\\"rating\\\", y=\\\"price\\\", data=df_players)\";\n                var nbb_cells = Jupyter.notebook.get_cells();\n                for (var i = 0; i < nbb_cells.length; ++i) {\n                    if (nbb_cells[i].input_prompt_number == nbb_cell_id) {\n                        if (nbb_cells[i].get_text() == nbb_unformatted_code) {\n                             nbb_cells[i].set_text(nbb_formatted_code);\n                        }\n                        break;\n                    }\n                }\n            }, 500);\n            ",
      "text/plain": [
       "<IPython.core.display.Javascript object>"
      ]
     },
     "metadata": {},
     "output_type": "display_data"
    }
   ],
   "source": [
    "f, ax = plt.subplots(figsize=(8, 8))\n",
    "ax.set_yscale(\"log\")\n",
    "f = sns.boxplot(x='rating',y='price', data=df_players.query('price > 0'))\n"
   ]
  },
  {
   "cell_type": "code",
   "execution_count": 60,
   "metadata": {},
   "outputs": [
    {
     "data": {
      "image/png": "[encoded data removed]",
      "text/plain": [
       "<Figure size 1000x1000 with 1 Axes>"
      ]
     },
     "metadata": {},
     "output_type": "display_data"
    },
    {
     "data": {
      "application/javascript": "\n            setTimeout(function() {\n                var nbb_cell_id = 60;\n                var nbb_unformatted_code = \"ax = plt.subplots(figsize=(10, 10))\\n\\nax = sns.scatterplot(data=df_top_league_players,\\n                        y='price',\\n                        x='rating',\\n                        hue='league')\\n\\nax.set_yscale(\\\"log\\\")\\n\\nplt.setp(ax.get_legend().get_texts(), color='black')\\nplt.setp(ax.get_legend().get_title(), color='black')\\n\\nplt.show()\";\n                var nbb_formatted_code = \"ax = plt.subplots(figsize=(10, 10))\\n\\nax = sns.scatterplot(data=df_top_league_players, y=\\\"price\\\", x=\\\"rating\\\", hue=\\\"league\\\")\\n\\nax.set_yscale(\\\"log\\\")\\n\\nplt.setp(ax.get_legend().get_texts(), color=\\\"black\\\")\\nplt.setp(ax.get_legend().get_title(), color=\\\"black\\\")\\n\\nplt.show()\";\n                var nbb_cells = Jupyter.notebook.get_cells();\n                for (var i = 0; i < nbb_cells.length; ++i) {\n                    if (nbb_cells[i].input_prompt_number == nbb_cell_id) {\n                        if (nbb_cells[i].get_text() == nbb_unformatted_code) {\n                             nbb_cells[i].set_text(nbb_formatted_code);\n                        }\n                        break;\n                    }\n                }\n            }, 500);\n            ",
      "text/plain": [
       "<IPython.core.display.Javascript object>"
      ]
     },
     "metadata": {},
     "output_type": "display_data"
    }
   ],
   "source": [
    "ax = plt.subplots(figsize=(10, 10))\n",
    "\n",
    "ax = sns.scatterplot(data=df_top_league_players,\n",
    "                        y='price',\n",
    "                        x='rating',\n",
    "                        hue='league')\n",
    "\n",
    "ax.set_yscale(\"log\")\n",
    "\n",
    "plt.setp(ax.get_legend().get_texts(), color='black')\n",
    "plt.setp(ax.get_legend().get_title(), color='black')\n",
    "\n",
    "plt.show()"
   ]
  },
  {
   "cell_type": "code",
   "execution_count": 61,
   "metadata": {},
   "outputs": [
    {
     "data": {
      "image/png": "[encoded data removed]",
      "text/plain": [
       "<Figure size 1300x1300 with 2 Axes>"
      ]
     },
     "metadata": {},
     "output_type": "display_data"
    },
    {
     "data": {
      "application/javascript": "\n            setTimeout(function() {\n                var nbb_cell_id = 61;\n                var nbb_unformatted_code = \"df_corr = df_top_league_players[['rating','price', 'weak_foot', 'skill', \\n                                 'pace', 'shoot', 'pass', 'drible', 'defense', 'physical', \\n                                 'height_cm', 'weight_kg', 'popularity', 'base_stats','in_game_stats' ]].dropna().corr()\\nax = plt.subplots(figsize=(13, 13))\\n\\nax = sns.heatmap(df_corr, annot=True)\\n\\nplt.show()\";\n                var nbb_formatted_code = \"df_corr = (\\n    df_top_league_players[\\n        [\\n            \\\"rating\\\",\\n            \\\"price\\\",\\n            \\\"weak_foot\\\",\\n            \\\"skill\\\",\\n            \\\"pace\\\",\\n            \\\"shoot\\\",\\n            \\\"pass\\\",\\n            \\\"drible\\\",\\n            \\\"defense\\\",\\n            \\\"physical\\\",\\n            \\\"height_cm\\\",\\n            \\\"weight_kg\\\",\\n            \\\"popularity\\\",\\n            \\\"base_stats\\\",\\n            \\\"in_game_stats\\\",\\n        ]\\n    ]\\n    .dropna()\\n    .corr()\\n)\\nax = plt.subplots(figsize=(13, 13))\\n\\nax = sns.heatmap(df_corr, annot=True)\\n\\nplt.show()\";\n                var nbb_cells = Jupyter.notebook.get_cells();\n                for (var i = 0; i < nbb_cells.length; ++i) {\n                    if (nbb_cells[i].input_prompt_number == nbb_cell_id) {\n                        if (nbb_cells[i].get_text() == nbb_unformatted_code) {\n                             nbb_cells[i].set_text(nbb_formatted_code);\n                        }\n                        break;\n                    }\n                }\n            }, 500);\n            ",
      "text/plain": [
       "<IPython.core.display.Javascript object>"
      ]
     },
     "metadata": {},
     "output_type": "display_data"
    }
   ],
   "source": [
    "df_corr = df_top_league_players[['rating','price', 'weak_foot', 'skill', \n",
    "                                 'pace', 'shoot', 'pass', 'drible', 'defense', 'physical', \n",
    "                                 'height_cm', 'weight_kg', 'popularity', 'base_stats','in_game_stats' ]].dropna().corr()\n",
    "ax = plt.subplots(figsize=(13, 13))\n",
    "\n",
    "ax = sns.heatmap(df_corr, annot=True)\n",
    "\n",
    "plt.show()"
   ]
  },
  {
   "cell_type": "code",
   "execution_count": 62,
   "metadata": {},
   "outputs": [
    {
     "data": {
      "text/html": [
       "<div>\n",
       "<style scoped>\n",
       "    .dataframe tbody tr th:only-of-type {\n",
       "        vertical-align: middle;\n",
       "    }\n",
       "\n",
       "    .dataframe tbody tr th {\n",
       "        vertical-align: top;\n",
       "    }\n",
       "\n",
       "    .dataframe thead th {\n",
       "        text-align: right;\n",
       "    }\n",
       "</style>\n",
       "<table border=\"1\" class=\"dataframe\">\n",
       "  <thead>\n",
       "    <tr style=\"text-align: right;\">\n",
       "      <th></th>\n",
       "      <th>mean</th>\n",
       "      <th>max</th>\n",
       "      <th>min</th>\n",
       "      <th>count</th>\n",
       "    </tr>\n",
       "    <tr>\n",
       "      <th>league</th>\n",
       "      <th></th>\n",
       "      <th></th>\n",
       "      <th></th>\n",
       "      <th></th>\n",
       "    </tr>\n",
       "  </thead>\n",
       "  <tbody>\n",
       "    <tr>\n",
       "      <th>Ligue 1</th>\n",
       "      <td>419225.187970</td>\n",
       "      <td>11400000</td>\n",
       "      <td>3700</td>\n",
       "      <td>133</td>\n",
       "    </tr>\n",
       "    <tr>\n",
       "      <th>MBS Pro League (SAU 1)</th>\n",
       "      <td>362681.818182</td>\n",
       "      <td>3030000</td>\n",
       "      <td>18000</td>\n",
       "      <td>11</td>\n",
       "    </tr>\n",
       "    <tr>\n",
       "      <th>Premier League</th>\n",
       "      <td>179427.570093</td>\n",
       "      <td>5700000</td>\n",
       "      <td>2150</td>\n",
       "      <td>321</td>\n",
       "    </tr>\n",
       "    <tr>\n",
       "      <th>LaLiga Santander</th>\n",
       "      <td>145874.882629</td>\n",
       "      <td>2890000</td>\n",
       "      <td>3100</td>\n",
       "      <td>213</td>\n",
       "    </tr>\n",
       "    <tr>\n",
       "      <th>Süper Lig (TUR 1)</th>\n",
       "      <td>122945.833333</td>\n",
       "      <td>1070000</td>\n",
       "      <td>3700</td>\n",
       "      <td>12</td>\n",
       "    </tr>\n",
       "    <tr>\n",
       "      <th>Bundesliga</th>\n",
       "      <td>106806.571429</td>\n",
       "      <td>2290000</td>\n",
       "      <td>1500</td>\n",
       "      <td>175</td>\n",
       "    </tr>\n",
       "    <tr>\n",
       "      <th>Serie A TIM</th>\n",
       "      <td>105093.932039</td>\n",
       "      <td>2650000</td>\n",
       "      <td>1400</td>\n",
       "      <td>206</td>\n",
       "    </tr>\n",
       "    <tr>\n",
       "      <th>Eredivisie</th>\n",
       "      <td>52255.000000</td>\n",
       "      <td>650000</td>\n",
       "      <td>3600</td>\n",
       "      <td>30</td>\n",
       "    </tr>\n",
       "    <tr>\n",
       "      <th>Major League Soccer</th>\n",
       "      <td>38108.108108</td>\n",
       "      <td>400000</td>\n",
       "      <td>3600</td>\n",
       "      <td>37</td>\n",
       "    </tr>\n",
       "    <tr>\n",
       "      <th>Liga NOS (POR 1)</th>\n",
       "      <td>24095.000000</td>\n",
       "      <td>66100</td>\n",
       "      <td>11500</td>\n",
       "      <td>20</td>\n",
       "    </tr>\n",
       "  </tbody>\n",
       "</table>\n",
       "</div>"
      ],
      "text/plain": [
       "                                 mean       max    min  count\n",
       "league                                                       \n",
       "Ligue 1                 419225.187970  11400000   3700    133\n",
       "MBS Pro League (SAU 1)  362681.818182   3030000  18000     11\n",
       "Premier League          179427.570093   5700000   2150    321\n",
       "LaLiga Santander        145874.882629   2890000   3100    213\n",
       "Süper Lig (TUR 1)       122945.833333   1070000   3700     12\n",
       "Bundesliga              106806.571429   2290000   1500    175\n",
       "Serie A TIM             105093.932039   2650000   1400    206\n",
       "Eredivisie               52255.000000    650000   3600     30\n",
       "Major League Soccer      38108.108108    400000   3600     37\n",
       "Liga NOS (POR 1)         24095.000000     66100  11500     20"
      ]
     },
     "execution_count": 62,
     "metadata": {},
     "output_type": "execute_result"
    },
    {
     "data": {
      "application/javascript": "\n            setTimeout(function() {\n                var nbb_cell_id = 62;\n                var nbb_unformatted_code = \"df_top_league_players.query('price > 0')\\\\\\n                    .groupby('league')['price']\\\\\\n                    .agg(['mean','max', 'min', 'count'])\\\\\\n                    .sort_values('mean', ascending=False)\";\n                var nbb_formatted_code = \"df_top_league_players.query(\\\"price > 0\\\").groupby(\\\"league\\\")[\\\"price\\\"].agg(\\n    [\\\"mean\\\", \\\"max\\\", \\\"min\\\", \\\"count\\\"]\\n).sort_values(\\\"mean\\\", ascending=False)\";\n                var nbb_cells = Jupyter.notebook.get_cells();\n                for (var i = 0; i < nbb_cells.length; ++i) {\n                    if (nbb_cells[i].input_prompt_number == nbb_cell_id) {\n                        if (nbb_cells[i].get_text() == nbb_unformatted_code) {\n                             nbb_cells[i].set_text(nbb_formatted_code);\n                        }\n                        break;\n                    }\n                }\n            }, 500);\n            ",
      "text/plain": [
       "<IPython.core.display.Javascript object>"
      ]
     },
     "metadata": {},
     "output_type": "display_data"
    }
   ],
   "source": [
    "df_top_league_players.query('price > 0')\\\n",
    "                    .groupby('league')['price']\\\n",
    "                    .agg(['mean','max', 'min', 'count'])\\\n",
    "                    .sort_values('mean', ascending=False)"
   ]
  },
  {
   "cell_type": "code",
   "execution_count": 63,
   "metadata": {},
   "outputs": [
    {
     "data": {
      "text/html": [
       "<div>\n",
       "<style scoped>\n",
       "    .dataframe tbody tr th:only-of-type {\n",
       "        vertical-align: middle;\n",
       "    }\n",
       "\n",
       "    .dataframe tbody tr th {\n",
       "        vertical-align: top;\n",
       "    }\n",
       "\n",
       "    .dataframe thead th {\n",
       "        text-align: right;\n",
       "    }\n",
       "</style>\n",
       "<table border=\"1\" class=\"dataframe\">\n",
       "  <thead>\n",
       "    <tr style=\"text-align: right;\">\n",
       "      <th></th>\n",
       "      <th>name</th>\n",
       "      <th>position</th>\n",
       "      <th>pace</th>\n",
       "    </tr>\n",
       "  </thead>\n",
       "  <tbody>\n",
       "    <tr>\n",
       "      <th>0</th>\n",
       "      <td>Lionel Messi</td>\n",
       "      <td>RW</td>\n",
       "      <td>93</td>\n",
       "    </tr>\n",
       "    <tr>\n",
       "      <th>1</th>\n",
       "      <td>Karim Benzema</td>\n",
       "      <td>CF</td>\n",
       "      <td>92</td>\n",
       "    </tr>\n",
       "    <tr>\n",
       "      <th>2</th>\n",
       "      <td>Kylian Mbappé</td>\n",
       "      <td>ST</td>\n",
       "      <td>99</td>\n",
       "    </tr>\n",
       "    <tr>\n",
       "      <th>3</th>\n",
       "      <td>Kevin De Bruyne</td>\n",
       "      <td>CM</td>\n",
       "      <td>85</td>\n",
       "    </tr>\n",
       "    <tr>\n",
       "      <th>4</th>\n",
       "      <td>Thibaut Courtois</td>\n",
       "      <td>GK</td>\n",
       "      <td>90</td>\n",
       "    </tr>\n",
       "    <tr>\n",
       "      <th>...</th>\n",
       "      <td>...</td>\n",
       "      <td>...</td>\n",
       "      <td>...</td>\n",
       "    </tr>\n",
       "    <tr>\n",
       "      <th>1316</th>\n",
       "      <td>Joan Jordán</td>\n",
       "      <td>CM</td>\n",
       "      <td>65</td>\n",
       "    </tr>\n",
       "    <tr>\n",
       "      <th>1317</th>\n",
       "      <td>Orkun Kökçü</td>\n",
       "      <td>CM</td>\n",
       "      <td>78</td>\n",
       "    </tr>\n",
       "    <tr>\n",
       "      <th>1318</th>\n",
       "      <td>John McGinn</td>\n",
       "      <td>RM</td>\n",
       "      <td>75</td>\n",
       "    </tr>\n",
       "    <tr>\n",
       "      <th>1319</th>\n",
       "      <td>Ludovic Ajorque</td>\n",
       "      <td>ST</td>\n",
       "      <td>80</td>\n",
       "    </tr>\n",
       "    <tr>\n",
       "      <th>1320</th>\n",
       "      <td>Jonas Omlin</td>\n",
       "      <td>GK</td>\n",
       "      <td>85</td>\n",
       "    </tr>\n",
       "  </tbody>\n",
       "</table>\n",
       "<p>1282 rows × 3 columns</p>\n",
       "</div>"
      ],
      "text/plain": [
       "                  name position  pace\n",
       "0         Lionel Messi       RW    93\n",
       "1        Karim Benzema       CF    92\n",
       "2        Kylian Mbappé       ST    99\n",
       "3      Kevin De Bruyne       CM    85\n",
       "4     Thibaut Courtois       GK    90\n",
       "...                ...      ...   ...\n",
       "1316       Joan Jordán       CM    65\n",
       "1317       Orkun Kökçü       CM    78\n",
       "1318       John McGinn       RM    75\n",
       "1319   Ludovic Ajorque       ST    80\n",
       "1320       Jonas Omlin       GK    85\n",
       "\n",
       "[1282 rows x 3 columns]"
      ]
     },
     "execution_count": 63,
     "metadata": {},
     "output_type": "execute_result"
    },
    {
     "data": {
      "application/javascript": "\n            setTimeout(function() {\n                var nbb_cell_id = 63;\n                var nbb_unformatted_code = \"test = df_top_league_players[['name', 'position', 'pace']]\\ntest\";\n                var nbb_formatted_code = \"test = df_top_league_players[[\\\"name\\\", \\\"position\\\", \\\"pace\\\"]]\\ntest\";\n                var nbb_cells = Jupyter.notebook.get_cells();\n                for (var i = 0; i < nbb_cells.length; ++i) {\n                    if (nbb_cells[i].input_prompt_number == nbb_cell_id) {\n                        if (nbb_cells[i].get_text() == nbb_unformatted_code) {\n                             nbb_cells[i].set_text(nbb_formatted_code);\n                        }\n                        break;\n                    }\n                }\n            }, 500);\n            ",
      "text/plain": [
       "<IPython.core.display.Javascript object>"
      ]
     },
     "metadata": {},
     "output_type": "display_data"
    }
   ],
   "source": [
    "test = df_top_league_players[['name', 'position', 'pace']]\n",
    "test"
   ]
  },
  {
   "attachments": {},
   "cell_type": "markdown",
   "metadata": {},
   "source": [
    "- Fastest player by position\n",
    "- Best deal (cheapest with good ingame stats)\n",
    "- IMC dos jogadores\n",
    "- Strongest players by position\n",
    "- Overpriced by league\n",
    "- More expensive league\n",
    "- Fastest nation\n",
    "- Expensive club\n",
    "- league with players from another country"
   ]
  },
  {
   "cell_type": "code",
   "execution_count": 64,
   "metadata": {},
   "outputs": [
    {
     "data": {
      "text/html": [
       "<div>\n",
       "<style scoped>\n",
       "    .dataframe tbody tr th:only-of-type {\n",
       "        vertical-align: middle;\n",
       "    }\n",
       "\n",
       "    .dataframe tbody tr th {\n",
       "        vertical-align: top;\n",
       "    }\n",
       "\n",
       "    .dataframe thead th {\n",
       "        text-align: right;\n",
       "    }\n",
       "</style>\n",
       "<table border=\"1\" class=\"dataframe\">\n",
       "  <thead>\n",
       "    <tr style=\"text-align: right;\">\n",
       "      <th></th>\n",
       "      <th>name</th>\n",
       "      <th>position</th>\n",
       "      <th>pace</th>\n",
       "    </tr>\n",
       "  </thead>\n",
       "  <tbody>\n",
       "    <tr>\n",
       "      <th>651</th>\n",
       "      <td>Theo Walcott</td>\n",
       "      <td>RW</td>\n",
       "      <td>99</td>\n",
       "    </tr>\n",
       "    <tr>\n",
       "      <th>702</th>\n",
       "      <td>Loïs Openda</td>\n",
       "      <td>ST</td>\n",
       "      <td>99</td>\n",
       "    </tr>\n",
       "    <tr>\n",
       "      <th>13</th>\n",
       "      <td>Achraf Hakimi</td>\n",
       "      <td>RB</td>\n",
       "      <td>99</td>\n",
       "    </tr>\n",
       "    <tr>\n",
       "      <th>12</th>\n",
       "      <td>Kylian Mbappé</td>\n",
       "      <td>LW</td>\n",
       "      <td>99</td>\n",
       "    </tr>\n",
       "    <tr>\n",
       "      <th>152</th>\n",
       "      <td>Moussa Diaby</td>\n",
       "      <td>RM</td>\n",
       "      <td>99</td>\n",
       "    </tr>\n",
       "    <tr>\n",
       "      <th>782</th>\n",
       "      <td>Moses Simon</td>\n",
       "      <td>LM</td>\n",
       "      <td>98</td>\n",
       "    </tr>\n",
       "    <tr>\n",
       "      <th>15</th>\n",
       "      <td>Theo Hernández</td>\n",
       "      <td>LB</td>\n",
       "      <td>98</td>\n",
       "    </tr>\n",
       "    <tr>\n",
       "      <th>652</th>\n",
       "      <td>Rodrigo Riquelme Reche</td>\n",
       "      <td>CAM</td>\n",
       "      <td>96</td>\n",
       "    </tr>\n",
       "    <tr>\n",
       "      <th>354</th>\n",
       "      <td>Jorge Campos</td>\n",
       "      <td>GK</td>\n",
       "      <td>95</td>\n",
       "    </tr>\n",
       "    <tr>\n",
       "      <th>667</th>\n",
       "      <td>Leonardo Spinazzola</td>\n",
       "      <td>LWB</td>\n",
       "      <td>95</td>\n",
       "    </tr>\n",
       "    <tr>\n",
       "      <th>294</th>\n",
       "      <td>El Shaarawy</td>\n",
       "      <td>CF</td>\n",
       "      <td>94</td>\n",
       "    </tr>\n",
       "    <tr>\n",
       "      <th>92</th>\n",
       "      <td>Marcos Llorente</td>\n",
       "      <td>CM</td>\n",
       "      <td>94</td>\n",
       "    </tr>\n",
       "    <tr>\n",
       "      <th>1249</th>\n",
       "      <td>Reggie Cannon</td>\n",
       "      <td>RWB</td>\n",
       "      <td>94</td>\n",
       "    </tr>\n",
       "    <tr>\n",
       "      <th>427</th>\n",
       "      <td>Quinten Timber</td>\n",
       "      <td>CDM</td>\n",
       "      <td>90</td>\n",
       "    </tr>\n",
       "    <tr>\n",
       "      <th>14</th>\n",
       "      <td>Éder Militão</td>\n",
       "      <td>CB</td>\n",
       "      <td>90</td>\n",
       "    </tr>\n",
       "  </tbody>\n",
       "</table>\n",
       "</div>"
      ],
      "text/plain": [
       "                        name position  pace\n",
       "651             Theo Walcott       RW    99\n",
       "702              Loïs Openda       ST    99\n",
       "13             Achraf Hakimi       RB    99\n",
       "12             Kylian Mbappé       LW    99\n",
       "152             Moussa Diaby       RM    99\n",
       "782              Moses Simon       LM    98\n",
       "15            Theo Hernández       LB    98\n",
       "652   Rodrigo Riquelme Reche      CAM    96\n",
       "354             Jorge Campos       GK    95\n",
       "667      Leonardo Spinazzola      LWB    95\n",
       "294              El Shaarawy       CF    94\n",
       "92           Marcos Llorente       CM    94\n",
       "1249           Reggie Cannon      RWB    94\n",
       "427           Quinten Timber      CDM    90\n",
       "14              Éder Militão       CB    90"
      ]
     },
     "execution_count": 64,
     "metadata": {},
     "output_type": "execute_result"
    },
    {
     "data": {
      "application/javascript": "\n            setTimeout(function() {\n                var nbb_cell_id = 64;\n                var nbb_unformatted_code = \"df_top_league_players[['name', 'position', 'pace']]\\\\\\n                    .sort_values(['pace'], ascending=False)\\\\\\n                    .drop_duplicates(subset='name', keep='first')\\\\\\n                    .drop_duplicates(subset='position', keep='first')\\n                    \";\n                var nbb_formatted_code = \"df_top_league_players[[\\\"name\\\", \\\"position\\\", \\\"pace\\\"]].sort_values(\\n    [\\\"pace\\\"], ascending=False\\n).drop_duplicates(subset=\\\"name\\\", keep=\\\"first\\\").drop_duplicates(\\n    subset=\\\"position\\\", keep=\\\"first\\\"\\n)\";\n                var nbb_cells = Jupyter.notebook.get_cells();\n                for (var i = 0; i < nbb_cells.length; ++i) {\n                    if (nbb_cells[i].input_prompt_number == nbb_cell_id) {\n                        if (nbb_cells[i].get_text() == nbb_unformatted_code) {\n                             nbb_cells[i].set_text(nbb_formatted_code);\n                        }\n                        break;\n                    }\n                }\n            }, 500);\n            ",
      "text/plain": [
       "<IPython.core.display.Javascript object>"
      ]
     },
     "metadata": {},
     "output_type": "display_data"
    }
   ],
   "source": [
    "df_top_league_players[['name', 'position', 'pace']]\\\n",
    "                    .sort_values(['pace'], ascending=False)\\\n",
    "                    .drop_duplicates(subset='name', keep='first')\\\n",
    "                    .drop_duplicates(subset='position', keep='first')\n",
    "                    "
   ]
  }
 ],
 "metadata": {
  "kernelspec": {
   "display_name": "Python 3",
   "language": "python",
   "name": "python3"
  },
  "language_info": {
   "codemirror_mode": {
    "name": "ipython",
    "version": 3
   },
   "file_extension": ".py",
   "mimetype": "text/x-python",
   "name": "python",
   "nbconvert_exporter": "python",
   "pygments_lexer": "ipython3",
   "version": "3.10.10"
  },
  "orig_nbformat": 4
 },
 "nbformat": 4,
 "nbformat_minor": 2
}
