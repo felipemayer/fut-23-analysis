{
 "cells": [
  {
   "attachments": {},
   "cell_type": "markdown",
   "metadata": {},
   "source": [
    "# EDA in Fifa 23 - Ultimate team Dataset\n",
    "*EDA - Exploratory Data Analysys*\n",
    "\n",
    "## Context\n",
    "In Fifa 23, the Ultimate Team game mode allows players to build teams using \"cards\" representing real-life players, with multiple versions available.\n",
    "\n",
    "Every month, new campaigns are launched by developers with updated player versions to enhance team performance. \n",
    "\n",
    "## Goal\n",
    "The goal of this notebook is to load, cleaning and analyze the dataset.\n",
    "\n",
    "## The data\n",
    "The data was obtained by scraping information from the website Futbin.com, purely for study purposes.\n",
    "\n",
    "### Explaning the data:\n",
    "\n",
    "- Name: Name of player\n",
    "- Team: Team of player\n",
    "- Country: Country of player\n",
    "- League: League of player\n",
    "- Rating: Overall rating of player, using the stats to calculate the overall\n",
    "- Rare: The lever of rarity of player, could be Rare or Non-rare\n",
    "- Version Color: Version of card's player\n",
    "- Position: Main position of player\n",
    "- Other position: Variaty of position that player can play\n",
    "- Version: The campaign version of this card\n",
    "- Run type: Type of running, differs in game\n",
    "- Price: Price of this card when the data was extracted\n",
    "- Skill: Skill moves, the ability of execute some dribles\n",
    "- Weak foot: The ability of using the weak foot.\n",
    "- Attack rate: The ability of going to attack\n",
    "- Defense rate: The ability of going to defense\n",
    "- Pace: Ability to run (0 - 100)\n",
    "- Shoot: Ability to shoot (0 - 100)\n",
    "- Pass: Ability to pass (0 - 100)\n",
    "- Drible: Ability to drible/ agility (0 - 100)\n",
    "- Defense: Ability to execute defensive moves (0 - 100)\n",
    "- Physical: Physical ability (0 - 100)\n",
    "- Body type: Type of body, some players have a unique body type\n",
    "- Height (cm): Player's Height in centimeters\n",
    "- Weight (kg): Player's weight in kilograms\n",
    "- Popularity: Upvotes/ feedbak of players in Futbin website\n",
    "- Base stats: Stats considering Pace, Shoot, Pass, Drible, Defense and Physical\n",
    "- In game stats: Stats considering all atributes and player's behaviour in game\n",
    "- Game version: Ultimate team version\n",
    "- Updated at: Date of extraction"
   ]
  },
  {
   "attachments": {},
   "cell_type": "markdown",
   "metadata": {},
   "source": [
    "# Step 1 - Import Libs, load data and a overview on Dataframe\n",
    "The first step is import the libs that we'll use in this project.\n",
    "\n",
    "We should load the data from a local file (csv) and store it in a dataframe.\n",
    "\n",
    "After that, we should take a look on the dataset, check their dataypes, the size and etc."
   ]
  },
  {
   "cell_type": "code",
   "execution_count": 1,
   "metadata": {},
   "outputs": [
    {
     "data": {
      "application/javascript": "\n            setTimeout(function() {\n                var nbb_cell_id = 1;\n                var nbb_unformatted_code = \"import pandas as pd\\nimport re\\nimport matplotlib.pylab as plt\\nimport seaborn as sns\\nimport numpy as np\\n\\n# define style for charts\\nplt.style.use('ggplot')\\n\\n# expand number of columns to better viz\\npd.set_option('display.max_columns', 50)\\n\\n%load_ext nb_black\\n\\ndf_players = pd.read_csv(\\\"data/players.csv\\\")\";\n                var nbb_formatted_code = \"import pandas as pd\\nimport re\\nimport matplotlib.pylab as plt\\nimport seaborn as sns\\nimport numpy as np\\n\\n# define style for charts\\nplt.style.use(\\\"ggplot\\\")\\n\\n# expand number of columns to better viz\\npd.set_option(\\\"display.max_columns\\\", 50)\\n\\n%load_ext nb_black\\n\\ndf_players = pd.read_csv(\\\"data/players.csv\\\")\";\n                var nbb_cells = Jupyter.notebook.get_cells();\n                for (var i = 0; i < nbb_cells.length; ++i) {\n                    if (nbb_cells[i].input_prompt_number == nbb_cell_id) {\n                        if (nbb_cells[i].get_text() == nbb_unformatted_code) {\n                             nbb_cells[i].set_text(nbb_formatted_code);\n                        }\n                        break;\n                    }\n                }\n            }, 500);\n            ",
      "text/plain": [
       "<IPython.core.display.Javascript object>"
      ]
     },
     "metadata": {},
     "output_type": "display_data"
    }
   ],
   "source": [
    "import pandas as pd\n",
    "import re\n",
    "import matplotlib.pylab as plt\n",
    "import seaborn as sns\n",
    "import numpy as np\n",
    "\n",
    "# define style for charts\n",
    "plt.style.use('ggplot')\n",
    "\n",
    "# expand number of columns to better viz\n",
    "pd.set_option('display.max_columns', 50)\n",
    "\n",
    "%load_ext nb_black\n",
    "\n",
    "df_players = pd.read_csv(\"data/players.csv\")"
   ]
  },
  {
   "cell_type": "code",
   "execution_count": 2,
   "metadata": {},
   "outputs": [
    {
     "data": {
      "text/plain": [
       "(4020, 30)"
      ]
     },
     "execution_count": 2,
     "metadata": {},
     "output_type": "execute_result"
    },
    {
     "data": {
      "application/javascript": "\n            setTimeout(function() {\n                var nbb_cell_id = 2;\n                var nbb_unformatted_code = \"# check the size of dataset (rows, columns)\\ndf_players.shape\";\n                var nbb_formatted_code = \"# check the size of dataset (rows, columns)\\ndf_players.shape\";\n                var nbb_cells = Jupyter.notebook.get_cells();\n                for (var i = 0; i < nbb_cells.length; ++i) {\n                    if (nbb_cells[i].input_prompt_number == nbb_cell_id) {\n                        if (nbb_cells[i].get_text() == nbb_unformatted_code) {\n                             nbb_cells[i].set_text(nbb_formatted_code);\n                        }\n                        break;\n                    }\n                }\n            }, 500);\n            ",
      "text/plain": [
       "<IPython.core.display.Javascript object>"
      ]
     },
     "metadata": {},
     "output_type": "display_data"
    }
   ],
   "source": [
    "# check the size of dataset (rows, columns)\n",
    "df_players.shape"
   ]
  },
  {
   "cell_type": "code",
   "execution_count": 3,
   "metadata": {},
   "outputs": [
    {
     "data": {
      "text/html": [
       "<div>\n",
       "<style scoped>\n",
       "    .dataframe tbody tr th:only-of-type {\n",
       "        vertical-align: middle;\n",
       "    }\n",
       "\n",
       "    .dataframe tbody tr th {\n",
       "        vertical-align: top;\n",
       "    }\n",
       "\n",
       "    .dataframe thead th {\n",
       "        text-align: right;\n",
       "    }\n",
       "</style>\n",
       "<table border=\"1\" class=\"dataframe\">\n",
       "  <thead>\n",
       "    <tr style=\"text-align: right;\">\n",
       "      <th></th>\n",
       "      <th>Name</th>\n",
       "      <th>Team</th>\n",
       "      <th>Country</th>\n",
       "      <th>League</th>\n",
       "      <th>Rating</th>\n",
       "      <th>Rare</th>\n",
       "      <th>Version_color</th>\n",
       "      <th>Position</th>\n",
       "      <th>Other_Positions</th>\n",
       "      <th>Version</th>\n",
       "      <th>Run_type</th>\n",
       "      <th>Price</th>\n",
       "      <th>Skill</th>\n",
       "      <th>Weak_foot</th>\n",
       "      <th>Attack_rate</th>\n",
       "      <th>Defense_rate</th>\n",
       "      <th>Pace</th>\n",
       "      <th>Shoot</th>\n",
       "      <th>Pass</th>\n",
       "      <th>Drible</th>\n",
       "      <th>Defense</th>\n",
       "      <th>Physical</th>\n",
       "      <th>Body_type</th>\n",
       "      <th>Height_cm</th>\n",
       "      <th>Weight (kg)</th>\n",
       "      <th>Popularity</th>\n",
       "      <th>Base_Stats</th>\n",
       "      <th>In_Game_Stats</th>\n",
       "      <th>Game_version</th>\n",
       "      <th>Updated_at</th>\n",
       "    </tr>\n",
       "  </thead>\n",
       "  <tbody>\n",
       "    <tr>\n",
       "      <th>3672</th>\n",
       "      <td>Suat Serdar</td>\n",
       "      <td>Hertha Berlin</td>\n",
       "      <td>Germany</td>\n",
       "      <td>Bundesliga</td>\n",
       "      <td>77</td>\n",
       "      <td>non-rare</td>\n",
       "      <td>gold</td>\n",
       "      <td>CM</td>\n",
       "      <td>CDM,CAM</td>\n",
       "      <td>Normal</td>\n",
       "      <td>Controlled</td>\n",
       "      <td>850</td>\n",
       "      <td>4</td>\n",
       "      <td>3</td>\n",
       "      <td>H</td>\n",
       "      <td>M</td>\n",
       "      <td>67</td>\n",
       "      <td>71</td>\n",
       "      <td>71</td>\n",
       "      <td>81</td>\n",
       "      <td>73</td>\n",
       "      <td>79</td>\n",
       "      <td>Average</td>\n",
       "      <td>184.0</td>\n",
       "      <td>75.0</td>\n",
       "      <td>12</td>\n",
       "      <td>442</td>\n",
       "      <td>2111</td>\n",
       "      <td>FIFA 23</td>\n",
       "      <td>2023-04-17</td>\n",
       "    </tr>\n",
       "    <tr>\n",
       "      <th>1460</th>\n",
       "      <td>Gregor Kobel</td>\n",
       "      <td>Dortmund</td>\n",
       "      <td>Switzerland</td>\n",
       "      <td>Bundesliga</td>\n",
       "      <td>85</td>\n",
       "      <td>rare</td>\n",
       "      <td>if gold</td>\n",
       "      <td>GK</td>\n",
       "      <td>NaN</td>\n",
       "      <td>IF</td>\n",
       "      <td>Controlled</td>\n",
       "      <td>24.75K</td>\n",
       "      <td>1</td>\n",
       "      <td>3</td>\n",
       "      <td>M</td>\n",
       "      <td>M</td>\n",
       "      <td>86</td>\n",
       "      <td>83</td>\n",
       "      <td>76</td>\n",
       "      <td>90</td>\n",
       "      <td>45</td>\n",
       "      <td>82</td>\n",
       "      <td>High &amp; Average</td>\n",
       "      <td>195.0</td>\n",
       "      <td>88.0</td>\n",
       "      <td>418</td>\n",
       "      <td>462</td>\n",
       "      <td>916</td>\n",
       "      <td>FIFA 23</td>\n",
       "      <td>2023-04-17</td>\n",
       "    </tr>\n",
       "    <tr>\n",
       "      <th>1974</th>\n",
       "      <td>Jonathan Tah</td>\n",
       "      <td>Germany</td>\n",
       "      <td>Germany</td>\n",
       "      <td>World Cup</td>\n",
       "      <td>83</td>\n",
       "      <td>rare</td>\n",
       "      <td>wc_player gold</td>\n",
       "      <td>CB</td>\n",
       "      <td>NaN</td>\n",
       "      <td>World Cup Player</td>\n",
       "      <td>Lengthy</td>\n",
       "      <td>0</td>\n",
       "      <td>2</td>\n",
       "      <td>4</td>\n",
       "      <td>M</td>\n",
       "      <td>M</td>\n",
       "      <td>68</td>\n",
       "      <td>38</td>\n",
       "      <td>60</td>\n",
       "      <td>62</td>\n",
       "      <td>84</td>\n",
       "      <td>86</td>\n",
       "      <td>High &amp; Stocky</td>\n",
       "      <td>195.0</td>\n",
       "      <td>98.0</td>\n",
       "      <td>1</td>\n",
       "      <td>398</td>\n",
       "      <td>1780</td>\n",
       "      <td>FIFA 23</td>\n",
       "      <td>2023-04-17</td>\n",
       "    </tr>\n",
       "    <tr>\n",
       "      <th>581</th>\n",
       "      <td>El Shaarawy</td>\n",
       "      <td>Roma FC</td>\n",
       "      <td>Italy</td>\n",
       "      <td>Serie A TIM</td>\n",
       "      <td>89</td>\n",
       "      <td>rare</td>\n",
       "      <td>fut-bd gold</td>\n",
       "      <td>CF</td>\n",
       "      <td>LM,ST,LW</td>\n",
       "      <td>FUT Birthday</td>\n",
       "      <td>Explosive</td>\n",
       "      <td>63K</td>\n",
       "      <td>5</td>\n",
       "      <td>3</td>\n",
       "      <td>M</td>\n",
       "      <td>M</td>\n",
       "      <td>94</td>\n",
       "      <td>85</td>\n",
       "      <td>85</td>\n",
       "      <td>90</td>\n",
       "      <td>58</td>\n",
       "      <td>79</td>\n",
       "      <td>Lean</td>\n",
       "      <td>178.0</td>\n",
       "      <td>73.0</td>\n",
       "      <td>104</td>\n",
       "      <td>491</td>\n",
       "      <td>2364</td>\n",
       "      <td>FIFA 23</td>\n",
       "      <td>2023-04-17</td>\n",
       "    </tr>\n",
       "    <tr>\n",
       "      <th>1787</th>\n",
       "      <td>Kieran Trippier</td>\n",
       "      <td>England</td>\n",
       "      <td>England</td>\n",
       "      <td>World Cup</td>\n",
       "      <td>84</td>\n",
       "      <td>rare</td>\n",
       "      <td>wc_player gold</td>\n",
       "      <td>RB</td>\n",
       "      <td>RWB,RM</td>\n",
       "      <td>World Cup Player</td>\n",
       "      <td>Controlled</td>\n",
       "      <td>0</td>\n",
       "      <td>3</td>\n",
       "      <td>4</td>\n",
       "      <td>M</td>\n",
       "      <td>M</td>\n",
       "      <td>70</td>\n",
       "      <td>64</td>\n",
       "      <td>82</td>\n",
       "      <td>77</td>\n",
       "      <td>80</td>\n",
       "      <td>72</td>\n",
       "      <td>Average</td>\n",
       "      <td>173.0</td>\n",
       "      <td>71.0</td>\n",
       "      <td>2</td>\n",
       "      <td>445</td>\n",
       "      <td>2205</td>\n",
       "      <td>FIFA 23</td>\n",
       "      <td>2023-04-17</td>\n",
       "    </tr>\n",
       "    <tr>\n",
       "      <th>2016</th>\n",
       "      <td>Germán Pezzella</td>\n",
       "      <td>Real Betis</td>\n",
       "      <td>Argentina</td>\n",
       "      <td>LaLiga Santander</td>\n",
       "      <td>83</td>\n",
       "      <td>rare</td>\n",
       "      <td>if gold</td>\n",
       "      <td>CB</td>\n",
       "      <td>NaN</td>\n",
       "      <td>IF</td>\n",
       "      <td>Lengthy</td>\n",
       "      <td>13K</td>\n",
       "      <td>2</td>\n",
       "      <td>3</td>\n",
       "      <td>M</td>\n",
       "      <td>M</td>\n",
       "      <td>58</td>\n",
       "      <td>55</td>\n",
       "      <td>56</td>\n",
       "      <td>62</td>\n",
       "      <td>85</td>\n",
       "      <td>79</td>\n",
       "      <td>High &amp; Average</td>\n",
       "      <td>186.0</td>\n",
       "      <td>81.0</td>\n",
       "      <td>2</td>\n",
       "      <td>395</td>\n",
       "      <td>1845</td>\n",
       "      <td>FIFA 23</td>\n",
       "      <td>2023-04-17</td>\n",
       "    </tr>\n",
       "    <tr>\n",
       "      <th>1573</th>\n",
       "      <td>Jorginho</td>\n",
       "      <td>Arsenal</td>\n",
       "      <td>Italy</td>\n",
       "      <td>Premier League</td>\n",
       "      <td>85</td>\n",
       "      <td>rare</td>\n",
       "      <td>gold</td>\n",
       "      <td>CM</td>\n",
       "      <td>NaN</td>\n",
       "      <td>Rare</td>\n",
       "      <td>Controlled</td>\n",
       "      <td>9K</td>\n",
       "      <td>3</td>\n",
       "      <td>3</td>\n",
       "      <td>M</td>\n",
       "      <td>M</td>\n",
       "      <td>54</td>\n",
       "      <td>67</td>\n",
       "      <td>86</td>\n",
       "      <td>81</td>\n",
       "      <td>73</td>\n",
       "      <td>73</td>\n",
       "      <td>Lean</td>\n",
       "      <td>180.0</td>\n",
       "      <td>68.0</td>\n",
       "      <td>49</td>\n",
       "      <td>434</td>\n",
       "      <td>2156</td>\n",
       "      <td>FIFA 23</td>\n",
       "      <td>2023-04-17</td>\n",
       "    </tr>\n",
       "    <tr>\n",
       "      <th>175</th>\n",
       "      <td>David Trezeguet</td>\n",
       "      <td>FUT ICONS</td>\n",
       "      <td>France</td>\n",
       "      <td>Icons</td>\n",
       "      <td>91</td>\n",
       "      <td>rare</td>\n",
       "      <td>icon gold</td>\n",
       "      <td>ST</td>\n",
       "      <td>CF</td>\n",
       "      <td>Icon</td>\n",
       "      <td>Lengthy</td>\n",
       "      <td>72.5K</td>\n",
       "      <td>4</td>\n",
       "      <td>4</td>\n",
       "      <td>M</td>\n",
       "      <td>L</td>\n",
       "      <td>81</td>\n",
       "      <td>92</td>\n",
       "      <td>70</td>\n",
       "      <td>82</td>\n",
       "      <td>45</td>\n",
       "      <td>80</td>\n",
       "      <td>High &amp; Average+</td>\n",
       "      <td>187.0</td>\n",
       "      <td>75.0</td>\n",
       "      <td>-205</td>\n",
       "      <td>450</td>\n",
       "      <td>2122</td>\n",
       "      <td>FIFA 23</td>\n",
       "      <td>2023-04-17</td>\n",
       "    </tr>\n",
       "    <tr>\n",
       "      <th>1692</th>\n",
       "      <td>Abel Ruiz Ortega</td>\n",
       "      <td>SC Braga</td>\n",
       "      <td>Spain</td>\n",
       "      <td>Liga NOS (POR 1)</td>\n",
       "      <td>84</td>\n",
       "      <td>rare</td>\n",
       "      <td>objective_reward_3 gold</td>\n",
       "      <td>ST</td>\n",
       "      <td>CF</td>\n",
       "      <td>Squad Foundation</td>\n",
       "      <td>Controlled</td>\n",
       "      <td>0</td>\n",
       "      <td>4</td>\n",
       "      <td>3</td>\n",
       "      <td>H</td>\n",
       "      <td>M</td>\n",
       "      <td>87</td>\n",
       "      <td>84</td>\n",
       "      <td>76</td>\n",
       "      <td>85</td>\n",
       "      <td>48</td>\n",
       "      <td>80</td>\n",
       "      <td>Average</td>\n",
       "      <td>180.0</td>\n",
       "      <td>75.0</td>\n",
       "      <td>-63</td>\n",
       "      <td>460</td>\n",
       "      <td>2159</td>\n",
       "      <td>FIFA 23</td>\n",
       "      <td>2023-04-17</td>\n",
       "    </tr>\n",
       "    <tr>\n",
       "      <th>220</th>\n",
       "      <td>Mohamed Salah</td>\n",
       "      <td>Liverpool</td>\n",
       "      <td>Egypt</td>\n",
       "      <td>Premier League</td>\n",
       "      <td>91</td>\n",
       "      <td>rare</td>\n",
       "      <td>if gold</td>\n",
       "      <td>RM</td>\n",
       "      <td>RW</td>\n",
       "      <td>IF</td>\n",
       "      <td>Controlled</td>\n",
       "      <td>260K</td>\n",
       "      <td>4</td>\n",
       "      <td>3</td>\n",
       "      <td>H</td>\n",
       "      <td>M</td>\n",
       "      <td>91</td>\n",
       "      <td>90</td>\n",
       "      <td>83</td>\n",
       "      <td>91</td>\n",
       "      <td>47</td>\n",
       "      <td>77</td>\n",
       "      <td>Salah</td>\n",
       "      <td>175.0</td>\n",
       "      <td>71.0</td>\n",
       "      <td>593</td>\n",
       "      <td>479</td>\n",
       "      <td>2295</td>\n",
       "      <td>FIFA 23</td>\n",
       "      <td>2023-04-17</td>\n",
       "    </tr>\n",
       "  </tbody>\n",
       "</table>\n",
       "</div>"
      ],
      "text/plain": [
       "                  Name           Team      Country            League  Rating  \\\n",
       "3672       Suat Serdar  Hertha Berlin      Germany        Bundesliga      77   \n",
       "1460      Gregor Kobel       Dortmund  Switzerland        Bundesliga      85   \n",
       "1974      Jonathan Tah        Germany      Germany         World Cup      83   \n",
       "581        El Shaarawy        Roma FC        Italy       Serie A TIM      89   \n",
       "1787   Kieran Trippier        England      England         World Cup      84   \n",
       "2016   Germán Pezzella     Real Betis    Argentina  LaLiga Santander      83   \n",
       "1573          Jorginho        Arsenal        Italy    Premier League      85   \n",
       "175    David Trezeguet      FUT ICONS       France             Icons      91   \n",
       "1692  Abel Ruiz Ortega       SC Braga        Spain  Liga NOS (POR 1)      84   \n",
       "220      Mohamed Salah      Liverpool        Egypt    Premier League      91   \n",
       "\n",
       "          Rare              Version_color Position Other_Positions  \\\n",
       "3672  non-rare                      gold        CM         CDM,CAM   \n",
       "1460      rare                   if gold        GK             NaN   \n",
       "1974      rare            wc_player gold        CB             NaN   \n",
       "581       rare               fut-bd gold        CF        LM,ST,LW   \n",
       "1787      rare            wc_player gold        RB          RWB,RM   \n",
       "2016      rare                   if gold        CB             NaN   \n",
       "1573      rare                      gold        CM             NaN   \n",
       "175       rare                 icon gold        ST              CF   \n",
       "1692      rare   objective_reward_3 gold        ST              CF   \n",
       "220       rare                   if gold        RM              RW   \n",
       "\n",
       "               Version    Run_type    Price  Skill  Weak_foot Attack_rate  \\\n",
       "3672            Normal  Controlled     850       4          3           H   \n",
       "1460                IF  Controlled  24.75K       1          3           M   \n",
       "1974  World Cup Player     Lengthy       0       2          4           M   \n",
       "581       FUT Birthday   Explosive     63K       5          3           M   \n",
       "1787  World Cup Player  Controlled       0       3          4           M   \n",
       "2016                IF     Lengthy     13K       2          3           M   \n",
       "1573              Rare  Controlled      9K       3          3           M   \n",
       "175               Icon     Lengthy   72.5K       4          4           M   \n",
       "1692  Squad Foundation  Controlled       0       4          3           H   \n",
       "220                 IF  Controlled    260K       4          3           H   \n",
       "\n",
       "     Defense_rate  Pace  Shoot  Pass  Drible  Defense  Physical  \\\n",
       "3672            M    67     71    71      81       73        79   \n",
       "1460            M    86     83    76      90       45        82   \n",
       "1974            M    68     38    60      62       84        86   \n",
       "581             M    94     85    85      90       58        79   \n",
       "1787            M    70     64    82      77       80        72   \n",
       "2016            M    58     55    56      62       85        79   \n",
       "1573            M    54     67    86      81       73        73   \n",
       "175             L    81     92    70      82       45        80   \n",
       "1692            M    87     84    76      85       48        80   \n",
       "220             M    91     90    83      91       47        77   \n",
       "\n",
       "             Body_type  Height_cm  Weight (kg)  Popularity  Base_Stats  \\\n",
       "3672           Average      184.0         75.0          12         442   \n",
       "1460    High & Average      195.0         88.0         418         462   \n",
       "1974     High & Stocky      195.0         98.0           1         398   \n",
       "581               Lean      178.0         73.0         104         491   \n",
       "1787           Average      173.0         71.0           2         445   \n",
       "2016    High & Average      186.0         81.0           2         395   \n",
       "1573              Lean      180.0         68.0          49         434   \n",
       "175    High & Average+      187.0         75.0        -205         450   \n",
       "1692           Average      180.0         75.0         -63         460   \n",
       "220              Salah      175.0         71.0         593         479   \n",
       "\n",
       "      In_Game_Stats Game_version  Updated_at  \n",
       "3672           2111      FIFA 23  2023-04-17  \n",
       "1460            916      FIFA 23  2023-04-17  \n",
       "1974           1780      FIFA 23  2023-04-17  \n",
       "581            2364      FIFA 23  2023-04-17  \n",
       "1787           2205      FIFA 23  2023-04-17  \n",
       "2016           1845      FIFA 23  2023-04-17  \n",
       "1573           2156      FIFA 23  2023-04-17  \n",
       "175            2122      FIFA 23  2023-04-17  \n",
       "1692           2159      FIFA 23  2023-04-17  \n",
       "220            2295      FIFA 23  2023-04-17  "
      ]
     },
     "execution_count": 3,
     "metadata": {},
     "output_type": "execute_result"
    },
    {
     "data": {
      "application/javascript": "\n            setTimeout(function() {\n                var nbb_cell_id = 3;\n                var nbb_unformatted_code = \"# check 10 random samples of dataset\\ndf_players.sample(10)\";\n                var nbb_formatted_code = \"# check 10 random samples of dataset\\ndf_players.sample(10)\";\n                var nbb_cells = Jupyter.notebook.get_cells();\n                for (var i = 0; i < nbb_cells.length; ++i) {\n                    if (nbb_cells[i].input_prompt_number == nbb_cell_id) {\n                        if (nbb_cells[i].get_text() == nbb_unformatted_code) {\n                             nbb_cells[i].set_text(nbb_formatted_code);\n                        }\n                        break;\n                    }\n                }\n            }, 500);\n            ",
      "text/plain": [
       "<IPython.core.display.Javascript object>"
      ]
     },
     "metadata": {},
     "output_type": "display_data"
    }
   ],
   "source": [
    "# check 10 random samples of dataset\n",
    "df_players.sample(10)"
   ]
  },
  {
   "cell_type": "code",
   "execution_count": 4,
   "metadata": {},
   "outputs": [
    {
     "name": "stdout",
     "output_type": "stream",
     "text": [
      "<class 'pandas.core.frame.DataFrame'>\n",
      "RangeIndex: 4020 entries, 0 to 4019\n",
      "Data columns (total 30 columns):\n",
      " #   Column           Non-Null Count  Dtype  \n",
      "---  ------           --------------  -----  \n",
      " 0   Name             4020 non-null   object \n",
      " 1   Team             4020 non-null   object \n",
      " 2   Country          4020 non-null   object \n",
      " 3   League           4020 non-null   object \n",
      " 4   Rating           4020 non-null   int64  \n",
      " 5   Rare             4020 non-null   object \n",
      " 6   Version_color    4020 non-null   object \n",
      " 7   Position         4020 non-null   object \n",
      " 8   Other_Positions  2986 non-null   object \n",
      " 9   Version          3346 non-null   object \n",
      " 10  Run_type         4020 non-null   object \n",
      " 11  Price            4020 non-null   object \n",
      " 12  Skill            4020 non-null   int64  \n",
      " 13  Weak_foot        4020 non-null   int64  \n",
      " 14  Attack_rate      4020 non-null   object \n",
      " 15  Defense_rate     4020 non-null   object \n",
      " 16  Pace             4020 non-null   int64  \n",
      " 17  Shoot            4020 non-null   int64  \n",
      " 18  Pass             4020 non-null   int64  \n",
      " 19  Drible           4020 non-null   int64  \n",
      " 20  Defense          4020 non-null   int64  \n",
      " 21  Physical         4020 non-null   int64  \n",
      " 22  Body_type        4003 non-null   object \n",
      " 23  Height_cm        4018 non-null   float64\n",
      " 24  Weight (kg)      4003 non-null   float64\n",
      " 25  Popularity       4020 non-null   int64  \n",
      " 26  Base_Stats       4020 non-null   int64  \n",
      " 27  In_Game_Stats    4020 non-null   int64  \n",
      " 28  Game_version     4020 non-null   object \n",
      " 29  Updated_at       4020 non-null   object \n",
      "dtypes: float64(2), int64(12), object(16)\n",
      "memory usage: 942.3+ KB\n"
     ]
    },
    {
     "data": {
      "application/javascript": "\n            setTimeout(function() {\n                var nbb_cell_id = 4;\n                var nbb_unformatted_code = \"# check the name and the type of each column, and if there is some missing values\\ndf_players.info()\";\n                var nbb_formatted_code = \"# check the name and the type of each column, and if there is some missing values\\ndf_players.info()\";\n                var nbb_cells = Jupyter.notebook.get_cells();\n                for (var i = 0; i < nbb_cells.length; ++i) {\n                    if (nbb_cells[i].input_prompt_number == nbb_cell_id) {\n                        if (nbb_cells[i].get_text() == nbb_unformatted_code) {\n                             nbb_cells[i].set_text(nbb_formatted_code);\n                        }\n                        break;\n                    }\n                }\n            }, 500);\n            ",
      "text/plain": [
       "<IPython.core.display.Javascript object>"
      ]
     },
     "metadata": {},
     "output_type": "display_data"
    }
   ],
   "source": [
    "# check the name and the type of each column, and if there is some missing values\n",
    "df_players.info()"
   ]
  },
  {
   "attachments": {},
   "cell_type": "markdown",
   "metadata": {},
   "source": [
    "# Step 2 - Data preparation\n",
    "In this step we prepare the data for further analysis, it's included:\n",
    "- Normalize the column name\n",
    "- Normalize the prices\n",
    "- Adjust the data types\n",
    "- Deal with whitespace\n",
    "- Deal with missing values \n",
    "- Deal with duplicated values\n",
    "- Remove useless data"
   ]
  },
  {
   "attachments": {},
   "cell_type": "markdown",
   "metadata": {},
   "source": [
    "## Normalize column name\n",
    "The data set has a pattern in the column names, but it's easier to manipulate if they are with no space and lowercase, so let's implement this simple fix."
   ]
  },
  {
   "cell_type": "code",
   "execution_count": 5,
   "metadata": {},
   "outputs": [
    {
     "name": "stderr",
     "output_type": "stream",
     "text": [
      "C:\\Users\\Felipe Mayer\\AppData\\Local\\Temp\\ipykernel_9344\\2323474123.py:2: FutureWarning: The default value of regex will change from True to False in a future version. In addition, single character regular expressions will *not* be treated as literal strings when regex=True.\n",
      "  .str.replace(\"(\", \"\")\\\n",
      "C:\\Users\\Felipe Mayer\\AppData\\Local\\Temp\\ipykernel_9344\\2323474123.py:3: FutureWarning: The default value of regex will change from True to False in a future version. In addition, single character regular expressions will *not* be treated as literal strings when regex=True.\n",
      "  .str.replace(\")\", \"\")\\\n"
     ]
    },
    {
     "data": {
      "application/javascript": "\n            setTimeout(function() {\n                var nbb_cell_id = 5;\n                var nbb_unformatted_code = \"columns = df_players.columns.str.replace(\\\" \\\", \\\"_\\\")\\\\\\n                            .str.replace(\\\"(\\\", \\\"\\\")\\\\\\n                            .str.replace(\\\")\\\", \\\"\\\")\\\\\\n                            .str.lower()\\n\\ndf_players.columns = list(columns)\";\n                var nbb_formatted_code = \"columns = (\\n    df_players.columns.str.replace(\\\" \\\", \\\"_\\\")\\n    .str.replace(\\\"(\\\", \\\"\\\")\\n    .str.replace(\\\")\\\", \\\"\\\")\\n    .str.lower()\\n)\\n\\ndf_players.columns = list(columns)\";\n                var nbb_cells = Jupyter.notebook.get_cells();\n                for (var i = 0; i < nbb_cells.length; ++i) {\n                    if (nbb_cells[i].input_prompt_number == nbb_cell_id) {\n                        if (nbb_cells[i].get_text() == nbb_unformatted_code) {\n                             nbb_cells[i].set_text(nbb_formatted_code);\n                        }\n                        break;\n                    }\n                }\n            }, 500);\n            ",
      "text/plain": [
       "<IPython.core.display.Javascript object>"
      ]
     },
     "metadata": {},
     "output_type": "display_data"
    }
   ],
   "source": [
    "columns = df_players.columns.str.replace(\" \", \"_\")\\\n",
    "                            .str.replace(\"(\", \"\")\\\n",
    "                            .str.replace(\")\", \"\")\\\n",
    "                            .str.lower()\n",
    "\n",
    "df_players.columns = list(columns)"
   ]
  },
  {
   "attachments": {},
   "cell_type": "markdown",
   "metadata": {},
   "source": [
    "## Normalize the price\n",
    "The column price, as you may notice, is a Object, it means, a string. We'll use this column to some analysis so it's crucial to change them to a numeric value and normalize it.\n",
    "\n",
    "The numbers are expressed with K for thousand and M to million, for exemple 14.000 it's 14K. So we need to change the letter (K or M) to correspodent 0's (000 and 000000). After that, change the datatype to integer."
   ]
  },
  {
   "cell_type": "code",
   "execution_count": 6,
   "metadata": {},
   "outputs": [
    {
     "data": {
      "text/plain": [
       "0        3980000\n",
       "1        4820000\n",
       "2        2230000\n",
       "3       11400000\n",
       "4        2500000\n",
       "          ...   \n",
       "4015           0\n",
       "4016           0\n",
       "4017           0\n",
       "4018           0\n",
       "4019           0\n",
       "Name: price, Length: 4020, dtype: int64"
      ]
     },
     "execution_count": 6,
     "metadata": {},
     "output_type": "execute_result"
    },
    {
     "data": {
      "application/javascript": "\n            setTimeout(function() {\n                var nbb_cell_id = 6;\n                var nbb_unformatted_code = \"df_players['price'] = df_players['price'].replace({'M': 'e+06', 'K': 'e+03'}, regex=True).astype(float).astype(np.int64)\\n\\ndf_players['price']\";\n                var nbb_formatted_code = \"df_players[\\\"price\\\"] = (\\n    df_players[\\\"price\\\"]\\n    .replace({\\\"M\\\": \\\"e+06\\\", \\\"K\\\": \\\"e+03\\\"}, regex=True)\\n    .astype(float)\\n    .astype(np.int64)\\n)\\n\\ndf_players[\\\"price\\\"]\";\n                var nbb_cells = Jupyter.notebook.get_cells();\n                for (var i = 0; i < nbb_cells.length; ++i) {\n                    if (nbb_cells[i].input_prompt_number == nbb_cell_id) {\n                        if (nbb_cells[i].get_text() == nbb_unformatted_code) {\n                             nbb_cells[i].set_text(nbb_formatted_code);\n                        }\n                        break;\n                    }\n                }\n            }, 500);\n            ",
      "text/plain": [
       "<IPython.core.display.Javascript object>"
      ]
     },
     "metadata": {},
     "output_type": "display_data"
    }
   ],
   "source": [
    "df_players['price'] = df_players['price'].replace({'M': 'e+06', 'K': 'e+03'}, regex=True).astype(float).astype(np.int64)\n",
    "\n",
    "df_players['price']"
   ]
  },
  {
   "attachments": {},
   "cell_type": "markdown",
   "metadata": {},
   "source": [
    "## Adjust the Data type\n",
    "\n",
    "As you may notice, the dataset loaded has a good data type definition, excepts for \"updated_at\" column, it's a Object but it's a date, so we need to change it's data type."
   ]
  },
  {
   "cell_type": "code",
   "execution_count": 7,
   "metadata": {},
   "outputs": [
    {
     "name": "stdout",
     "output_type": "stream",
     "text": [
      "<class 'pandas.core.series.Series'>\n",
      "RangeIndex: 4020 entries, 0 to 4019\n",
      "Series name: updated_at\n",
      "Non-Null Count  Dtype \n",
      "--------------  ----- \n",
      "4020 non-null   object\n",
      "dtypes: object(1)\n",
      "memory usage: 31.5+ KB\n"
     ]
    },
    {
     "data": {
      "application/javascript": "\n            setTimeout(function() {\n                var nbb_cell_id = 7;\n                var nbb_unformatted_code = \"df_players['updated_at'].info()\";\n                var nbb_formatted_code = \"df_players[\\\"updated_at\\\"].info()\";\n                var nbb_cells = Jupyter.notebook.get_cells();\n                for (var i = 0; i < nbb_cells.length; ++i) {\n                    if (nbb_cells[i].input_prompt_number == nbb_cell_id) {\n                        if (nbb_cells[i].get_text() == nbb_unformatted_code) {\n                             nbb_cells[i].set_text(nbb_formatted_code);\n                        }\n                        break;\n                    }\n                }\n            }, 500);\n            ",
      "text/plain": [
       "<IPython.core.display.Javascript object>"
      ]
     },
     "metadata": {},
     "output_type": "display_data"
    }
   ],
   "source": [
    "df_players['updated_at'].info()"
   ]
  },
  {
   "cell_type": "code",
   "execution_count": 8,
   "metadata": {},
   "outputs": [
    {
     "data": {
      "text/plain": [
       "1145   2023-04-17\n",
       "3315   2023-04-17\n",
       "3973   2023-04-17\n",
       "3956   2023-04-17\n",
       "3172   2023-04-17\n",
       "Name: updated_at, dtype: datetime64[ns]"
      ]
     },
     "execution_count": 8,
     "metadata": {},
     "output_type": "execute_result"
    },
    {
     "data": {
      "application/javascript": "\n            setTimeout(function() {\n                var nbb_cell_id = 8;\n                var nbb_unformatted_code = \"df_players['updated_at'] = df_players['updated_at'].astype('datetime64[ns]')\\n\\ndf_players['updated_at'].sample(5)\";\n                var nbb_formatted_code = \"df_players[\\\"updated_at\\\"] = df_players[\\\"updated_at\\\"].astype(\\\"datetime64[ns]\\\")\\n\\ndf_players[\\\"updated_at\\\"].sample(5)\";\n                var nbb_cells = Jupyter.notebook.get_cells();\n                for (var i = 0; i < nbb_cells.length; ++i) {\n                    if (nbb_cells[i].input_prompt_number == nbb_cell_id) {\n                        if (nbb_cells[i].get_text() == nbb_unformatted_code) {\n                             nbb_cells[i].set_text(nbb_formatted_code);\n                        }\n                        break;\n                    }\n                }\n            }, 500);\n            ",
      "text/plain": [
       "<IPython.core.display.Javascript object>"
      ]
     },
     "metadata": {},
     "output_type": "display_data"
    }
   ],
   "source": [
    "df_players['updated_at'] = df_players['updated_at'].astype('datetime64[ns]')\n",
    "\n",
    "df_players['updated_at'].sample(5)"
   ]
  },
  {
   "attachments": {},
   "cell_type": "markdown",
   "metadata": {},
   "source": [
    "We can change the type of some columns to Category to descrease de memory usage."
   ]
  },
  {
   "cell_type": "code",
   "execution_count": 9,
   "metadata": {},
   "outputs": [
    {
     "name": "stdout",
     "output_type": "stream",
     "text": [
      "<class 'pandas.core.frame.DataFrame'>\n",
      "RangeIndex: 4020 entries, 0 to 4019\n",
      "Data columns (total 30 columns):\n",
      " #   Column           Non-Null Count  Dtype         \n",
      "---  ------           --------------  -----         \n",
      " 0   name             4020 non-null   object        \n",
      " 1   team             4020 non-null   object        \n",
      " 2   country          4020 non-null   object        \n",
      " 3   league           4020 non-null   object        \n",
      " 4   rating           4020 non-null   int64         \n",
      " 5   rare             4020 non-null   object        \n",
      " 6   version_color    4020 non-null   object        \n",
      " 7   position         4020 non-null   object        \n",
      " 8   other_positions  2986 non-null   object        \n",
      " 9   version          3346 non-null   object        \n",
      " 10  run_type         4020 non-null   object        \n",
      " 11  price            4020 non-null   int64         \n",
      " 12  skill            4020 non-null   int64         \n",
      " 13  weak_foot        4020 non-null   int64         \n",
      " 14  attack_rate      4020 non-null   object        \n",
      " 15  defense_rate     4020 non-null   object        \n",
      " 16  pace             4020 non-null   int64         \n",
      " 17  shoot            4020 non-null   int64         \n",
      " 18  pass             4020 non-null   int64         \n",
      " 19  drible           4020 non-null   int64         \n",
      " 20  defense          4020 non-null   int64         \n",
      " 21  physical         4020 non-null   int64         \n",
      " 22  body_type        4003 non-null   object        \n",
      " 23  height_cm        4018 non-null   float64       \n",
      " 24  weight_kg        4003 non-null   float64       \n",
      " 25  popularity       4020 non-null   int64         \n",
      " 26  base_stats       4020 non-null   int64         \n",
      " 27  in_game_stats    4020 non-null   int64         \n",
      " 28  game_version     4020 non-null   object        \n",
      " 29  updated_at       4020 non-null   datetime64[ns]\n",
      "dtypes: datetime64[ns](1), float64(2), int64(13), object(14)\n",
      "memory usage: 942.3+ KB\n"
     ]
    },
    {
     "data": {
      "application/javascript": "\n            setTimeout(function() {\n                var nbb_cell_id = 9;\n                var nbb_unformatted_code = \"df_players.info()\";\n                var nbb_formatted_code = \"df_players.info()\";\n                var nbb_cells = Jupyter.notebook.get_cells();\n                for (var i = 0; i < nbb_cells.length; ++i) {\n                    if (nbb_cells[i].input_prompt_number == nbb_cell_id) {\n                        if (nbb_cells[i].get_text() == nbb_unformatted_code) {\n                             nbb_cells[i].set_text(nbb_formatted_code);\n                        }\n                        break;\n                    }\n                }\n            }, 500);\n            ",
      "text/plain": [
       "<IPython.core.display.Javascript object>"
      ]
     },
     "metadata": {},
     "output_type": "display_data"
    }
   ],
   "source": [
    "df_players.info()"
   ]
  },
  {
   "cell_type": "code",
   "execution_count": 10,
   "metadata": {},
   "outputs": [
    {
     "name": "stdout",
     "output_type": "stream",
     "text": [
      "<class 'pandas.core.frame.DataFrame'>\n",
      "RangeIndex: 4020 entries, 0 to 4019\n",
      "Data columns (total 30 columns):\n",
      " #   Column           Non-Null Count  Dtype         \n",
      "---  ------           --------------  -----         \n",
      " 0   name             4020 non-null   object        \n",
      " 1   team             4020 non-null   category      \n",
      " 2   country          4020 non-null   category      \n",
      " 3   league           4020 non-null   category      \n",
      " 4   rating           4020 non-null   int64         \n",
      " 5   rare             4020 non-null   category      \n",
      " 6   version_color    4020 non-null   object        \n",
      " 7   position         4020 non-null   category      \n",
      " 8   other_positions  2986 non-null   object        \n",
      " 9   version          3346 non-null   object        \n",
      " 10  run_type         4020 non-null   category      \n",
      " 11  price            4020 non-null   int64         \n",
      " 12  skill            4020 non-null   int64         \n",
      " 13  weak_foot        4020 non-null   int64         \n",
      " 14  attack_rate      4020 non-null   category      \n",
      " 15  defense_rate     4020 non-null   category      \n",
      " 16  pace             4020 non-null   int64         \n",
      " 17  shoot            4020 non-null   int64         \n",
      " 18  pass             4020 non-null   int64         \n",
      " 19  drible           4020 non-null   int64         \n",
      " 20  defense          4020 non-null   int64         \n",
      " 21  physical         4020 non-null   int64         \n",
      " 22  body_type        4003 non-null   category      \n",
      " 23  height_cm        4018 non-null   float64       \n",
      " 24  weight_kg        4003 non-null   float64       \n",
      " 25  popularity       4020 non-null   int64         \n",
      " 26  base_stats       4020 non-null   int64         \n",
      " 27  in_game_stats    4020 non-null   int64         \n",
      " 28  game_version     4020 non-null   category      \n",
      " 29  updated_at       4020 non-null   datetime64[ns]\n",
      "dtypes: category(10), datetime64[ns](1), float64(2), int64(13), object(4)\n",
      "memory usage: 688.1+ KB\n"
     ]
    },
    {
     "data": {
      "application/javascript": "\n            setTimeout(function() {\n                var nbb_cell_id = 10;\n                var nbb_unformatted_code = \"cols = ['team', 'country', 'league', 'rare', 'position', 'run_type',\\n         'attack_rate', 'defense_rate', 'body_type', 'game_version']\\n\\nfor col in cols:\\n    df_players[col] = df_players[col].astype('category')\\n\\ndf_players.info()\";\n                var nbb_formatted_code = \"cols = [\\n    \\\"team\\\",\\n    \\\"country\\\",\\n    \\\"league\\\",\\n    \\\"rare\\\",\\n    \\\"position\\\",\\n    \\\"run_type\\\",\\n    \\\"attack_rate\\\",\\n    \\\"defense_rate\\\",\\n    \\\"body_type\\\",\\n    \\\"game_version\\\",\\n]\\n\\nfor col in cols:\\n    df_players[col] = df_players[col].astype(\\\"category\\\")\\n\\ndf_players.info()\";\n                var nbb_cells = Jupyter.notebook.get_cells();\n                for (var i = 0; i < nbb_cells.length; ++i) {\n                    if (nbb_cells[i].input_prompt_number == nbb_cell_id) {\n                        if (nbb_cells[i].get_text() == nbb_unformatted_code) {\n                             nbb_cells[i].set_text(nbb_formatted_code);\n                        }\n                        break;\n                    }\n                }\n            }, 500);\n            ",
      "text/plain": [
       "<IPython.core.display.Javascript object>"
      ]
     },
     "metadata": {},
     "output_type": "display_data"
    }
   ],
   "source": [
    "cols = ['team', 'country', 'league', 'rare', 'position', 'run_type',\n",
    "         'attack_rate', 'defense_rate', 'body_type', 'game_version']\n",
    "\n",
    "for col in cols:\n",
    "    df_players[col] = df_players[col].astype('category')\n",
    "\n",
    "df_players.info()"
   ]
  },
  {
   "attachments": {},
   "cell_type": "markdown",
   "metadata": {},
   "source": [
    "## Deal with whitespace\n",
    "\n",
    "Some data has whitespace, since the data was scrapped so we need to remove it. To make it easier we will remove the whitespace of every String column, even if it doens't needed"
   ]
  },
  {
   "cell_type": "code",
   "execution_count": 11,
   "metadata": {},
   "outputs": [
    {
     "data": {
      "application/javascript": "\n            setTimeout(function() {\n                var nbb_cell_id = 11;\n                var nbb_unformatted_code = \"for col in df_players.columns:\\n    if df_players[col].dtype == 'object':\\n        df_players[col] = df_players[col].str.strip()\";\n                var nbb_formatted_code = \"for col in df_players.columns:\\n    if df_players[col].dtype == \\\"object\\\":\\n        df_players[col] = df_players[col].str.strip()\";\n                var nbb_cells = Jupyter.notebook.get_cells();\n                for (var i = 0; i < nbb_cells.length; ++i) {\n                    if (nbb_cells[i].input_prompt_number == nbb_cell_id) {\n                        if (nbb_cells[i].get_text() == nbb_unformatted_code) {\n                             nbb_cells[i].set_text(nbb_formatted_code);\n                        }\n                        break;\n                    }\n                }\n            }, 500);\n            ",
      "text/plain": [
       "<IPython.core.display.Javascript object>"
      ]
     },
     "metadata": {},
     "output_type": "display_data"
    }
   ],
   "source": [
    "for col in df_players.columns:\n",
    "    if df_players[col].dtype == 'object':\n",
    "        df_players[col] = df_players[col].str.strip()"
   ]
  },
  {
   "attachments": {},
   "cell_type": "markdown",
   "metadata": {},
   "source": [
    "## Deal with missing values \n",
    "There is some columns with missing values, let's deal with deal properly.\n",
    "\n",
    "- For \"version\" column, we need to understand which players without a version and why, so we can deal with that.\n",
    "- For \"height\" and \"weight\" columns, we need to understand below what's happen and choose the best way to deal it.\n",
    "- For \"body_type\" column, there is a patter to define the body type of player, we can user it to fill the null values."
   ]
  },
  {
   "cell_type": "code",
   "execution_count": 12,
   "metadata": {},
   "outputs": [
    {
     "data": {
      "text/plain": [
       "name                  0\n",
       "team                  0\n",
       "country               0\n",
       "league                0\n",
       "rating                0\n",
       "rare                  0\n",
       "version_color         0\n",
       "position              0\n",
       "other_positions    1034\n",
       "version             674\n",
       "run_type              0\n",
       "price                 0\n",
       "skill                 0\n",
       "weak_foot             0\n",
       "attack_rate           0\n",
       "defense_rate          0\n",
       "pace                  0\n",
       "shoot                 0\n",
       "pass                  0\n",
       "drible                0\n",
       "defense               0\n",
       "physical              0\n",
       "body_type            17\n",
       "height_cm             2\n",
       "weight_kg            17\n",
       "popularity            0\n",
       "base_stats            0\n",
       "in_game_stats         0\n",
       "game_version          0\n",
       "updated_at            0\n",
       "dtype: int64"
      ]
     },
     "execution_count": 12,
     "metadata": {},
     "output_type": "execute_result"
    },
    {
     "data": {
      "application/javascript": "\n            setTimeout(function() {\n                var nbb_cell_id = 12;\n                var nbb_unformatted_code = \"df_players.isna().sum()\";\n                var nbb_formatted_code = \"df_players.isna().sum()\";\n                var nbb_cells = Jupyter.notebook.get_cells();\n                for (var i = 0; i < nbb_cells.length; ++i) {\n                    if (nbb_cells[i].input_prompt_number == nbb_cell_id) {\n                        if (nbb_cells[i].get_text() == nbb_unformatted_code) {\n                             nbb_cells[i].set_text(nbb_formatted_code);\n                        }\n                        break;\n                    }\n                }\n            }, 500);\n            ",
      "text/plain": [
       "<IPython.core.display.Javascript object>"
      ]
     },
     "metadata": {},
     "output_type": "display_data"
    }
   ],
   "source": [
    "df_players.isna().sum()"
   ]
  },
  {
   "attachments": {},
   "cell_type": "markdown",
   "metadata": {},
   "source": [
    "### Column: \"version\"\n",
    "Some players without 'version' filled, but they belong to sub-groups with same 'version_color'. We'll use the 'version-color' information to fill the 'version' missing value columns."
   ]
  },
  {
   "cell_type": "code",
   "execution_count": 13,
   "metadata": {},
   "outputs": [
    {
     "data": {
      "text/plain": [
       "674"
      ]
     },
     "execution_count": 13,
     "metadata": {},
     "output_type": "execute_result"
    },
    {
     "data": {
      "application/javascript": "\n            setTimeout(function() {\n                var nbb_cell_id = 13;\n                var nbb_unformatted_code = \"df_players['version'].isna().sum()\";\n                var nbb_formatted_code = \"df_players[\\\"version\\\"].isna().sum()\";\n                var nbb_cells = Jupyter.notebook.get_cells();\n                for (var i = 0; i < nbb_cells.length; ++i) {\n                    if (nbb_cells[i].input_prompt_number == nbb_cell_id) {\n                        if (nbb_cells[i].get_text() == nbb_unformatted_code) {\n                             nbb_cells[i].set_text(nbb_formatted_code);\n                        }\n                        break;\n                    }\n                }\n            }, 500);\n            ",
      "text/plain": [
       "<IPython.core.display.Javascript object>"
      ]
     },
     "metadata": {},
     "output_type": "display_data"
    }
   ],
   "source": [
    "df_players['version'].isna().sum()"
   ]
  },
  {
   "cell_type": "code",
   "execution_count": 14,
   "metadata": {},
   "outputs": [
    {
     "data": {
      "text/plain": [
       "version       version_color      \n",
       "NaN           gold                   640\n",
       "Normal        gold                   280\n",
       "Rare          gold                    87\n",
       "non-rare      gold                    27\n",
       "NaN           bd_icon gold            18\n",
       "              libertadores_b gold     15\n",
       "Non-Rare      gold                     7\n",
       "Libertadores  libertadores_b gold      1\n",
       "SBC           bd_icon gold             1\n",
       "NaN           sudamericana gold        1\n",
       "dtype: int64"
      ]
     },
     "execution_count": 14,
     "metadata": {},
     "output_type": "execute_result"
    },
    {
     "data": {
      "application/javascript": "\n            setTimeout(function() {\n                var nbb_cell_id = 14;\n                var nbb_unformatted_code = \"df_players[df_players['version_color'].isin(df_players[df_players['version'].isna()]\\\\\\n                                            ['version_color'].unique())]\\\\\\n                                            [['version', 'version_color' ]]\\\\\\n                                            .value_counts(dropna=False)\";\n                var nbb_formatted_code = \"df_players[\\n    df_players[\\\"version_color\\\"].isin(\\n        df_players[df_players[\\\"version\\\"].isna()][\\\"version_color\\\"].unique()\\n    )\\n][[\\\"version\\\", \\\"version_color\\\"]].value_counts(dropna=False)\";\n                var nbb_cells = Jupyter.notebook.get_cells();\n                for (var i = 0; i < nbb_cells.length; ++i) {\n                    if (nbb_cells[i].input_prompt_number == nbb_cell_id) {\n                        if (nbb_cells[i].get_text() == nbb_unformatted_code) {\n                             nbb_cells[i].set_text(nbb_formatted_code);\n                        }\n                        break;\n                    }\n                }\n            }, 500);\n            ",
      "text/plain": [
       "<IPython.core.display.Javascript object>"
      ]
     },
     "metadata": {},
     "output_type": "display_data"
    }
   ],
   "source": [
    "df_players[df_players['version_color'].isin(df_players[df_players['version'].isna()]\\\n",
    "                                            ['version_color'].unique())]\\\n",
    "                                            [['version', 'version_color' ]]\\\n",
    "                                            .value_counts(dropna=False)"
   ]
  },
  {
   "cell_type": "code",
   "execution_count": 15,
   "metadata": {},
   "outputs": [
    {
     "data": {
      "application/javascript": "\n            setTimeout(function() {\n                var nbb_cell_id = 15;\n                var nbb_unformatted_code = \"df_players['version'].fillna(df_players['version_color'])\\n\\n# change the type of the column 'version' and 'version_color' to category\\ndf_players['version'] = df_players['version'].astype('category')\\ndf_players['version_color'] = df_players['version_color'].astype('category')\";\n                var nbb_formatted_code = \"df_players[\\\"version\\\"].fillna(df_players[\\\"version_color\\\"])\\n\\n# change the type of the column 'version' and 'version_color' to category\\ndf_players[\\\"version\\\"] = df_players[\\\"version\\\"].astype(\\\"category\\\")\\ndf_players[\\\"version_color\\\"] = df_players[\\\"version_color\\\"].astype(\\\"category\\\")\";\n                var nbb_cells = Jupyter.notebook.get_cells();\n                for (var i = 0; i < nbb_cells.length; ++i) {\n                    if (nbb_cells[i].input_prompt_number == nbb_cell_id) {\n                        if (nbb_cells[i].get_text() == nbb_unformatted_code) {\n                             nbb_cells[i].set_text(nbb_formatted_code);\n                        }\n                        break;\n                    }\n                }\n            }, 500);\n            ",
      "text/plain": [
       "<IPython.core.display.Javascript object>"
      ]
     },
     "metadata": {},
     "output_type": "display_data"
    }
   ],
   "source": [
    "df_players['version'].fillna(df_players['version_color'])\n",
    "\n",
    "# change the type of the column 'version' and 'version_color' to category\n",
    "df_players['version'] = df_players['version'].astype('category')\n",
    "df_players['version_color'] = df_players['version_color'].astype('category')"
   ]
  },
  {
   "cell_type": "code",
   "execution_count": 16,
   "metadata": {},
   "outputs": [
    {
     "data": {
      "text/plain": [
       "674"
      ]
     },
     "execution_count": 16,
     "metadata": {},
     "output_type": "execute_result"
    },
    {
     "data": {
      "application/javascript": "\n            setTimeout(function() {\n                var nbb_cell_id = 16;\n                var nbb_unformatted_code = \"df_players['version'].isna().sum()\";\n                var nbb_formatted_code = \"df_players[\\\"version\\\"].isna().sum()\";\n                var nbb_cells = Jupyter.notebook.get_cells();\n                for (var i = 0; i < nbb_cells.length; ++i) {\n                    if (nbb_cells[i].input_prompt_number == nbb_cell_id) {\n                        if (nbb_cells[i].get_text() == nbb_unformatted_code) {\n                             nbb_cells[i].set_text(nbb_formatted_code);\n                        }\n                        break;\n                    }\n                }\n            }, 500);\n            ",
      "text/plain": [
       "<IPython.core.display.Javascript object>"
      ]
     },
     "metadata": {},
     "output_type": "display_data"
    }
   ],
   "source": [
    "df_players['version'].isna().sum()"
   ]
  },
  {
   "attachments": {},
   "cell_type": "markdown",
   "metadata": {},
   "source": [
    "\n",
    "### Deal with \"height\" and \"weight\" columns"
   ]
  },
  {
   "attachments": {},
   "cell_type": "markdown",
   "metadata": {},
   "source": [
    "Some players has 0 as weight, let's change it to NaN and deal with them."
   ]
  },
  {
   "cell_type": "code",
   "execution_count": 17,
   "metadata": {},
   "outputs": [
    {
     "data": {
      "application/javascript": "\n            setTimeout(function() {\n                var nbb_cell_id = 17;\n                var nbb_unformatted_code = \"df_players['weight_kg'].replace(0, np.nan, inplace=True)\";\n                var nbb_formatted_code = \"df_players[\\\"weight_kg\\\"].replace(0, np.nan, inplace=True)\";\n                var nbb_cells = Jupyter.notebook.get_cells();\n                for (var i = 0; i < nbb_cells.length; ++i) {\n                    if (nbb_cells[i].input_prompt_number == nbb_cell_id) {\n                        if (nbb_cells[i].get_text() == nbb_unformatted_code) {\n                             nbb_cells[i].set_text(nbb_formatted_code);\n                        }\n                        break;\n                    }\n                }\n            }, 500);\n            ",
      "text/plain": [
       "<IPython.core.display.Javascript object>"
      ]
     },
     "metadata": {},
     "output_type": "display_data"
    }
   ],
   "source": [
    "df_players['weight_kg'].replace(0, np.nan, inplace=True)"
   ]
  },
  {
   "attachments": {},
   "cell_type": "markdown",
   "metadata": {},
   "source": [
    "There is a correlation between height and weight, so we'll fill the missing values of 'weight' with the avarage value of other players with same \"height\""
   ]
  },
  {
   "cell_type": "code",
   "execution_count": 18,
   "metadata": {},
   "outputs": [
    {
     "data": {
      "text/plain": [
       "0.7697453215779397"
      ]
     },
     "execution_count": 18,
     "metadata": {},
     "output_type": "execute_result"
    },
    {
     "data": {
      "application/javascript": "\n            setTimeout(function() {\n                var nbb_cell_id = 18;\n                var nbb_unformatted_code = \"# check the correlation between height and weight\\ndf_players['height_cm'].corr(df_players['weight_kg'])\";\n                var nbb_formatted_code = \"# check the correlation between height and weight\\ndf_players[\\\"height_cm\\\"].corr(df_players[\\\"weight_kg\\\"])\";\n                var nbb_cells = Jupyter.notebook.get_cells();\n                for (var i = 0; i < nbb_cells.length; ++i) {\n                    if (nbb_cells[i].input_prompt_number == nbb_cell_id) {\n                        if (nbb_cells[i].get_text() == nbb_unformatted_code) {\n                             nbb_cells[i].set_text(nbb_formatted_code);\n                        }\n                        break;\n                    }\n                }\n            }, 500);\n            ",
      "text/plain": [
       "<IPython.core.display.Javascript object>"
      ]
     },
     "metadata": {},
     "output_type": "display_data"
    }
   ],
   "source": [
    "# check the correlation between height and weight\n",
    "df_players['height_cm'].corr(df_players['weight_kg'])"
   ]
  },
  {
   "cell_type": "code",
   "execution_count": 19,
   "metadata": {},
   "outputs": [
    {
     "data": {
      "text/plain": [
       "height_cm\n",
       "169.0    65.866667\n",
       "188.0    81.726316\n",
       "183.0    76.829876\n",
       "164.0    66.000000\n",
       "171.0    67.323077\n",
       "Name: weight_kg, dtype: float64"
      ]
     },
     "execution_count": 19,
     "metadata": {},
     "output_type": "execute_result"
    },
    {
     "data": {
      "application/javascript": "\n            setTimeout(function() {\n                var nbb_cell_id = 19;\n                var nbb_unformatted_code = \"# group by height and calculate the mean of weight\\ndf_player_groupedby_height = df_players[df_players['weight_kg'].notnull()].groupby('height_cm')['weight_kg'].mean()\\n\\ndf_player_groupedby_height.sample(n=5)\";\n                var nbb_formatted_code = \"# group by height and calculate the mean of weight\\ndf_player_groupedby_height = (\\n    df_players[df_players[\\\"weight_kg\\\"].notnull()]\\n    .groupby(\\\"height_cm\\\")[\\\"weight_kg\\\"]\\n    .mean()\\n)\\n\\ndf_player_groupedby_height.sample(n=5)\";\n                var nbb_cells = Jupyter.notebook.get_cells();\n                for (var i = 0; i < nbb_cells.length; ++i) {\n                    if (nbb_cells[i].input_prompt_number == nbb_cell_id) {\n                        if (nbb_cells[i].get_text() == nbb_unformatted_code) {\n                             nbb_cells[i].set_text(nbb_formatted_code);\n                        }\n                        break;\n                    }\n                }\n            }, 500);\n            ",
      "text/plain": [
       "<IPython.core.display.Javascript object>"
      ]
     },
     "metadata": {},
     "output_type": "display_data"
    }
   ],
   "source": [
    "# group by height and calculate the mean of weight\n",
    "df_player_groupedby_height = df_players[df_players['weight_kg'].notnull()].groupby('height_cm')['weight_kg'].mean()\n",
    "\n",
    "df_player_groupedby_height.sample(n=5)"
   ]
  },
  {
   "attachments": {},
   "cell_type": "markdown",
   "metadata": {},
   "source": [
    "Using the height grouped dataframe above to fill the missing values of weight"
   ]
  },
  {
   "cell_type": "code",
   "execution_count": 20,
   "metadata": {},
   "outputs": [
    {
     "data": {
      "text/html": [
       "<div>\n",
       "<style scoped>\n",
       "    .dataframe tbody tr th:only-of-type {\n",
       "        vertical-align: middle;\n",
       "    }\n",
       "\n",
       "    .dataframe tbody tr th {\n",
       "        vertical-align: top;\n",
       "    }\n",
       "\n",
       "    .dataframe thead th {\n",
       "        text-align: right;\n",
       "    }\n",
       "</style>\n",
       "<table border=\"1\" class=\"dataframe\">\n",
       "  <thead>\n",
       "    <tr style=\"text-align: right;\">\n",
       "      <th></th>\n",
       "      <th>name</th>\n",
       "      <th>team</th>\n",
       "      <th>country</th>\n",
       "      <th>league</th>\n",
       "      <th>rating</th>\n",
       "      <th>rare</th>\n",
       "      <th>version_color</th>\n",
       "      <th>position</th>\n",
       "      <th>other_positions</th>\n",
       "      <th>version</th>\n",
       "      <th>run_type</th>\n",
       "      <th>price</th>\n",
       "      <th>skill</th>\n",
       "      <th>weak_foot</th>\n",
       "      <th>attack_rate</th>\n",
       "      <th>defense_rate</th>\n",
       "      <th>pace</th>\n",
       "      <th>shoot</th>\n",
       "      <th>pass</th>\n",
       "      <th>drible</th>\n",
       "      <th>defense</th>\n",
       "      <th>physical</th>\n",
       "      <th>body_type</th>\n",
       "      <th>height_cm</th>\n",
       "      <th>weight_kg</th>\n",
       "      <th>popularity</th>\n",
       "      <th>base_stats</th>\n",
       "      <th>in_game_stats</th>\n",
       "      <th>game_version</th>\n",
       "      <th>updated_at</th>\n",
       "    </tr>\n",
       "  </thead>\n",
       "  <tbody>\n",
       "    <tr>\n",
       "      <th>89</th>\n",
       "      <td>Casillas Fernández</td>\n",
       "      <td>FUT ICONS</td>\n",
       "      <td>Spain</td>\n",
       "      <td>Icons</td>\n",
       "      <td>93</td>\n",
       "      <td>rare</td>\n",
       "      <td>trophy_titans_icon gold</td>\n",
       "      <td>GK</td>\n",
       "      <td>NaN</td>\n",
       "      <td>Trophy Titans - ICON</td>\n",
       "      <td>Controlled</td>\n",
       "      <td>99000</td>\n",
       "      <td>1</td>\n",
       "      <td>3</td>\n",
       "      <td>M</td>\n",
       "      <td>M</td>\n",
       "      <td>94</td>\n",
       "      <td>91</td>\n",
       "      <td>87</td>\n",
       "      <td>96</td>\n",
       "      <td>62</td>\n",
       "      <td>92</td>\n",
       "      <td>NaN</td>\n",
       "      <td>NaN</td>\n",
       "      <td>NaN</td>\n",
       "      <td>1189</td>\n",
       "      <td>522</td>\n",
       "      <td>1359</td>\n",
       "      <td>FIFA 23</td>\n",
       "      <td>2023-04-17</td>\n",
       "    </tr>\n",
       "    <tr>\n",
       "      <th>137</th>\n",
       "      <td>Casillas Fernández</td>\n",
       "      <td>FUT ICONS</td>\n",
       "      <td>Spain</td>\n",
       "      <td>Icons</td>\n",
       "      <td>92</td>\n",
       "      <td>rare</td>\n",
       "      <td>icon gold</td>\n",
       "      <td>GK</td>\n",
       "      <td>NaN</td>\n",
       "      <td>Icon</td>\n",
       "      <td>Controlled</td>\n",
       "      <td>145000</td>\n",
       "      <td>1</td>\n",
       "      <td>3</td>\n",
       "      <td>M</td>\n",
       "      <td>M</td>\n",
       "      <td>93</td>\n",
       "      <td>89</td>\n",
       "      <td>85</td>\n",
       "      <td>95</td>\n",
       "      <td>60</td>\n",
       "      <td>91</td>\n",
       "      <td>NaN</td>\n",
       "      <td>NaN</td>\n",
       "      <td>NaN</td>\n",
       "      <td>216</td>\n",
       "      <td>513</td>\n",
       "      <td>1355</td>\n",
       "      <td>FIFA 23</td>\n",
       "      <td>2023-04-17</td>\n",
       "    </tr>\n",
       "  </tbody>\n",
       "</table>\n",
       "</div>"
      ],
      "text/plain": [
       "                   name       team country league  rating  rare  \\\n",
       "89   Casillas Fernández  FUT ICONS   Spain  Icons      93  rare   \n",
       "137  Casillas Fernández  FUT ICONS   Spain  Icons      92  rare   \n",
       "\n",
       "               version_color position other_positions               version  \\\n",
       "89   trophy_titans_icon gold       GK             NaN  Trophy Titans - ICON   \n",
       "137                icon gold       GK             NaN                  Icon   \n",
       "\n",
       "       run_type   price  skill  weak_foot attack_rate defense_rate  pace  \\\n",
       "89   Controlled   99000      1          3           M            M    94   \n",
       "137  Controlled  145000      1          3           M            M    93   \n",
       "\n",
       "     shoot  pass  drible  defense  physical body_type  height_cm  weight_kg  \\\n",
       "89      91    87      96       62        92       NaN        NaN        NaN   \n",
       "137     89    85      95       60        91       NaN        NaN        NaN   \n",
       "\n",
       "     popularity  base_stats  in_game_stats game_version updated_at  \n",
       "89         1189         522           1359      FIFA 23 2023-04-17  \n",
       "137         216         513           1355      FIFA 23 2023-04-17  "
      ]
     },
     "execution_count": 20,
     "metadata": {},
     "output_type": "execute_result"
    },
    {
     "data": {
      "application/javascript": "\n            setTimeout(function() {\n                var nbb_cell_id = 20;\n                var nbb_unformatted_code = \"df_players['weight_kg'] = df_players['weight_kg'].fillna(df_players['height_cm'].map(df_player_groupedby_height))\\n\\ndf_players[df_players['weight_kg'].isna()]\";\n                var nbb_formatted_code = \"df_players[\\\"weight_kg\\\"] = df_players[\\\"weight_kg\\\"].fillna(\\n    df_players[\\\"height_cm\\\"].map(df_player_groupedby_height)\\n)\\n\\ndf_players[df_players[\\\"weight_kg\\\"].isna()]\";\n                var nbb_cells = Jupyter.notebook.get_cells();\n                for (var i = 0; i < nbb_cells.length; ++i) {\n                    if (nbb_cells[i].input_prompt_number == nbb_cell_id) {\n                        if (nbb_cells[i].get_text() == nbb_unformatted_code) {\n                             nbb_cells[i].set_text(nbb_formatted_code);\n                        }\n                        break;\n                    }\n                }\n            }, 500);\n            ",
      "text/plain": [
       "<IPython.core.display.Javascript object>"
      ]
     },
     "metadata": {},
     "output_type": "display_data"
    }
   ],
   "source": [
    "df_players['weight_kg'] = df_players['weight_kg'].fillna(df_players['height_cm'].map(df_player_groupedby_height))\n",
    "\n",
    "df_players[df_players['weight_kg'].isna()]"
   ]
  },
  {
   "attachments": {},
   "cell_type": "markdown",
   "metadata": {},
   "source": [
    "Two entries still empty in terms of height weight and body type. The player is Casillas, he had more versions and only this two don't have this information, so we sould add it manually."
   ]
  },
  {
   "cell_type": "code",
   "execution_count": 21,
   "metadata": {},
   "outputs": [
    {
     "data": {
      "application/javascript": "\n            setTimeout(function() {\n                var nbb_cell_id = 21;\n                var nbb_unformatted_code = \"# find all entries with name Casillas\\ndf_casillas = df_players[df_players['name'].str.contains('Casillas')]\\n\\n# get the height mean of all Casillas (not null)   \\nheight_mean = df_casillas[df_casillas['height_cm'].notnull()]['height_cm'].mean()\\n\\n# get the weight mean of all Casillas (not null)\\nweight_mean = df_casillas[df_casillas['weight_kg'].notnull()]['weight_kg'].mean()\\n\\n# get Casillas body_type information   \\nbody_type = df_casillas[df_casillas['body_type'].notnull()]['body_type'].unique()\";\n                var nbb_formatted_code = \"# find all entries with name Casillas\\ndf_casillas = df_players[df_players[\\\"name\\\"].str.contains(\\\"Casillas\\\")]\\n\\n# get the height mean of all Casillas (not null)\\nheight_mean = df_casillas[df_casillas[\\\"height_cm\\\"].notnull()][\\\"height_cm\\\"].mean()\\n\\n# get the weight mean of all Casillas (not null)\\nweight_mean = df_casillas[df_casillas[\\\"weight_kg\\\"].notnull()][\\\"weight_kg\\\"].mean()\\n\\n# get Casillas body_type information\\nbody_type = df_casillas[df_casillas[\\\"body_type\\\"].notnull()][\\\"body_type\\\"].unique()\";\n                var nbb_cells = Jupyter.notebook.get_cells();\n                for (var i = 0; i < nbb_cells.length; ++i) {\n                    if (nbb_cells[i].input_prompt_number == nbb_cell_id) {\n                        if (nbb_cells[i].get_text() == nbb_unformatted_code) {\n                             nbb_cells[i].set_text(nbb_formatted_code);\n                        }\n                        break;\n                    }\n                }\n            }, 500);\n            ",
      "text/plain": [
       "<IPython.core.display.Javascript object>"
      ]
     },
     "metadata": {},
     "output_type": "display_data"
    }
   ],
   "source": [
    "# find all entries with name Casillas\n",
    "df_casillas = df_players[df_players['name'].str.contains('Casillas')]\n",
    "\n",
    "# get the height mean of all Casillas (not null)   \n",
    "height_mean = df_casillas[df_casillas['height_cm'].notnull()]['height_cm'].mean()\n",
    "\n",
    "# get the weight mean of all Casillas (not null)\n",
    "weight_mean = df_casillas[df_casillas['weight_kg'].notnull()]['weight_kg'].mean()\n",
    "\n",
    "# get Casillas body_type information   \n",
    "body_type = df_casillas[df_casillas['body_type'].notnull()]['body_type'].unique()"
   ]
  },
  {
   "cell_type": "code",
   "execution_count": 22,
   "metadata": {},
   "outputs": [
    {
     "data": {
      "text/html": [
       "<div>\n",
       "<style scoped>\n",
       "    .dataframe tbody tr th:only-of-type {\n",
       "        vertical-align: middle;\n",
       "    }\n",
       "\n",
       "    .dataframe tbody tr th {\n",
       "        vertical-align: top;\n",
       "    }\n",
       "\n",
       "    .dataframe thead th {\n",
       "        text-align: right;\n",
       "    }\n",
       "</style>\n",
       "<table border=\"1\" class=\"dataframe\">\n",
       "  <thead>\n",
       "    <tr style=\"text-align: right;\">\n",
       "      <th></th>\n",
       "      <th>name</th>\n",
       "      <th>body_type</th>\n",
       "      <th>height_cm</th>\n",
       "      <th>weight_kg</th>\n",
       "    </tr>\n",
       "  </thead>\n",
       "  <tbody>\n",
       "    <tr>\n",
       "      <th>89</th>\n",
       "      <td>Casillas Fernández</td>\n",
       "      <td>Average</td>\n",
       "      <td>185.0</td>\n",
       "      <td>77.4</td>\n",
       "    </tr>\n",
       "    <tr>\n",
       "      <th>137</th>\n",
       "      <td>Casillas Fernández</td>\n",
       "      <td>Average</td>\n",
       "      <td>185.0</td>\n",
       "      <td>77.4</td>\n",
       "    </tr>\n",
       "    <tr>\n",
       "      <th>234</th>\n",
       "      <td>Iker Casillas</td>\n",
       "      <td>Average</td>\n",
       "      <td>185.0</td>\n",
       "      <td>78.2</td>\n",
       "    </tr>\n",
       "    <tr>\n",
       "      <th>474</th>\n",
       "      <td>Iker Casillas</td>\n",
       "      <td>Average</td>\n",
       "      <td>185.0</td>\n",
       "      <td>84.0</td>\n",
       "    </tr>\n",
       "    <tr>\n",
       "      <th>906</th>\n",
       "      <td>Iker Casillas</td>\n",
       "      <td>Average</td>\n",
       "      <td>185.0</td>\n",
       "      <td>70.0</td>\n",
       "    </tr>\n",
       "  </tbody>\n",
       "</table>\n",
       "</div>"
      ],
      "text/plain": [
       "                   name body_type  height_cm  weight_kg\n",
       "89   Casillas Fernández   Average      185.0       77.4\n",
       "137  Casillas Fernández   Average      185.0       77.4\n",
       "234       Iker Casillas   Average      185.0       78.2\n",
       "474       Iker Casillas   Average      185.0       84.0\n",
       "906       Iker Casillas   Average      185.0       70.0"
      ]
     },
     "execution_count": 22,
     "metadata": {},
     "output_type": "execute_result"
    },
    {
     "data": {
      "application/javascript": "\n            setTimeout(function() {\n                var nbb_cell_id = 22;\n                var nbb_unformatted_code = \"# replace miss values of Casillas with the mean of height and weight\\ndf_players.loc[df_players['name'].str.contains('Casillas'), 'height_cm'] = df_players.loc[df_players['name'].str.contains('Casillas'), 'height_cm'].fillna(height_mean).round(1)\\ndf_players.loc[df_players['name'].str.contains('Casillas'), 'weight_kg'] = df_players.loc[df_players['name'].str.contains('Casillas'), 'weight_kg'].fillna(weight_mean).round(1)\\n\\n# fill na value of Casillas body_type with the most common value\\ndf_players.loc[df_players['name'].str.contains('Casillas'), 'body_type'] = df_players.loc[df_players['name'].str.contains('Casillas'), 'body_type'].fillna(body_type[0])\\n\\n# find all entries with name Casillas\\ndf_players[df_players['name'].str.contains('Casillas')][['name', 'body_type', 'height_cm', 'weight_kg']]\";\n                var nbb_formatted_code = \"# replace miss values of Casillas with the mean of height and weight\\ndf_players.loc[df_players[\\\"name\\\"].str.contains(\\\"Casillas\\\"), \\\"height_cm\\\"] = (\\n    df_players.loc[df_players[\\\"name\\\"].str.contains(\\\"Casillas\\\"), \\\"height_cm\\\"]\\n    .fillna(height_mean)\\n    .round(1)\\n)\\ndf_players.loc[df_players[\\\"name\\\"].str.contains(\\\"Casillas\\\"), \\\"weight_kg\\\"] = (\\n    df_players.loc[df_players[\\\"name\\\"].str.contains(\\\"Casillas\\\"), \\\"weight_kg\\\"]\\n    .fillna(weight_mean)\\n    .round(1)\\n)\\n\\n# fill na value of Casillas body_type with the most common value\\ndf_players.loc[\\n    df_players[\\\"name\\\"].str.contains(\\\"Casillas\\\"), \\\"body_type\\\"\\n] = df_players.loc[df_players[\\\"name\\\"].str.contains(\\\"Casillas\\\"), \\\"body_type\\\"].fillna(\\n    body_type[0]\\n)\\n\\n# find all entries with name Casillas\\ndf_players[df_players[\\\"name\\\"].str.contains(\\\"Casillas\\\")][\\n    [\\\"name\\\", \\\"body_type\\\", \\\"height_cm\\\", \\\"weight_kg\\\"]\\n]\";\n                var nbb_cells = Jupyter.notebook.get_cells();\n                for (var i = 0; i < nbb_cells.length; ++i) {\n                    if (nbb_cells[i].input_prompt_number == nbb_cell_id) {\n                        if (nbb_cells[i].get_text() == nbb_unformatted_code) {\n                             nbb_cells[i].set_text(nbb_formatted_code);\n                        }\n                        break;\n                    }\n                }\n            }, 500);\n            ",
      "text/plain": [
       "<IPython.core.display.Javascript object>"
      ]
     },
     "metadata": {},
     "output_type": "display_data"
    }
   ],
   "source": [
    "# replace miss values of Casillas with the mean of height and weight\n",
    "df_players.loc[df_players['name'].str.contains('Casillas'), 'height_cm'] = df_players.loc[df_players['name'].str.contains('Casillas'), 'height_cm'].fillna(height_mean).round(1)\n",
    "df_players.loc[df_players['name'].str.contains('Casillas'), 'weight_kg'] = df_players.loc[df_players['name'].str.contains('Casillas'), 'weight_kg'].fillna(weight_mean).round(1)\n",
    "\n",
    "# fill na value of Casillas body_type with the most common value\n",
    "df_players.loc[df_players['name'].str.contains('Casillas'), 'body_type'] = df_players.loc[df_players['name'].str.contains('Casillas'), 'body_type'].fillna(body_type[0])\n",
    "\n",
    "# find all entries with name Casillas\n",
    "df_players[df_players['name'].str.contains('Casillas')][['name', 'body_type', 'height_cm', 'weight_kg']]"
   ]
  },
  {
   "cell_type": "code",
   "execution_count": 23,
   "metadata": {},
   "outputs": [
    {
     "data": {
      "text/plain": [
       "name                  0\n",
       "team                  0\n",
       "country               0\n",
       "league                0\n",
       "rating                0\n",
       "rare                  0\n",
       "version_color         0\n",
       "position              0\n",
       "other_positions    1034\n",
       "version             674\n",
       "run_type              0\n",
       "price                 0\n",
       "skill                 0\n",
       "weak_foot             0\n",
       "attack_rate           0\n",
       "defense_rate          0\n",
       "pace                  0\n",
       "shoot                 0\n",
       "pass                  0\n",
       "drible                0\n",
       "defense               0\n",
       "physical              0\n",
       "body_type            15\n",
       "height_cm             0\n",
       "weight_kg             0\n",
       "popularity            0\n",
       "base_stats            0\n",
       "in_game_stats         0\n",
       "game_version          0\n",
       "updated_at            0\n",
       "dtype: int64"
      ]
     },
     "execution_count": 23,
     "metadata": {},
     "output_type": "execute_result"
    },
    {
     "data": {
      "application/javascript": "\n            setTimeout(function() {\n                var nbb_cell_id = 23;\n                var nbb_unformatted_code = \"# show players with null values in any column\\ndf_players.isna().sum()\";\n                var nbb_formatted_code = \"# show players with null values in any column\\ndf_players.isna().sum()\";\n                var nbb_cells = Jupyter.notebook.get_cells();\n                for (var i = 0; i < nbb_cells.length; ++i) {\n                    if (nbb_cells[i].input_prompt_number == nbb_cell_id) {\n                        if (nbb_cells[i].get_text() == nbb_unformatted_code) {\n                             nbb_cells[i].set_text(nbb_formatted_code);\n                        }\n                        break;\n                    }\n                }\n            }, 500);\n            ",
      "text/plain": [
       "<IPython.core.display.Javascript object>"
      ]
     },
     "metadata": {},
     "output_type": "display_data"
    }
   ],
   "source": [
    "# show players with null values in any column\n",
    "df_players.isna().sum()"
   ]
  },
  {
   "attachments": {},
   "cell_type": "markdown",
   "metadata": {},
   "source": [
    "### Deal with 'body_type' column\n",
    "\n",
    "The idea is to use the Height and Weight to define the body type that are missing. We used BMI (body mass index) to define the boundaries.\n",
    "\n",
    "For this column it's ok if we aren't 100% sure about the value."
   ]
  },
  {
   "cell_type": "code",
   "execution_count": 24,
   "metadata": {},
   "outputs": [
    {
     "data": {
      "text/html": [
       "<div>\n",
       "<style scoped>\n",
       "    .dataframe tbody tr th:only-of-type {\n",
       "        vertical-align: middle;\n",
       "    }\n",
       "\n",
       "    .dataframe tbody tr th {\n",
       "        vertical-align: top;\n",
       "    }\n",
       "\n",
       "    .dataframe thead th {\n",
       "        text-align: right;\n",
       "    }\n",
       "</style>\n",
       "<table border=\"1\" class=\"dataframe\">\n",
       "  <thead>\n",
       "    <tr style=\"text-align: right;\">\n",
       "      <th></th>\n",
       "      <th>weight_kg</th>\n",
       "      <th>height_cm</th>\n",
       "      <th>bmi</th>\n",
       "    </tr>\n",
       "  </thead>\n",
       "  <tbody>\n",
       "    <tr>\n",
       "      <th>3280</th>\n",
       "      <td>86.0</td>\n",
       "      <td>187.0</td>\n",
       "      <td>25.0</td>\n",
       "    </tr>\n",
       "    <tr>\n",
       "      <th>1563</th>\n",
       "      <td>83.0</td>\n",
       "      <td>185.0</td>\n",
       "      <td>24.0</td>\n",
       "    </tr>\n",
       "    <tr>\n",
       "      <th>954</th>\n",
       "      <td>76.0</td>\n",
       "      <td>192.0</td>\n",
       "      <td>21.0</td>\n",
       "    </tr>\n",
       "    <tr>\n",
       "      <th>2070</th>\n",
       "      <td>70.0</td>\n",
       "      <td>176.0</td>\n",
       "      <td>23.0</td>\n",
       "    </tr>\n",
       "    <tr>\n",
       "      <th>365</th>\n",
       "      <td>69.0</td>\n",
       "      <td>171.0</td>\n",
       "      <td>24.0</td>\n",
       "    </tr>\n",
       "  </tbody>\n",
       "</table>\n",
       "</div>"
      ],
      "text/plain": [
       "      weight_kg  height_cm   bmi\n",
       "3280       86.0      187.0  25.0\n",
       "1563       83.0      185.0  24.0\n",
       "954        76.0      192.0  21.0\n",
       "2070       70.0      176.0  23.0\n",
       "365        69.0      171.0  24.0"
      ]
     },
     "execution_count": 24,
     "metadata": {},
     "output_type": "execute_result"
    },
    {
     "data": {
      "application/javascript": "\n            setTimeout(function() {\n                var nbb_cell_id = 24;\n                var nbb_unformatted_code = \"#create a new column BMI (body mass index) bmi = weight / (height ** 2)\\ndf_players['bmi'] = (df_players['weight_kg'] / (df_players['height_cm']/100) ** 2).round(0)\\n\\ndf_players[['weight_kg', 'height_cm', 'bmi']].sample(5)\";\n                var nbb_formatted_code = \"# create a new column BMI (body mass index) bmi = weight / (height ** 2)\\ndf_players[\\\"bmi\\\"] = (\\n    df_players[\\\"weight_kg\\\"] / (df_players[\\\"height_cm\\\"] / 100) ** 2\\n).round(0)\\n\\ndf_players[[\\\"weight_kg\\\", \\\"height_cm\\\", \\\"bmi\\\"]].sample(5)\";\n                var nbb_cells = Jupyter.notebook.get_cells();\n                for (var i = 0; i < nbb_cells.length; ++i) {\n                    if (nbb_cells[i].input_prompt_number == nbb_cell_id) {\n                        if (nbb_cells[i].get_text() == nbb_unformatted_code) {\n                             nbb_cells[i].set_text(nbb_formatted_code);\n                        }\n                        break;\n                    }\n                }\n            }, 500);\n            ",
      "text/plain": [
       "<IPython.core.display.Javascript object>"
      ]
     },
     "metadata": {},
     "output_type": "display_data"
    }
   ],
   "source": [
    "#create a new column BMI (body mass index) bmi = weight / (height ** 2)\n",
    "df_players['bmi'] = (df_players['weight_kg'] / (df_players['height_cm']/100) ** 2).round(0)\n",
    "\n",
    "df_players[['weight_kg', 'height_cm', 'bmi']].sample(5)"
   ]
  },
  {
   "cell_type": "code",
   "execution_count": 25,
   "metadata": {},
   "outputs": [
    {
     "data": {
      "text/plain": [
       "{23.0: ' Unique',\n",
       " 22.0: ' Short & Lean',\n",
       " 24.0: ' Ronaldinho',\n",
       " 21.0: ' High & Lean ',\n",
       " 25.0: ' Stocky'}"
      ]
     },
     "execution_count": 25,
     "metadata": {},
     "output_type": "execute_result"
    },
    {
     "data": {
      "application/javascript": "\n            setTimeout(function() {\n                var nbb_cell_id = 25;\n                var nbb_unformatted_code = \"# group by body_type and calculate the mean of bmi\\ndf_player_groupedby_body_type = df_players.groupby('body_type')['bmi'].mean().round(0)\\n\\n# create a dict based on groups\\ndict_bmi_bodytype = {v: k for k, v in df_player_groupedby_body_type.items()}\\n\\ndict_bmi_bodytype\";\n                var nbb_formatted_code = \"# group by body_type and calculate the mean of bmi\\ndf_player_groupedby_body_type = df_players.groupby(\\\"body_type\\\")[\\\"bmi\\\"].mean().round(0)\\n\\n# create a dict based on groups\\ndict_bmi_bodytype = {v: k for k, v in df_player_groupedby_body_type.items()}\\n\\ndict_bmi_bodytype\";\n                var nbb_cells = Jupyter.notebook.get_cells();\n                for (var i = 0; i < nbb_cells.length; ++i) {\n                    if (nbb_cells[i].input_prompt_number == nbb_cell_id) {\n                        if (nbb_cells[i].get_text() == nbb_unformatted_code) {\n                             nbb_cells[i].set_text(nbb_formatted_code);\n                        }\n                        break;\n                    }\n                }\n            }, 500);\n            ",
      "text/plain": [
       "<IPython.core.display.Javascript object>"
      ]
     },
     "metadata": {},
     "output_type": "display_data"
    }
   ],
   "source": [
    "# group by body_type and calculate the mean of bmi\n",
    "df_player_groupedby_body_type = df_players.groupby('body_type')['bmi'].mean().round(0)\n",
    "\n",
    "# create a dict based on groups\n",
    "dict_bmi_bodytype = {v: k for k, v in df_player_groupedby_body_type.items()}\n",
    "\n",
    "dict_bmi_bodytype"
   ]
  },
  {
   "cell_type": "code",
   "execution_count": 26,
   "metadata": {},
   "outputs": [
    {
     "data": {
      "application/javascript": "\n            setTimeout(function() {\n                var nbb_cell_id = 26;\n                var nbb_unformatted_code = \"# fill na values of body_type with dictionary\\ndf_players['body_type'] = df_players['body_type'].fillna(df_players['bmi'].map(dict_bmi_bodytype))\";\n                var nbb_formatted_code = \"# fill na values of body_type with dictionary\\ndf_players[\\\"body_type\\\"] = df_players[\\\"body_type\\\"].fillna(\\n    df_players[\\\"bmi\\\"].map(dict_bmi_bodytype)\\n)\";\n                var nbb_cells = Jupyter.notebook.get_cells();\n                for (var i = 0; i < nbb_cells.length; ++i) {\n                    if (nbb_cells[i].input_prompt_number == nbb_cell_id) {\n                        if (nbb_cells[i].get_text() == nbb_unformatted_code) {\n                             nbb_cells[i].set_text(nbb_formatted_code);\n                        }\n                        break;\n                    }\n                }\n            }, 500);\n            ",
      "text/plain": [
       "<IPython.core.display.Javascript object>"
      ]
     },
     "metadata": {},
     "output_type": "display_data"
    }
   ],
   "source": [
    "# fill na values of body_type with dictionary\n",
    "df_players['body_type'] = df_players['body_type'].fillna(df_players['bmi'].map(dict_bmi_bodytype))"
   ]
  },
  {
   "cell_type": "code",
   "execution_count": 27,
   "metadata": {},
   "outputs": [
    {
     "data": {
      "text/plain": [
       "name                  0\n",
       "team                  0\n",
       "country               0\n",
       "league                0\n",
       "rating                0\n",
       "rare                  0\n",
       "version_color         0\n",
       "position              0\n",
       "other_positions    1034\n",
       "version             674\n",
       "run_type              0\n",
       "price                 0\n",
       "skill                 0\n",
       "weak_foot             0\n",
       "attack_rate           0\n",
       "defense_rate          0\n",
       "pace                  0\n",
       "shoot                 0\n",
       "pass                  0\n",
       "drible                0\n",
       "defense               0\n",
       "physical              0\n",
       "body_type             0\n",
       "height_cm             0\n",
       "weight_kg             0\n",
       "popularity            0\n",
       "base_stats            0\n",
       "in_game_stats         0\n",
       "game_version          0\n",
       "updated_at            0\n",
       "bmi                   0\n",
       "dtype: int64"
      ]
     },
     "execution_count": 27,
     "metadata": {},
     "output_type": "execute_result"
    },
    {
     "data": {
      "application/javascript": "\n            setTimeout(function() {\n                var nbb_cell_id = 27;\n                var nbb_unformatted_code = \"df_players.isna().sum()\";\n                var nbb_formatted_code = \"df_players.isna().sum()\";\n                var nbb_cells = Jupyter.notebook.get_cells();\n                for (var i = 0; i < nbb_cells.length; ++i) {\n                    if (nbb_cells[i].input_prompt_number == nbb_cell_id) {\n                        if (nbb_cells[i].get_text() == nbb_unformatted_code) {\n                             nbb_cells[i].set_text(nbb_formatted_code);\n                        }\n                        break;\n                    }\n                }\n            }, 500);\n            ",
      "text/plain": [
       "<IPython.core.display.Javascript object>"
      ]
     },
     "metadata": {},
     "output_type": "display_data"
    }
   ],
   "source": [
    "df_players.isna().sum()"
   ]
  },
  {
   "attachments": {},
   "cell_type": "markdown",
   "metadata": {},
   "source": [
    "There is some missing values on \"other_positions\" column, but it's not a problem since not every players will have more than one position to play. "
   ]
  },
  {
   "attachments": {},
   "cell_type": "markdown",
   "metadata": {},
   "source": [
    "## Duplicated values\n",
    "Some players has more than one version, and it's fine, but we should understand if some players has the same Name, Team, Rating, Version and Position. "
   ]
  },
  {
   "cell_type": "code",
   "execution_count": 28,
   "metadata": {},
   "outputs": [
    {
     "data": {
      "text/html": [
       "<div>\n",
       "<style scoped>\n",
       "    .dataframe tbody tr th:only-of-type {\n",
       "        vertical-align: middle;\n",
       "    }\n",
       "\n",
       "    .dataframe tbody tr th {\n",
       "        vertical-align: top;\n",
       "    }\n",
       "\n",
       "    .dataframe thead th {\n",
       "        text-align: right;\n",
       "    }\n",
       "</style>\n",
       "<table border=\"1\" class=\"dataframe\">\n",
       "  <thead>\n",
       "    <tr style=\"text-align: right;\">\n",
       "      <th></th>\n",
       "      <th>name</th>\n",
       "      <th>team</th>\n",
       "      <th>country</th>\n",
       "      <th>league</th>\n",
       "      <th>rating</th>\n",
       "      <th>rare</th>\n",
       "      <th>version_color</th>\n",
       "      <th>position</th>\n",
       "      <th>other_positions</th>\n",
       "      <th>version</th>\n",
       "      <th>run_type</th>\n",
       "      <th>price</th>\n",
       "      <th>skill</th>\n",
       "      <th>weak_foot</th>\n",
       "      <th>attack_rate</th>\n",
       "      <th>defense_rate</th>\n",
       "      <th>pace</th>\n",
       "      <th>shoot</th>\n",
       "      <th>pass</th>\n",
       "      <th>drible</th>\n",
       "      <th>defense</th>\n",
       "      <th>physical</th>\n",
       "      <th>body_type</th>\n",
       "      <th>height_cm</th>\n",
       "      <th>weight_kg</th>\n",
       "      <th>popularity</th>\n",
       "      <th>base_stats</th>\n",
       "      <th>in_game_stats</th>\n",
       "      <th>game_version</th>\n",
       "      <th>updated_at</th>\n",
       "      <th>bmi</th>\n",
       "    </tr>\n",
       "  </thead>\n",
       "  <tbody>\n",
       "    <tr>\n",
       "      <th>402</th>\n",
       "      <td>Oleksandr Zinchenko</td>\n",
       "      <td>Arsenal</td>\n",
       "      <td>Ukraine</td>\n",
       "      <td>Premier League</td>\n",
       "      <td>90</td>\n",
       "      <td>rare</td>\n",
       "      <td>fut-bd gold</td>\n",
       "      <td>LB</td>\n",
       "      <td>LWB</td>\n",
       "      <td>FUT Birthday</td>\n",
       "      <td>Controlled</td>\n",
       "      <td>258000</td>\n",
       "      <td>5</td>\n",
       "      <td>4</td>\n",
       "      <td>H</td>\n",
       "      <td>M</td>\n",
       "      <td>90</td>\n",
       "      <td>78</td>\n",
       "      <td>89</td>\n",
       "      <td>90</td>\n",
       "      <td>87</td>\n",
       "      <td>81</td>\n",
       "      <td>Lean</td>\n",
       "      <td>175.0</td>\n",
       "      <td>64.0</td>\n",
       "      <td>903</td>\n",
       "      <td>515</td>\n",
       "      <td>2486</td>\n",
       "      <td>FIFA 23</td>\n",
       "      <td>2023-04-17</td>\n",
       "      <td>21.0</td>\n",
       "    </tr>\n",
       "    <tr>\n",
       "      <th>403</th>\n",
       "      <td>Oleksandr Zinchenko</td>\n",
       "      <td>Arsenal</td>\n",
       "      <td>Ukraine</td>\n",
       "      <td>Premier League</td>\n",
       "      <td>90</td>\n",
       "      <td>rare</td>\n",
       "      <td>fut-bd gold</td>\n",
       "      <td>LB</td>\n",
       "      <td>LWB</td>\n",
       "      <td>FUT Birthday</td>\n",
       "      <td>Controlled</td>\n",
       "      <td>255000</td>\n",
       "      <td>4</td>\n",
       "      <td>5</td>\n",
       "      <td>H</td>\n",
       "      <td>M</td>\n",
       "      <td>90</td>\n",
       "      <td>78</td>\n",
       "      <td>89</td>\n",
       "      <td>90</td>\n",
       "      <td>87</td>\n",
       "      <td>81</td>\n",
       "      <td>Lean</td>\n",
       "      <td>175.0</td>\n",
       "      <td>64.0</td>\n",
       "      <td>621</td>\n",
       "      <td>515</td>\n",
       "      <td>2486</td>\n",
       "      <td>FIFA 23</td>\n",
       "      <td>2023-04-17</td>\n",
       "      <td>21.0</td>\n",
       "    </tr>\n",
       "    <tr>\n",
       "      <th>570</th>\n",
       "      <td>Darwin Núñez</td>\n",
       "      <td>Liverpool</td>\n",
       "      <td>Uruguay</td>\n",
       "      <td>Premier League</td>\n",
       "      <td>89</td>\n",
       "      <td>rare</td>\n",
       "      <td>fut-bd gold</td>\n",
       "      <td>LW</td>\n",
       "      <td>CF,ST</td>\n",
       "      <td>FUT Birthday</td>\n",
       "      <td>Controlled</td>\n",
       "      <td>400000</td>\n",
       "      <td>4</td>\n",
       "      <td>5</td>\n",
       "      <td>H</td>\n",
       "      <td>H</td>\n",
       "      <td>95</td>\n",
       "      <td>88</td>\n",
       "      <td>77</td>\n",
       "      <td>86</td>\n",
       "      <td>48</td>\n",
       "      <td>92</td>\n",
       "      <td>High &amp; Average+</td>\n",
       "      <td>186.0</td>\n",
       "      <td>80.0</td>\n",
       "      <td>1099</td>\n",
       "      <td>486</td>\n",
       "      <td>2305</td>\n",
       "      <td>FIFA 23</td>\n",
       "      <td>2023-04-17</td>\n",
       "      <td>23.0</td>\n",
       "    </tr>\n",
       "    <tr>\n",
       "      <th>571</th>\n",
       "      <td>Darwin Núñez</td>\n",
       "      <td>Liverpool</td>\n",
       "      <td>Uruguay</td>\n",
       "      <td>Premier League</td>\n",
       "      <td>89</td>\n",
       "      <td>rare</td>\n",
       "      <td>fut-bd gold</td>\n",
       "      <td>LW</td>\n",
       "      <td>CF,ST</td>\n",
       "      <td>FUT Birthday</td>\n",
       "      <td>Controlled</td>\n",
       "      <td>415000</td>\n",
       "      <td>5</td>\n",
       "      <td>4</td>\n",
       "      <td>H</td>\n",
       "      <td>H</td>\n",
       "      <td>95</td>\n",
       "      <td>88</td>\n",
       "      <td>77</td>\n",
       "      <td>86</td>\n",
       "      <td>48</td>\n",
       "      <td>92</td>\n",
       "      <td>High &amp; Average+</td>\n",
       "      <td>186.0</td>\n",
       "      <td>80.0</td>\n",
       "      <td>821</td>\n",
       "      <td>486</td>\n",
       "      <td>2305</td>\n",
       "      <td>FIFA 23</td>\n",
       "      <td>2023-04-17</td>\n",
       "      <td>23.0</td>\n",
       "    </tr>\n",
       "    <tr>\n",
       "      <th>665</th>\n",
       "      <td>David Alaba</td>\n",
       "      <td>Real Madrid</td>\n",
       "      <td>Austria</td>\n",
       "      <td>LaLiga Santander</td>\n",
       "      <td>88</td>\n",
       "      <td>rare</td>\n",
       "      <td>halloween gold</td>\n",
       "      <td>CB</td>\n",
       "      <td>NaN</td>\n",
       "      <td>Rulebreakers</td>\n",
       "      <td>Controlled</td>\n",
       "      <td>0</td>\n",
       "      <td>3</td>\n",
       "      <td>4</td>\n",
       "      <td>M</td>\n",
       "      <td>M</td>\n",
       "      <td>81</td>\n",
       "      <td>66</td>\n",
       "      <td>85</td>\n",
       "      <td>83</td>\n",
       "      <td>91</td>\n",
       "      <td>81</td>\n",
       "      <td>Average</td>\n",
       "      <td>180.0</td>\n",
       "      <td>78.0</td>\n",
       "      <td>-773</td>\n",
       "      <td>487</td>\n",
       "      <td>2360</td>\n",
       "      <td>FIFA 23</td>\n",
       "      <td>2023-04-17</td>\n",
       "      <td>24.0</td>\n",
       "    </tr>\n",
       "    <tr>\n",
       "      <th>666</th>\n",
       "      <td>David Alaba</td>\n",
       "      <td>Real Madrid</td>\n",
       "      <td>Austria</td>\n",
       "      <td>LaLiga Santander</td>\n",
       "      <td>88</td>\n",
       "      <td>rare</td>\n",
       "      <td>halloween gold</td>\n",
       "      <td>CB</td>\n",
       "      <td>NaN</td>\n",
       "      <td>Rulebreakers</td>\n",
       "      <td>Controlled</td>\n",
       "      <td>0</td>\n",
       "      <td>3</td>\n",
       "      <td>4</td>\n",
       "      <td>M</td>\n",
       "      <td>M</td>\n",
       "      <td>81</td>\n",
       "      <td>66</td>\n",
       "      <td>85</td>\n",
       "      <td>83</td>\n",
       "      <td>87</td>\n",
       "      <td>87</td>\n",
       "      <td>Average</td>\n",
       "      <td>180.0</td>\n",
       "      <td>78.0</td>\n",
       "      <td>2872</td>\n",
       "      <td>489</td>\n",
       "      <td>2367</td>\n",
       "      <td>FIFA 23</td>\n",
       "      <td>2023-04-17</td>\n",
       "      <td>24.0</td>\n",
       "    </tr>\n",
       "    <tr>\n",
       "      <th>817</th>\n",
       "      <td>Jorge Resurrección</td>\n",
       "      <td>Atlético de Madrid</td>\n",
       "      <td>Spain</td>\n",
       "      <td>LaLiga Santander</td>\n",
       "      <td>88</td>\n",
       "      <td>rare</td>\n",
       "      <td>fut-bd gold</td>\n",
       "      <td>CM</td>\n",
       "      <td>CDM</td>\n",
       "      <td>FUT Birthday</td>\n",
       "      <td>Controlled</td>\n",
       "      <td>35000</td>\n",
       "      <td>4</td>\n",
       "      <td>5</td>\n",
       "      <td>M</td>\n",
       "      <td>M</td>\n",
       "      <td>80</td>\n",
       "      <td>81</td>\n",
       "      <td>90</td>\n",
       "      <td>85</td>\n",
       "      <td>83</td>\n",
       "      <td>84</td>\n",
       "      <td>Average</td>\n",
       "      <td>176.0</td>\n",
       "      <td>77.0</td>\n",
       "      <td>-77</td>\n",
       "      <td>503</td>\n",
       "      <td>2410</td>\n",
       "      <td>FIFA 23</td>\n",
       "      <td>2023-04-17</td>\n",
       "      <td>25.0</td>\n",
       "    </tr>\n",
       "    <tr>\n",
       "      <th>818</th>\n",
       "      <td>Jorge Resurrección</td>\n",
       "      <td>Atlético de Madrid</td>\n",
       "      <td>Spain</td>\n",
       "      <td>LaLiga Santander</td>\n",
       "      <td>88</td>\n",
       "      <td>rare</td>\n",
       "      <td>fut-bd gold</td>\n",
       "      <td>CM</td>\n",
       "      <td>CDM</td>\n",
       "      <td>FUT Birthday</td>\n",
       "      <td>Controlled</td>\n",
       "      <td>34750</td>\n",
       "      <td>5</td>\n",
       "      <td>4</td>\n",
       "      <td>M</td>\n",
       "      <td>M</td>\n",
       "      <td>80</td>\n",
       "      <td>81</td>\n",
       "      <td>90</td>\n",
       "      <td>85</td>\n",
       "      <td>83</td>\n",
       "      <td>84</td>\n",
       "      <td>Average</td>\n",
       "      <td>176.0</td>\n",
       "      <td>77.0</td>\n",
       "      <td>200</td>\n",
       "      <td>503</td>\n",
       "      <td>2410</td>\n",
       "      <td>FIFA 23</td>\n",
       "      <td>2023-04-17</td>\n",
       "      <td>25.0</td>\n",
       "    </tr>\n",
       "    <tr>\n",
       "      <th>828</th>\n",
       "      <td>Mattéo Guendouzi</td>\n",
       "      <td>OM</td>\n",
       "      <td>France</td>\n",
       "      <td>Ligue 1</td>\n",
       "      <td>88</td>\n",
       "      <td>rare</td>\n",
       "      <td>fut-bd gold</td>\n",
       "      <td>CM</td>\n",
       "      <td>CDM</td>\n",
       "      <td>FUT Birthday</td>\n",
       "      <td>Controlled</td>\n",
       "      <td>378000</td>\n",
       "      <td>5</td>\n",
       "      <td>4</td>\n",
       "      <td>M</td>\n",
       "      <td>H</td>\n",
       "      <td>83</td>\n",
       "      <td>82</td>\n",
       "      <td>87</td>\n",
       "      <td>84</td>\n",
       "      <td>86</td>\n",
       "      <td>89</td>\n",
       "      <td>High &amp; Average+</td>\n",
       "      <td>185.0</td>\n",
       "      <td>68.0</td>\n",
       "      <td>752</td>\n",
       "      <td>511</td>\n",
       "      <td>2445</td>\n",
       "      <td>FIFA 23</td>\n",
       "      <td>2023-04-17</td>\n",
       "      <td>20.0</td>\n",
       "    </tr>\n",
       "    <tr>\n",
       "      <th>829</th>\n",
       "      <td>Mattéo Guendouzi</td>\n",
       "      <td>OM</td>\n",
       "      <td>France</td>\n",
       "      <td>Ligue 1</td>\n",
       "      <td>88</td>\n",
       "      <td>rare</td>\n",
       "      <td>fut-bd gold</td>\n",
       "      <td>CM</td>\n",
       "      <td>CDM</td>\n",
       "      <td>FUT Birthday</td>\n",
       "      <td>Controlled</td>\n",
       "      <td>357000</td>\n",
       "      <td>4</td>\n",
       "      <td>5</td>\n",
       "      <td>M</td>\n",
       "      <td>H</td>\n",
       "      <td>83</td>\n",
       "      <td>82</td>\n",
       "      <td>87</td>\n",
       "      <td>84</td>\n",
       "      <td>86</td>\n",
       "      <td>89</td>\n",
       "      <td>High &amp; Average+</td>\n",
       "      <td>185.0</td>\n",
       "      <td>68.0</td>\n",
       "      <td>540</td>\n",
       "      <td>511</td>\n",
       "      <td>2445</td>\n",
       "      <td>FIFA 23</td>\n",
       "      <td>2023-04-17</td>\n",
       "      <td>20.0</td>\n",
       "    </tr>\n",
       "    <tr>\n",
       "      <th>1113</th>\n",
       "      <td>Matteo Pessina</td>\n",
       "      <td>AC Monza</td>\n",
       "      <td>Italy</td>\n",
       "      <td>Serie A TIM</td>\n",
       "      <td>87</td>\n",
       "      <td>rare</td>\n",
       "      <td>fut-bd gold</td>\n",
       "      <td>CAM</td>\n",
       "      <td>CM,CF</td>\n",
       "      <td>FUT Birthday</td>\n",
       "      <td>Controlled</td>\n",
       "      <td>20750</td>\n",
       "      <td>4</td>\n",
       "      <td>5</td>\n",
       "      <td>M</td>\n",
       "      <td>M</td>\n",
       "      <td>86</td>\n",
       "      <td>84</td>\n",
       "      <td>86</td>\n",
       "      <td>88</td>\n",
       "      <td>81</td>\n",
       "      <td>81</td>\n",
       "      <td>Lean</td>\n",
       "      <td>183.0</td>\n",
       "      <td>75.0</td>\n",
       "      <td>151</td>\n",
       "      <td>506</td>\n",
       "      <td>2367</td>\n",
       "      <td>FIFA 23</td>\n",
       "      <td>2023-04-17</td>\n",
       "      <td>22.0</td>\n",
       "    </tr>\n",
       "    <tr>\n",
       "      <th>1115</th>\n",
       "      <td>Matteo Pessina</td>\n",
       "      <td>AC Monza</td>\n",
       "      <td>Italy</td>\n",
       "      <td>Serie A TIM</td>\n",
       "      <td>87</td>\n",
       "      <td>rare</td>\n",
       "      <td>fut-bd gold</td>\n",
       "      <td>CAM</td>\n",
       "      <td>CM,CF</td>\n",
       "      <td>FUT Birthday</td>\n",
       "      <td>Controlled</td>\n",
       "      <td>20500</td>\n",
       "      <td>5</td>\n",
       "      <td>4</td>\n",
       "      <td>M</td>\n",
       "      <td>M</td>\n",
       "      <td>86</td>\n",
       "      <td>84</td>\n",
       "      <td>86</td>\n",
       "      <td>88</td>\n",
       "      <td>81</td>\n",
       "      <td>81</td>\n",
       "      <td>Lean</td>\n",
       "      <td>183.0</td>\n",
       "      <td>75.0</td>\n",
       "      <td>183</td>\n",
       "      <td>506</td>\n",
       "      <td>2367</td>\n",
       "      <td>FIFA 23</td>\n",
       "      <td>2023-04-17</td>\n",
       "      <td>22.0</td>\n",
       "    </tr>\n",
       "    <tr>\n",
       "      <th>1217</th>\n",
       "      <td>Sheraldo Becker</td>\n",
       "      <td>Union Berlin</td>\n",
       "      <td>Suriname</td>\n",
       "      <td>Bundesliga</td>\n",
       "      <td>86</td>\n",
       "      <td>rare</td>\n",
       "      <td>halloween gold</td>\n",
       "      <td>ST</td>\n",
       "      <td>RM,CF</td>\n",
       "      <td>Rulebreakers SBC</td>\n",
       "      <td>Lengthy</td>\n",
       "      <td>0</td>\n",
       "      <td>3</td>\n",
       "      <td>4</td>\n",
       "      <td>M</td>\n",
       "      <td>L</td>\n",
       "      <td>96</td>\n",
       "      <td>85</td>\n",
       "      <td>82</td>\n",
       "      <td>75</td>\n",
       "      <td>50</td>\n",
       "      <td>85</td>\n",
       "      <td>Average</td>\n",
       "      <td>180.0</td>\n",
       "      <td>77.0</td>\n",
       "      <td>-550</td>\n",
       "      <td>473</td>\n",
       "      <td>2217</td>\n",
       "      <td>FIFA 23</td>\n",
       "      <td>2023-04-17</td>\n",
       "      <td>24.0</td>\n",
       "    </tr>\n",
       "    <tr>\n",
       "      <th>1218</th>\n",
       "      <td>Sheraldo Becker</td>\n",
       "      <td>Union Berlin</td>\n",
       "      <td>Suriname</td>\n",
       "      <td>Bundesliga</td>\n",
       "      <td>86</td>\n",
       "      <td>rare</td>\n",
       "      <td>halloween gold</td>\n",
       "      <td>ST</td>\n",
       "      <td>RM,CF</td>\n",
       "      <td>Rulebreakers SBC</td>\n",
       "      <td>Controlled</td>\n",
       "      <td>0</td>\n",
       "      <td>4</td>\n",
       "      <td>3</td>\n",
       "      <td>M</td>\n",
       "      <td>L</td>\n",
       "      <td>92</td>\n",
       "      <td>85</td>\n",
       "      <td>78</td>\n",
       "      <td>87</td>\n",
       "      <td>45</td>\n",
       "      <td>88</td>\n",
       "      <td>Average</td>\n",
       "      <td>180.0</td>\n",
       "      <td>77.0</td>\n",
       "      <td>2193</td>\n",
       "      <td>475</td>\n",
       "      <td>2235</td>\n",
       "      <td>FIFA 23</td>\n",
       "      <td>2023-04-17</td>\n",
       "      <td>24.0</td>\n",
       "    </tr>\n",
       "    <tr>\n",
       "      <th>1376</th>\n",
       "      <td>Joakim Mæhle</td>\n",
       "      <td>Atalanta BC</td>\n",
       "      <td>Denmark</td>\n",
       "      <td>Serie A TIM</td>\n",
       "      <td>86</td>\n",
       "      <td>rare</td>\n",
       "      <td>fut-bd gold</td>\n",
       "      <td>RWB</td>\n",
       "      <td>RB,RM,LM</td>\n",
       "      <td>FUT Birthday</td>\n",
       "      <td>Controlled</td>\n",
       "      <td>17500</td>\n",
       "      <td>5</td>\n",
       "      <td>4</td>\n",
       "      <td>M</td>\n",
       "      <td>M</td>\n",
       "      <td>94</td>\n",
       "      <td>70</td>\n",
       "      <td>82</td>\n",
       "      <td>85</td>\n",
       "      <td>82</td>\n",
       "      <td>86</td>\n",
       "      <td>High &amp; Average</td>\n",
       "      <td>185.0</td>\n",
       "      <td>79.0</td>\n",
       "      <td>202</td>\n",
       "      <td>499</td>\n",
       "      <td>2342</td>\n",
       "      <td>FIFA 23</td>\n",
       "      <td>2023-04-17</td>\n",
       "      <td>23.0</td>\n",
       "    </tr>\n",
       "    <tr>\n",
       "      <th>1377</th>\n",
       "      <td>Joakim Mæhle</td>\n",
       "      <td>Atalanta BC</td>\n",
       "      <td>Denmark</td>\n",
       "      <td>Serie A TIM</td>\n",
       "      <td>86</td>\n",
       "      <td>rare</td>\n",
       "      <td>fut-bd gold</td>\n",
       "      <td>RWB</td>\n",
       "      <td>RB,RM,LM</td>\n",
       "      <td>FUT Birthday</td>\n",
       "      <td>Controlled</td>\n",
       "      <td>17500</td>\n",
       "      <td>4</td>\n",
       "      <td>5</td>\n",
       "      <td>M</td>\n",
       "      <td>M</td>\n",
       "      <td>94</td>\n",
       "      <td>70</td>\n",
       "      <td>82</td>\n",
       "      <td>85</td>\n",
       "      <td>82</td>\n",
       "      <td>86</td>\n",
       "      <td>High &amp; Average</td>\n",
       "      <td>185.0</td>\n",
       "      <td>79.0</td>\n",
       "      <td>138</td>\n",
       "      <td>499</td>\n",
       "      <td>2342</td>\n",
       "      <td>FIFA 23</td>\n",
       "      <td>2023-04-17</td>\n",
       "      <td>23.0</td>\n",
       "    </tr>\n",
       "    <tr>\n",
       "      <th>3307</th>\n",
       "      <td>Corozo</td>\n",
       "      <td>Ecuador</td>\n",
       "      <td>Ecuador</td>\n",
       "      <td>World Cup</td>\n",
       "      <td>78</td>\n",
       "      <td>rare</td>\n",
       "      <td>wc_player gold</td>\n",
       "      <td>LM</td>\n",
       "      <td>LW</td>\n",
       "      <td>World Cup Player</td>\n",
       "      <td>Controlled</td>\n",
       "      <td>0</td>\n",
       "      <td>3</td>\n",
       "      <td>3</td>\n",
       "      <td>H</td>\n",
       "      <td>M</td>\n",
       "      <td>92</td>\n",
       "      <td>73</td>\n",
       "      <td>67</td>\n",
       "      <td>80</td>\n",
       "      <td>37</td>\n",
       "      <td>82</td>\n",
       "      <td>Lean</td>\n",
       "      <td>180.0</td>\n",
       "      <td>66.0</td>\n",
       "      <td>2</td>\n",
       "      <td>431</td>\n",
       "      <td>1954</td>\n",
       "      <td>FIFA 23</td>\n",
       "      <td>2023-04-17</td>\n",
       "      <td>20.0</td>\n",
       "    </tr>\n",
       "    <tr>\n",
       "      <th>3322</th>\n",
       "      <td>Corozo</td>\n",
       "      <td>Ecuador</td>\n",
       "      <td>Ecuador</td>\n",
       "      <td>World Cup</td>\n",
       "      <td>78</td>\n",
       "      <td>rare</td>\n",
       "      <td>wc_player gold</td>\n",
       "      <td>LM</td>\n",
       "      <td>RM,LW</td>\n",
       "      <td>World Cup Player</td>\n",
       "      <td>Explosive</td>\n",
       "      <td>0</td>\n",
       "      <td>4</td>\n",
       "      <td>4</td>\n",
       "      <td>H</td>\n",
       "      <td>M</td>\n",
       "      <td>87</td>\n",
       "      <td>70</td>\n",
       "      <td>70</td>\n",
       "      <td>78</td>\n",
       "      <td>51</td>\n",
       "      <td>68</td>\n",
       "      <td>Lean</td>\n",
       "      <td>176.0</td>\n",
       "      <td>63.0</td>\n",
       "      <td>0</td>\n",
       "      <td>424</td>\n",
       "      <td>1989</td>\n",
       "      <td>FIFA 23</td>\n",
       "      <td>2023-04-17</td>\n",
       "      <td>20.0</td>\n",
       "    </tr>\n",
       "  </tbody>\n",
       "</table>\n",
       "</div>"
      ],
      "text/plain": [
       "                     name                team   country            league  \\\n",
       "402   Oleksandr Zinchenko             Arsenal   Ukraine    Premier League   \n",
       "403   Oleksandr Zinchenko             Arsenal   Ukraine    Premier League   \n",
       "570          Darwin Núñez           Liverpool   Uruguay    Premier League   \n",
       "571          Darwin Núñez           Liverpool   Uruguay    Premier League   \n",
       "665           David Alaba         Real Madrid   Austria  LaLiga Santander   \n",
       "666           David Alaba         Real Madrid   Austria  LaLiga Santander   \n",
       "817    Jorge Resurrección  Atlético de Madrid     Spain  LaLiga Santander   \n",
       "818    Jorge Resurrección  Atlético de Madrid     Spain  LaLiga Santander   \n",
       "828      Mattéo Guendouzi                  OM    France           Ligue 1   \n",
       "829      Mattéo Guendouzi                  OM    France           Ligue 1   \n",
       "1113       Matteo Pessina            AC Monza     Italy       Serie A TIM   \n",
       "1115       Matteo Pessina            AC Monza     Italy       Serie A TIM   \n",
       "1217      Sheraldo Becker        Union Berlin  Suriname        Bundesliga   \n",
       "1218      Sheraldo Becker        Union Berlin  Suriname        Bundesliga   \n",
       "1376         Joakim Mæhle         Atalanta BC   Denmark       Serie A TIM   \n",
       "1377         Joakim Mæhle         Atalanta BC   Denmark       Serie A TIM   \n",
       "3307               Corozo             Ecuador   Ecuador         World Cup   \n",
       "3322               Corozo             Ecuador   Ecuador         World Cup   \n",
       "\n",
       "      rating  rare   version_color position other_positions           version  \\\n",
       "402       90  rare     fut-bd gold       LB             LWB      FUT Birthday   \n",
       "403       90  rare     fut-bd gold       LB             LWB      FUT Birthday   \n",
       "570       89  rare     fut-bd gold       LW           CF,ST      FUT Birthday   \n",
       "571       89  rare     fut-bd gold       LW           CF,ST      FUT Birthday   \n",
       "665       88  rare  halloween gold       CB             NaN      Rulebreakers   \n",
       "666       88  rare  halloween gold       CB             NaN      Rulebreakers   \n",
       "817       88  rare     fut-bd gold       CM             CDM      FUT Birthday   \n",
       "818       88  rare     fut-bd gold       CM             CDM      FUT Birthday   \n",
       "828       88  rare     fut-bd gold       CM             CDM      FUT Birthday   \n",
       "829       88  rare     fut-bd gold       CM             CDM      FUT Birthday   \n",
       "1113      87  rare     fut-bd gold      CAM           CM,CF      FUT Birthday   \n",
       "1115      87  rare     fut-bd gold      CAM           CM,CF      FUT Birthday   \n",
       "1217      86  rare  halloween gold       ST           RM,CF  Rulebreakers SBC   \n",
       "1218      86  rare  halloween gold       ST           RM,CF  Rulebreakers SBC   \n",
       "1376      86  rare     fut-bd gold      RWB        RB,RM,LM      FUT Birthday   \n",
       "1377      86  rare     fut-bd gold      RWB        RB,RM,LM      FUT Birthday   \n",
       "3307      78  rare  wc_player gold       LM              LW  World Cup Player   \n",
       "3322      78  rare  wc_player gold       LM           RM,LW  World Cup Player   \n",
       "\n",
       "        run_type   price  skill  weak_foot attack_rate defense_rate  pace  \\\n",
       "402   Controlled  258000      5          4           H            M    90   \n",
       "403   Controlled  255000      4          5           H            M    90   \n",
       "570   Controlled  400000      4          5           H            H    95   \n",
       "571   Controlled  415000      5          4           H            H    95   \n",
       "665   Controlled       0      3          4           M            M    81   \n",
       "666   Controlled       0      3          4           M            M    81   \n",
       "817   Controlled   35000      4          5           M            M    80   \n",
       "818   Controlled   34750      5          4           M            M    80   \n",
       "828   Controlled  378000      5          4           M            H    83   \n",
       "829   Controlled  357000      4          5           M            H    83   \n",
       "1113  Controlled   20750      4          5           M            M    86   \n",
       "1115  Controlled   20500      5          4           M            M    86   \n",
       "1217     Lengthy       0      3          4           M            L    96   \n",
       "1218  Controlled       0      4          3           M            L    92   \n",
       "1376  Controlled   17500      5          4           M            M    94   \n",
       "1377  Controlled   17500      4          5           M            M    94   \n",
       "3307  Controlled       0      3          3           H            M    92   \n",
       "3322   Explosive       0      4          4           H            M    87   \n",
       "\n",
       "      shoot  pass  drible  defense  physical         body_type  height_cm  \\\n",
       "402      78    89      90       87        81              Lean      175.0   \n",
       "403      78    89      90       87        81              Lean      175.0   \n",
       "570      88    77      86       48        92   High & Average+      186.0   \n",
       "571      88    77      86       48        92   High & Average+      186.0   \n",
       "665      66    85      83       91        81           Average      180.0   \n",
       "666      66    85      83       87        87           Average      180.0   \n",
       "817      81    90      85       83        84           Average      176.0   \n",
       "818      81    90      85       83        84           Average      176.0   \n",
       "828      82    87      84       86        89   High & Average+      185.0   \n",
       "829      82    87      84       86        89   High & Average+      185.0   \n",
       "1113     84    86      88       81        81              Lean      183.0   \n",
       "1115     84    86      88       81        81              Lean      183.0   \n",
       "1217     85    82      75       50        85           Average      180.0   \n",
       "1218     85    78      87       45        88           Average      180.0   \n",
       "1376     70    82      85       82        86    High & Average      185.0   \n",
       "1377     70    82      85       82        86    High & Average      185.0   \n",
       "3307     73    67      80       37        82              Lean      180.0   \n",
       "3322     70    70      78       51        68              Lean      176.0   \n",
       "\n",
       "      weight_kg  popularity  base_stats  in_game_stats game_version  \\\n",
       "402        64.0         903         515           2486      FIFA 23   \n",
       "403        64.0         621         515           2486      FIFA 23   \n",
       "570        80.0        1099         486           2305      FIFA 23   \n",
       "571        80.0         821         486           2305      FIFA 23   \n",
       "665        78.0        -773         487           2360      FIFA 23   \n",
       "666        78.0        2872         489           2367      FIFA 23   \n",
       "817        77.0         -77         503           2410      FIFA 23   \n",
       "818        77.0         200         503           2410      FIFA 23   \n",
       "828        68.0         752         511           2445      FIFA 23   \n",
       "829        68.0         540         511           2445      FIFA 23   \n",
       "1113       75.0         151         506           2367      FIFA 23   \n",
       "1115       75.0         183         506           2367      FIFA 23   \n",
       "1217       77.0        -550         473           2217      FIFA 23   \n",
       "1218       77.0        2193         475           2235      FIFA 23   \n",
       "1376       79.0         202         499           2342      FIFA 23   \n",
       "1377       79.0         138         499           2342      FIFA 23   \n",
       "3307       66.0           2         431           1954      FIFA 23   \n",
       "3322       63.0           0         424           1989      FIFA 23   \n",
       "\n",
       "     updated_at   bmi  \n",
       "402  2023-04-17  21.0  \n",
       "403  2023-04-17  21.0  \n",
       "570  2023-04-17  23.0  \n",
       "571  2023-04-17  23.0  \n",
       "665  2023-04-17  24.0  \n",
       "666  2023-04-17  24.0  \n",
       "817  2023-04-17  25.0  \n",
       "818  2023-04-17  25.0  \n",
       "828  2023-04-17  20.0  \n",
       "829  2023-04-17  20.0  \n",
       "1113 2023-04-17  22.0  \n",
       "1115 2023-04-17  22.0  \n",
       "1217 2023-04-17  24.0  \n",
       "1218 2023-04-17  24.0  \n",
       "1376 2023-04-17  23.0  \n",
       "1377 2023-04-17  23.0  \n",
       "3307 2023-04-17  20.0  \n",
       "3322 2023-04-17  20.0  "
      ]
     },
     "execution_count": 28,
     "metadata": {},
     "output_type": "execute_result"
    },
    {
     "data": {
      "application/javascript": "\n            setTimeout(function() {\n                var nbb_cell_id = 28;\n                var nbb_unformatted_code = \"df_players.loc[df_players.duplicated(subset=['name',\\n                                             'team', \\n                                            'rating',\\n                                            'league',\\n                                            'version',\\n                                            'position'], keep=False)]\";\n                var nbb_formatted_code = \"df_players.loc[\\n    df_players.duplicated(\\n        subset=[\\\"name\\\", \\\"team\\\", \\\"rating\\\", \\\"league\\\", \\\"version\\\", \\\"position\\\"], keep=False\\n    )\\n]\";\n                var nbb_cells = Jupyter.notebook.get_cells();\n                for (var i = 0; i < nbb_cells.length; ++i) {\n                    if (nbb_cells[i].input_prompt_number == nbb_cell_id) {\n                        if (nbb_cells[i].get_text() == nbb_unformatted_code) {\n                             nbb_cells[i].set_text(nbb_formatted_code);\n                        }\n                        break;\n                    }\n                }\n            }, 500);\n            ",
      "text/plain": [
       "<IPython.core.display.Javascript object>"
      ]
     },
     "metadata": {},
     "output_type": "display_data"
    }
   ],
   "source": [
    "df_players.loc[df_players.duplicated(subset=['name',\n",
    "                                             'team', \n",
    "                                            'rating',\n",
    "                                            'league',\n",
    "                                            'version',\n",
    "                                            'position'], keep=False)]"
   ]
  },
  {
   "cell_type": "code",
   "execution_count": 29,
   "metadata": {},
   "outputs": [
    {
     "data": {
      "text/plain": [
       "(4011, 31)"
      ]
     },
     "execution_count": 29,
     "metadata": {},
     "output_type": "execute_result"
    },
    {
     "data": {
      "application/javascript": "\n            setTimeout(function() {\n                var nbb_cell_id = 29;\n                var nbb_unformatted_code = \"# drop duplicated values\\ndf_players.drop_duplicates(subset=['name',\\n                                            'team', \\n                                            'rating',\\n                                            'league',\\n                                            'version',\\n                                            'position'], \\n                                            keep='first', inplace=True)\\n\\ndf_players.shape\";\n                var nbb_formatted_code = \"# drop duplicated values\\ndf_players.drop_duplicates(\\n    subset=[\\\"name\\\", \\\"team\\\", \\\"rating\\\", \\\"league\\\", \\\"version\\\", \\\"position\\\"],\\n    keep=\\\"first\\\",\\n    inplace=True,\\n)\\n\\ndf_players.shape\";\n                var nbb_cells = Jupyter.notebook.get_cells();\n                for (var i = 0; i < nbb_cells.length; ++i) {\n                    if (nbb_cells[i].input_prompt_number == nbb_cell_id) {\n                        if (nbb_cells[i].get_text() == nbb_unformatted_code) {\n                             nbb_cells[i].set_text(nbb_formatted_code);\n                        }\n                        break;\n                    }\n                }\n            }, 500);\n            ",
      "text/plain": [
       "<IPython.core.display.Javascript object>"
      ]
     },
     "metadata": {},
     "output_type": "display_data"
    }
   ],
   "source": [
    "# drop duplicated values\n",
    "df_players.drop_duplicates(subset=['name',\n",
    "                                            'team', \n",
    "                                            'rating',\n",
    "                                            'league',\n",
    "                                            'version',\n",
    "                                            'position'], \n",
    "                                            keep='first', inplace=True)\n",
    "\n",
    "df_players.shape"
   ]
  },
  {
   "attachments": {},
   "cell_type": "markdown",
   "metadata": {},
   "source": [
    "## Remove useless data\n",
    "\n",
    "Some entries are useless to the analysis so we sould remove it."
   ]
  },
  {
   "attachments": {},
   "cell_type": "markdown",
   "metadata": {},
   "source": [
    "### World Cup players\n",
    "For the purposes of this analysis, we will exclude two special versions of player cards: \"World Cup Player\","
   ]
  },
  {
   "cell_type": "code",
   "execution_count": 30,
   "metadata": {},
   "outputs": [
    {
     "data": {
      "text/plain": [
       "(2899, 31)"
      ]
     },
     "execution_count": 30,
     "metadata": {},
     "output_type": "execute_result"
    },
    {
     "data": {
      "application/javascript": "\n            setTimeout(function() {\n                var nbb_cell_id = 30;\n                var nbb_unformatted_code = \"df_players = df_players.query('version != \\\"World Cup Player\\\"')\\ndf_players.shape\";\n                var nbb_formatted_code = \"df_players = df_players.query('version != \\\"World Cup Player\\\"')\\ndf_players.shape\";\n                var nbb_cells = Jupyter.notebook.get_cells();\n                for (var i = 0; i < nbb_cells.length; ++i) {\n                    if (nbb_cells[i].input_prompt_number == nbb_cell_id) {\n                        if (nbb_cells[i].get_text() == nbb_unformatted_code) {\n                             nbb_cells[i].set_text(nbb_formatted_code);\n                        }\n                        break;\n                    }\n                }\n            }, 500);\n            ",
      "text/plain": [
       "<IPython.core.display.Javascript object>"
      ]
     },
     "metadata": {},
     "output_type": "display_data"
    }
   ],
   "source": [
    "df_players = df_players.query('version != \"World Cup Player\"')\n",
    "df_players.shape"
   ]
  },
  {
   "attachments": {},
   "cell_type": "markdown",
   "metadata": {},
   "source": [
    "### Keep players with high rating\n",
    "Choosing players who have a rating of 83 or higher. For those below 83 the price is almost the same"
   ]
  },
  {
   "cell_type": "code",
   "execution_count": 31,
   "metadata": {},
   "outputs": [
    {
     "data": {
      "text/plain": [
       "(1722, 31)"
      ]
     },
     "execution_count": 31,
     "metadata": {},
     "output_type": "execute_result"
    },
    {
     "data": {
      "application/javascript": "\n            setTimeout(function() {\n                var nbb_cell_id = 31;\n                var nbb_unformatted_code = \"df_players = df_players.loc[df_players['rating'] >= 84]\\\\\\n                                .reset_index(drop=True)\\\\\\n                                .copy()\\n\\ndf_players.shape\";\n                var nbb_formatted_code = \"df_players = df_players.loc[df_players[\\\"rating\\\"] >= 84].reset_index(drop=True).copy()\\n\\ndf_players.shape\";\n                var nbb_cells = Jupyter.notebook.get_cells();\n                for (var i = 0; i < nbb_cells.length; ++i) {\n                    if (nbb_cells[i].input_prompt_number == nbb_cell_id) {\n                        if (nbb_cells[i].get_text() == nbb_unformatted_code) {\n                             nbb_cells[i].set_text(nbb_formatted_code);\n                        }\n                        break;\n                    }\n                }\n            }, 500);\n            ",
      "text/plain": [
       "<IPython.core.display.Javascript object>"
      ]
     },
     "metadata": {},
     "output_type": "display_data"
    }
   ],
   "source": [
    "df_players = df_players.loc[df_players['rating'] >= 84]\\\n",
    "                                .reset_index(drop=True)\\\n",
    "                                .copy()\n",
    "\n",
    "df_players.shape"
   ]
  },
  {
   "attachments": {},
   "cell_type": "markdown",
   "metadata": {},
   "source": [
    "### Players with 0 price\n",
    "Some players doen't have a price, so we need to remove then to don't misleading the analysis."
   ]
  },
  {
   "cell_type": "code",
   "execution_count": 32,
   "metadata": {},
   "outputs": [
    {
     "data": {
      "text/plain": [
       "(1579, 31)"
      ]
     },
     "execution_count": 32,
     "metadata": {},
     "output_type": "execute_result"
    },
    {
     "data": {
      "application/javascript": "\n            setTimeout(function() {\n                var nbb_cell_id = 32;\n                var nbb_unformatted_code = \"# remove players with price == 0\\ndf_players = df_players[df_players['price'] != 0].reset_index(drop=True).copy()\\n\\ndf_players.shape\";\n                var nbb_formatted_code = \"# remove players with price == 0\\ndf_players = df_players[df_players[\\\"price\\\"] != 0].reset_index(drop=True).copy()\\n\\ndf_players.shape\";\n                var nbb_cells = Jupyter.notebook.get_cells();\n                for (var i = 0; i < nbb_cells.length; ++i) {\n                    if (nbb_cells[i].input_prompt_number == nbb_cell_id) {\n                        if (nbb_cells[i].get_text() == nbb_unformatted_code) {\n                             nbb_cells[i].set_text(nbb_formatted_code);\n                        }\n                        break;\n                    }\n                }\n            }, 500);\n            ",
      "text/plain": [
       "<IPython.core.display.Javascript object>"
      ]
     },
     "metadata": {},
     "output_type": "display_data"
    }
   ],
   "source": [
    "# remove players with price == 0\n",
    "df_players = df_players[df_players['price'] != 0].reset_index(drop=True).copy()\n",
    "\n",
    "df_players.shape"
   ]
  },
  {
   "attachments": {},
   "cell_type": "markdown",
   "metadata": {},
   "source": [
    "## Step 3 - Feature Understanding"
   ]
  },
  {
   "attachments": {},
   "cell_type": "markdown",
   "metadata": {},
   "source": [
    "- Fastest player by position\n",
    "- Best deal (cheapest with good ingame stats)\n",
    "- IMC dos jogadores\n",
    "- Strongest players by position\n",
    "- Overpriced by league\n",
    "- More expensive league\n",
    "- Fastest nation\n",
    "- Expensive club\n",
    "- league with players from another country"
   ]
  },
  {
   "attachments": {},
   "cell_type": "markdown",
   "metadata": {},
   "source": [
    "### Fastest players by position\n",
    "\n",
    "Pace is one of the most important attributes for a player, what if you build a team with the fastest players of game? And who much would cost to build this team?"
   ]
  },
  {
   "cell_type": "code",
   "execution_count": 33,
   "metadata": {},
   "outputs": [
    {
     "data": {
      "application/javascript": "\n            setTimeout(function() {\n                var nbb_cell_id = 33;\n                var nbb_unformatted_code = \"# group by position and pace and calculate the mean of price\\ndf_fastest_players = df_players.groupby(['position', 'pace'])['name'].max().reset_index()\\n\\n# drop na values\\ndf_fastest_players.dropna(inplace=True)\\n\\n# drop duplicated values to find the last player with the highest pace\\ndf_fastest_players = df_fastest_players.drop_duplicates(subset=['position'], keep='last')\\n\\n# merge to get name and price information\\ndf_fastest_players_merged = pd.merge(df_fastest_players, df_players, how='left', left_index=True, right_index=True)\\n\\n# select columns of interest\\ndf_fastest_players = df_fastest_players_merged[['position_x', 'pace_x', 'name_x', 'price']]\";\n                var nbb_formatted_code = \"# group by position and pace and calculate the mean of price\\ndf_fastest_players = (\\n    df_players.groupby([\\\"position\\\", \\\"pace\\\"])[\\\"name\\\"].max().reset_index()\\n)\\n\\n# drop na values\\ndf_fastest_players.dropna(inplace=True)\\n\\n# drop duplicated values to find the last player with the highest pace\\ndf_fastest_players = df_fastest_players.drop_duplicates(\\n    subset=[\\\"position\\\"], keep=\\\"last\\\"\\n)\\n\\n# merge to get name and price information\\ndf_fastest_players_merged = pd.merge(\\n    df_fastest_players, df_players, how=\\\"left\\\", left_index=True, right_index=True\\n)\\n\\n# select columns of interest\\ndf_fastest_players = df_fastest_players_merged[\\n    [\\\"position_x\\\", \\\"pace_x\\\", \\\"name_x\\\", \\\"price\\\"]\\n]\";\n                var nbb_cells = Jupyter.notebook.get_cells();\n                for (var i = 0; i < nbb_cells.length; ++i) {\n                    if (nbb_cells[i].input_prompt_number == nbb_cell_id) {\n                        if (nbb_cells[i].get_text() == nbb_unformatted_code) {\n                             nbb_cells[i].set_text(nbb_formatted_code);\n                        }\n                        break;\n                    }\n                }\n            }, 500);\n            ",
      "text/plain": [
       "<IPython.core.display.Javascript object>"
      ]
     },
     "metadata": {},
     "output_type": "display_data"
    }
   ],
   "source": [
    "# group by position and pace and calculate the mean of price\n",
    "df_fastest_players = df_players.groupby(['position', 'pace'])['name'].max().reset_index()\n",
    "\n",
    "# drop na values\n",
    "df_fastest_players.dropna(inplace=True)\n",
    "\n",
    "# drop duplicated values to find the last player with the highest pace\n",
    "df_fastest_players = df_fastest_players.drop_duplicates(subset=['position'], keep='last')\n",
    "\n",
    "# merge to get name and price information\n",
    "df_fastest_players_merged = pd.merge(df_fastest_players, df_players, how='left', left_index=True, right_index=True)\n",
    "\n",
    "# select columns of interest\n",
    "df_fastest_players = df_fastest_players_merged[['position_x', 'pace_x', 'name_x', 'price']]"
   ]
  },
  {
   "cell_type": "code",
   "execution_count": 34,
   "metadata": {},
   "outputs": [
    {
     "name": "stdout",
     "output_type": "stream",
     "text": [
      "This team would cost 3,402,150 (in game currency) to be build. It's fast but isn't cheap.\n"
     ]
    },
    {
     "data": {
      "application/javascript": "\n            setTimeout(function() {\n                var nbb_cell_id = 34;\n                var nbb_unformatted_code = \"print(f\\\"This team would cost {df_fastest_players_merged['price'].sum():,.0f} (in game currency) to be build. It's fast but isn't cheap.\\\")\";\n                var nbb_formatted_code = \"print(\\n    f\\\"This team would cost {df_fastest_players_merged['price'].sum():,.0f} (in game currency) to be build. It's fast but isn't cheap.\\\"\\n)\";\n                var nbb_cells = Jupyter.notebook.get_cells();\n                for (var i = 0; i < nbb_cells.length; ++i) {\n                    if (nbb_cells[i].input_prompt_number == nbb_cell_id) {\n                        if (nbb_cells[i].get_text() == nbb_unformatted_code) {\n                             nbb_cells[i].set_text(nbb_formatted_code);\n                        }\n                        break;\n                    }\n                }\n            }, 500);\n            ",
      "text/plain": [
       "<IPython.core.display.Javascript object>"
      ]
     },
     "metadata": {},
     "output_type": "display_data"
    }
   ],
   "source": [
    "print(f\"This team would cost {df_fastest_players_merged['price'].sum():,.0f} (in game currency) to be build. It's fast but isn't cheap.\")"
   ]
  },
  {
   "attachments": {},
   "cell_type": "markdown",
   "metadata": {},
   "source": [
    "### Most valuable Teams\n",
    "What is the top 10 most expensive teams? What is the mean price of each player of these teams?"
   ]
  },
  {
   "cell_type": "code",
   "execution_count": 35,
   "metadata": {},
   "outputs": [
    {
     "data": {
      "application/javascript": "\n            setTimeout(function() {\n                var nbb_cell_id = 35;\n                var nbb_unformatted_code = \"df_team_expensive_players = df_players.groupby(['team'])\\\\\\n                                        .agg({'price': 'sum',\\n                                              'name': 'count'})\\\\\\n                                        .reset_index()\\\\\\n                                        .sort_values(by='price', ascending=False)\\n\\ndf_team_expensive_players['price_mean'] = (df_team_expensive_players['price'] / df_team_expensive_players['name']).round(0)\\n\\ndf_team_expensive_players = df_team_expensive_players.head()\";\n                var nbb_formatted_code = \"df_team_expensive_players = (\\n    df_players.groupby([\\\"team\\\"])\\n    .agg({\\\"price\\\": \\\"sum\\\", \\\"name\\\": \\\"count\\\"})\\n    .reset_index()\\n    .sort_values(by=\\\"price\\\", ascending=False)\\n)\\n\\ndf_team_expensive_players[\\\"price_mean\\\"] = (\\n    df_team_expensive_players[\\\"price\\\"] / df_team_expensive_players[\\\"name\\\"]\\n).round(0)\\n\\ndf_team_expensive_players = df_team_expensive_players.head()\";\n                var nbb_cells = Jupyter.notebook.get_cells();\n                for (var i = 0; i < nbb_cells.length; ++i) {\n                    if (nbb_cells[i].input_prompt_number == nbb_cell_id) {\n                        if (nbb_cells[i].get_text() == nbb_unformatted_code) {\n                             nbb_cells[i].set_text(nbb_formatted_code);\n                        }\n                        break;\n                    }\n                }\n            }, 500);\n            ",
      "text/plain": [
       "<IPython.core.display.Javascript object>"
      ]
     },
     "metadata": {},
     "output_type": "display_data"
    }
   ],
   "source": [
    "df_team_expensive_players = df_players.groupby(['team'])\\\n",
    "                                        .agg({'price': 'sum',\n",
    "                                              'name': 'count'})\\\n",
    "                                        .reset_index()\\\n",
    "                                        .sort_values(by='price', ascending=False)\n",
    "\n",
    "df_team_expensive_players['price_mean'] = (df_team_expensive_players['price'] / df_team_expensive_players['name']).round(0)\n",
    "\n",
    "df_team_expensive_players = df_team_expensive_players.head()"
   ]
  },
  {
   "cell_type": "code",
   "execution_count": 36,
   "metadata": {},
   "outputs": [
    {
     "name": "stdout",
     "output_type": "stream",
     "text": [
      "The most expensive team is FUT ICONS with 207,023,150 (in game currency) per player.\n",
      "The most expensive team considering the price mean is Paris SG with 1,204,502 (in game currency) per player.\n"
     ]
    },
    {
     "data": {
      "application/javascript": "\n            setTimeout(function() {\n                var nbb_cell_id = 36;\n                var nbb_unformatted_code = \"print(f\\\"The most expensive team is {df_team_expensive_players.iloc[0]['team']} with {df_team_expensive_players.iloc[0]['price']:,.0f} (in game currency) per player.\\\")\\nprint(f\\\"The most expensive team considering the price mean is {df_team_expensive_players.iloc[1]['team']} with {df_team_expensive_players.iloc[1]['price_mean']:,.0f} (in game currency) per player.\\\")\";\n                var nbb_formatted_code = \"print(\\n    f\\\"The most expensive team is {df_team_expensive_players.iloc[0]['team']} with {df_team_expensive_players.iloc[0]['price']:,.0f} (in game currency) per player.\\\"\\n)\\nprint(\\n    f\\\"The most expensive team considering the price mean is {df_team_expensive_players.iloc[1]['team']} with {df_team_expensive_players.iloc[1]['price_mean']:,.0f} (in game currency) per player.\\\"\\n)\";\n                var nbb_cells = Jupyter.notebook.get_cells();\n                for (var i = 0; i < nbb_cells.length; ++i) {\n                    if (nbb_cells[i].input_prompt_number == nbb_cell_id) {\n                        if (nbb_cells[i].get_text() == nbb_unformatted_code) {\n                             nbb_cells[i].set_text(nbb_formatted_code);\n                        }\n                        break;\n                    }\n                }\n            }, 500);\n            ",
      "text/plain": [
       "<IPython.core.display.Javascript object>"
      ]
     },
     "metadata": {},
     "output_type": "display_data"
    }
   ],
   "source": [
    "print(f\"The most expensive team is {df_team_expensive_players.iloc[0]['team']} with {df_team_expensive_players.iloc[0]['price']:,.0f} (in game currency) per player.\")\n",
    "print(f\"The most expensive team considering the price mean is {df_team_expensive_players.iloc[1]['team']} with {df_team_expensive_players.iloc[1]['price_mean']:,.0f} (in game currency) per player.\")"
   ]
  },
  {
   "cell_type": "code",
   "execution_count": 37,
   "metadata": {},
   "outputs": [
    {
     "name": "stdout",
     "output_type": "stream",
     "text": [
      "['FUT ICONS', 'Paris SG', 'HERO', 'Real Madrid', 'Manchester City']\n"
     ]
    },
    {
     "data": {
      "text/plain": [
       "FUT ICONS          392\n",
       "HERO                98\n",
       "Real Madrid         47\n",
       "Manchester City     46\n",
       "Paris SG            40\n",
       "                  ... \n",
       "FC Nantes            0\n",
       "FC Midtjylland       0\n",
       "FC Metz              0\n",
       "FC Lugano            0\n",
       "Zulte Waregem        0\n",
       "Name: team, Length: 310, dtype: int64"
      ]
     },
     "execution_count": 37,
     "metadata": {},
     "output_type": "execute_result"
    },
    {
     "data": {
      "application/javascript": "\n            setTimeout(function() {\n                var nbb_cell_id = 37;\n                var nbb_unformatted_code = \"list_teams = df_team_expensive_players['team'].head(5).values.tolist()\\n\\nprint(list_teams)\\n\\ndf_players_from_most_expensive_teams = df_players[df_players['team']\\\\\\n                                                .isin(list_teams)]\\n\\ndf_players_from_most_expensive_teams['team'].value_counts()\";\n                var nbb_formatted_code = \"list_teams = df_team_expensive_players[\\\"team\\\"].head(5).values.tolist()\\n\\nprint(list_teams)\\n\\ndf_players_from_most_expensive_teams = df_players[df_players[\\\"team\\\"].isin(list_teams)]\\n\\ndf_players_from_most_expensive_teams[\\\"team\\\"].value_counts()\";\n                var nbb_cells = Jupyter.notebook.get_cells();\n                for (var i = 0; i < nbb_cells.length; ++i) {\n                    if (nbb_cells[i].input_prompt_number == nbb_cell_id) {\n                        if (nbb_cells[i].get_text() == nbb_unformatted_code) {\n                             nbb_cells[i].set_text(nbb_formatted_code);\n                        }\n                        break;\n                    }\n                }\n            }, 500);\n            ",
      "text/plain": [
       "<IPython.core.display.Javascript object>"
      ]
     },
     "metadata": {},
     "output_type": "display_data"
    }
   ],
   "source": [
    "list_teams = df_team_expensive_players['team'].head(5).values.tolist()\n",
    "\n",
    "print(list_teams)\n",
    "\n",
    "df_players_from_most_expensive_teams = df_players[df_players['team']\\\n",
    "                                                .isin(list_teams)]\n",
    "\n",
    "df_players_from_most_expensive_teams['team'].value_counts()"
   ]
  },
  {
   "cell_type": "code",
   "execution_count": null,
   "metadata": {},
   "outputs": [],
   "source": [
    "ax = plt.subplots(figsize=(10, 10))\n",
    "\n",
    "ax = sns.scatterplot(data=df_players_from_most_expensive_teams,\n",
    "                        y='price',\n",
    "                        x='rating',\n",
    "                        hue='league')\n",
    "\n",
    "ax.set_yscale(\"log\")\n",
    "\n",
    "plt.setp(ax.get_legend().get_texts(), color='black')\n",
    "plt.setp(ax.get_legend().get_title(), color='black')\n",
    "\n",
    "plt.show()"
   ]
  },
  {
   "cell_type": "code",
   "execution_count": null,
   "metadata": {},
   "outputs": [],
   "source": [
    "df_players['league'].value_counts(normalize=True)"
   ]
  },
  {
   "cell_type": "code",
   "execution_count": null,
   "metadata": {},
   "outputs": [],
   "source": [
    "top_10_leagues = df_players['league'].value_counts().head(10)\n",
    "\n",
    "df_top_league_players = df_players.loc[df_players['league'].isin(top_10_leagues.index)]"
   ]
  },
  {
   "cell_type": "code",
   "execution_count": null,
   "metadata": {},
   "outputs": [],
   "source": [
    "top_10_leagues"
   ]
  },
  {
   "cell_type": "code",
   "execution_count": null,
   "metadata": {},
   "outputs": [],
   "source": [
    "g = sns.catplot(\n",
    "    data=df_top_league_players, y=\"league\", kind=\"count\", edgecolor=\".6\",\n",
    ")\n",
    "\n",
    "ax = g.facet_axis(0, 0)\n",
    "\n",
    "plt.grid(False)\n",
    "\n",
    "ax.set(facecolor = \"white\")\n",
    "\n",
    "for c in ax.containers:\n",
    "    labels = [(round(v.get_width())) for v in c]\n",
    "    ax.bar_label(c, labels=labels, label_type='edge', padding=10, color='black')"
   ]
  },
  {
   "cell_type": "code",
   "execution_count": null,
   "metadata": {},
   "outputs": [],
   "source": [
    "df_top_league_players['country'].value_counts(normalize=True)"
   ]
  },
  {
   "cell_type": "code",
   "execution_count": null,
   "metadata": {},
   "outputs": [],
   "source": [
    "ax = sns.kdeplot(data=df_top_league_players, x=\"rating\", hue='league', \n",
    "                                                warn_singular=False,\n",
    "                                                fill=True\n",
    "                                                )\n",
    "plt.setp(ax.get_legend().get_texts(), color='black')\n",
    "plt.setp(ax.get_legend().get_title(), color='black')\n",
    "\n",
    "plt.show()"
   ]
  },
  {
   "cell_type": "code",
   "execution_count": null,
   "metadata": {},
   "outputs": [],
   "source": [
    "f, ax = plt.subplots(figsize=(8, 8))\n",
    "ax.set_yscale(\"log\")\n",
    "f = sns.boxplot(x='rating',y='price', data=df_players.query('price > 0'))\n"
   ]
  },
  {
   "cell_type": "code",
   "execution_count": null,
   "metadata": {},
   "outputs": [],
   "source": [
    "ax = plt.subplots(figsize=(10, 10))\n",
    "\n",
    "ax = sns.scatterplot(data=df_top_league_players,\n",
    "                        y='price',\n",
    "                        x='rating',\n",
    "                        hue='league')\n",
    "\n",
    "ax.set_yscale(\"log\")\n",
    "\n",
    "plt.setp(ax.get_legend().get_texts(), color='black')\n",
    "plt.setp(ax.get_legend().get_title(), color='black')\n",
    "\n",
    "plt.show()"
   ]
  },
  {
   "cell_type": "code",
   "execution_count": null,
   "metadata": {},
   "outputs": [],
   "source": [
    "df_corr = df_top_league_players[['rating','price', 'weak_foot', 'skill', \n",
    "                                 'pace', 'shoot', 'pass', 'drible', 'defense', 'physical', \n",
    "                                 'height_cm', 'weight_kg', 'popularity', 'base_stats','in_game_stats' ]].dropna().corr()\n",
    "ax = plt.subplots(figsize=(13, 13))\n",
    "\n",
    "ax = sns.heatmap(df_corr, annot=True)\n",
    "\n",
    "plt.show()"
   ]
  },
  {
   "cell_type": "code",
   "execution_count": null,
   "metadata": {},
   "outputs": [],
   "source": [
    "df_top_league_players.query('price > 0')\\\n",
    "                    .groupby('league')['price']\\\n",
    "                    .agg(['mean','max', 'min', 'count'])\\\n",
    "                    .sort_values('mean', ascending=False)"
   ]
  },
  {
   "cell_type": "code",
   "execution_count": null,
   "metadata": {},
   "outputs": [],
   "source": [
    "test = df_top_league_players[['name', 'position', 'pace']]\n",
    "test"
   ]
  },
  {
   "cell_type": "code",
   "execution_count": null,
   "metadata": {},
   "outputs": [],
   "source": [
    "df_top_league_players[['name', 'position', 'pace']]\\\n",
    "                    .sort_values(['pace'], ascending=False)\\\n",
    "                    .drop_duplicates(subset='name', keep='first')\\\n",
    "                    .drop_duplicates(subset='position', keep='first')\n",
    "                    "
   ]
  }
 ],
 "metadata": {
  "kernelspec": {
   "display_name": "Python 3",
   "language": "python",
   "name": "python3"
  },
  "language_info": {
   "codemirror_mode": {
    "name": "ipython",
    "version": 3
   },
   "file_extension": ".py",
   "mimetype": "text/x-python",
   "name": "python",
   "nbconvert_exporter": "python",
   "pygments_lexer": "ipython3",
   "version": "3.10.10"
  },
  "orig_nbformat": 4
 },
 "nbformat": 4,
 "nbformat_minor": 2
}
